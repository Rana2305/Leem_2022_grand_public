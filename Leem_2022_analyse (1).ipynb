{
 "cells": [
  {
   "cell_type": "code",
   "execution_count": 153,
   "metadata": {},
   "outputs": [],
   "source": [
    "import pandas as pd\n",
    "import scipy\n",
    "import pyreadstat\n",
    "import pyshs\n",
    "import matplotlib.pyplot as plt\n",
    "import seaborn as sns\n",
    "import prince\n",
    "import numpy as np"
   ]
  },
  {
   "cell_type": "code",
   "execution_count": 154,
   "metadata": {},
   "outputs": [],
   "source": [
    "pd.set_option('display.max_columns', None)"
   ]
  },
  {
   "cell_type": "code",
   "execution_count": 155,
   "metadata": {},
   "outputs": [],
   "source": [
    "data = pd.read_excel(r\"C:\\Users\\rana_\\OneDrive\\Bureau\\inserm\\travaux\\Leem_2020_2021\\transfer_6262507_files_792d0717\\LEEM - 2021-2020\\LEEM_2022\\transfer_6340865_files_2bffa310\\LEEM 2022\\BDD Grand Public.xlsx\")"
   ]
  },
  {
   "cell_type": "code",
   "execution_count": 156,
   "metadata": {},
   "outputs": [
    {
     "data": {
      "text/html": [
       "<div>\n",
       "<style scoped>\n",
       "    .dataframe tbody tr th:only-of-type {\n",
       "        vertical-align: middle;\n",
       "    }\n",
       "\n",
       "    .dataframe tbody tr th {\n",
       "        vertical-align: top;\n",
       "    }\n",
       "\n",
       "    .dataframe thead th {\n",
       "        text-align: right;\n",
       "    }\n",
       "</style>\n",
       "<table border=\"1\" class=\"dataframe\">\n",
       "  <thead>\n",
       "    <tr style=\"text-align: right;\">\n",
       "      <th></th>\n",
       "      <th>Sexe</th>\n",
       "      <th>Age</th>\n",
       "      <th>Statut</th>\n",
       "      <th>CSP</th>\n",
       "      <th>Catégorie d'agglomération</th>\n",
       "      <th>Région UDA9</th>\n",
       "      <th>Revenus du foyer</th>\n",
       "      <th>Niveau de diplôme</th>\n",
       "      <th>L1 (Du pétrole)</th>\n",
       "      <th>L1 (De la grande distribution)</th>\n",
       "      <th>L1 (Des télécommunications du numérique )</th>\n",
       "      <th>L1 (De l’agro-alimentaire)</th>\n",
       "      <th>L1 (Du médicament)</th>\n",
       "      <th>L1 (De la banque et de l’assurance)</th>\n",
       "      <th>L1 (Du bâtiment et des travaux publics)</th>\n",
       "      <th>L1 (De l’automobile)</th>\n",
       "      <th>L1 (Du nucléaire)</th>\n",
       "      <th>L1 (De l’aéronautique et aérospatial)</th>\n",
       "      <th>L1 (De la chimie)</th>\n",
       "      <th>L2</th>\n",
       "      <th>L3 (Pour la santé de la population française)</th>\n",
       "      <th>L3 (Pour l’économie et la souveraineté sanitaire d</th>\n",
       "      <th>L4</th>\n",
       "      <th>L5</th>\n",
       "      <th>L6</th>\n",
       "      <th>L7</th>\n",
       "      <th>L8 (Fournissent des médicaments de qualité et efficaces)</th>\n",
       "      <th>L8 (Contribuent fortement aux progrès et avancées dans le traitement des maladies)</th>\n",
       "      <th>L8 (Contribuent à l’autonomie sanitaire de la France )</th>\n",
       "      <th>L8 (Jouent un rôle important dans l’augmentation de l’espérance et la qualité de vie des patients )</th>\n",
       "      <th>L8 (Sont indispensables au bon fonctionnement du système de santé)</th>\n",
       "      <th>L8 (Contribuent à la croissance économique de la France)</th>\n",
       "      <th>L8 (Sont une source importante d’emplois en France )</th>\n",
       "      <th>L8 (Sont un secteur stratégique essentiel pour la France )</th>\n",
       "      <th>L8 (Participent à l’animation du tissu économique dans les territoires et les régions )</th>\n",
       "      <th>L8 (Emploient des collaborateurs (et collaboratrices) compétent(e)s )</th>\n",
       "      <th>L8 (Luttent efficacement contre les pénuries de médicaments )</th>\n",
       "      <th>L8 (Agissent pour que les médicaments innovants soient plus rapidement disponibles )</th>\n",
       "      <th>L8 (Œuvrent à l’intérêt général)</th>\n",
       "      <th>L8 (Facilitent l’accès du plus grand nombre aux médicaments )</th>\n",
       "      <th>L8 (Sont attentives à leur impact sur l’environnement )</th>\n",
       "      <th>L8 (Agissent de manière éthique et intègre )</th>\n",
       "      <th>L8 (Agissent de manière transparente )</th>\n",
       "      <th>L8 (Placent les patients au cœur de leurs priorités )</th>\n",
       "      <th>L8 (Laissent les professionnels de santé libres dans leurs prescriptions, sans chercher à les influencer )</th>\n",
       "      <th>L8 (Proposent des médicaments à des prix justes et adaptés )</th>\n",
       "      <th>L9</th>\n",
       "      <th>L10</th>\n",
       "      <th>L11</th>\n",
       "    </tr>\n",
       "  </thead>\n",
       "  <tbody>\n",
       "    <tr>\n",
       "      <th>0</th>\n",
       "      <td>Une femme</td>\n",
       "      <td>25-34 ans</td>\n",
       "      <td>Salarié du secteur privé</td>\n",
       "      <td>Employé</td>\n",
       "      <td>100 000 hab et plus</td>\n",
       "      <td>Est</td>\n",
       "      <td>De 1 500 à 1 999 euros</td>\n",
       "      <td>CAP, BEP</td>\n",
       "      <td>Plutôt confiance</td>\n",
       "      <td>Tout à fait confiance</td>\n",
       "      <td>Plutôt pas confiance</td>\n",
       "      <td>Plutôt pas confiance</td>\n",
       "      <td>Plutôt pas confiance</td>\n",
       "      <td>Plutôt confiance</td>\n",
       "      <td>Plutôt pas confiance</td>\n",
       "      <td>Tout à fait confiance</td>\n",
       "      <td>Plutôt confiance</td>\n",
       "      <td>Plutôt confiance</td>\n",
       "      <td>Plutôt confiance</td>\n",
       "      <td>Très utiles</td>\n",
       "      <td>Oui</td>\n",
       "      <td>Oui</td>\n",
       "      <td>Plutôt confiance</td>\n",
       "      <td>Plutôt pas confiance</td>\n",
       "      <td>Oui, probablement</td>\n",
       "      <td>NaN</td>\n",
       "      <td>Non, plutôt pas</td>\n",
       "      <td>Non, plutôt pas</td>\n",
       "      <td>Non, plutôt pas</td>\n",
       "      <td>Non, plutôt pas</td>\n",
       "      <td>Non, plutôt pas</td>\n",
       "      <td>Non, pas du tout</td>\n",
       "      <td>Non, pas du tout</td>\n",
       "      <td>Non, plutôt pas</td>\n",
       "      <td>Non, pas du tout</td>\n",
       "      <td>Non, pas du tout</td>\n",
       "      <td>Non, plutôt pas</td>\n",
       "      <td>Non, plutôt pas</td>\n",
       "      <td>Non, plutôt pas</td>\n",
       "      <td>Non, plutôt pas</td>\n",
       "      <td>Oui, plutôt</td>\n",
       "      <td>Non, pas du tout</td>\n",
       "      <td>Non, plutôt pas</td>\n",
       "      <td>Non, plutôt pas</td>\n",
       "      <td>Vous ne savez pas</td>\n",
       "      <td>Non, pas du tout</td>\n",
       "      <td>Non probablement pas</td>\n",
       "      <td>Assez facile</td>\n",
       "      <td>Assez dépendantes</td>\n",
       "    </tr>\n",
       "    <tr>\n",
       "      <th>1</th>\n",
       "      <td>Une femme</td>\n",
       "      <td>18-24 ans</td>\n",
       "      <td>Salarié du secteur privé</td>\n",
       "      <td>Employé</td>\n",
       "      <td>Agglomération parisienne</td>\n",
       "      <td>Région Parisienne</td>\n",
       "      <td>De 4 500 à 5 999 euros</td>\n",
       "      <td>BAC+2</td>\n",
       "      <td>Tout à fait confiance</td>\n",
       "      <td>Plutôt confiance</td>\n",
       "      <td>Plutôt confiance</td>\n",
       "      <td>Plutôt confiance</td>\n",
       "      <td>Plutôt confiance</td>\n",
       "      <td>Plutôt confiance</td>\n",
       "      <td>Plutôt confiance</td>\n",
       "      <td>Plutôt confiance</td>\n",
       "      <td>Plutôt confiance</td>\n",
       "      <td>Plutôt confiance</td>\n",
       "      <td>Plutôt confiance</td>\n",
       "      <td>Plutôt utiles</td>\n",
       "      <td>Oui</td>\n",
       "      <td>Oui</td>\n",
       "      <td>Plutôt confiance</td>\n",
       "      <td>Plutôt confiance</td>\n",
       "      <td>Oui, probablement</td>\n",
       "      <td>NaN</td>\n",
       "      <td>Oui, plutôt</td>\n",
       "      <td>Oui, plutôt</td>\n",
       "      <td>Oui, plutôt</td>\n",
       "      <td>Oui, plutôt</td>\n",
       "      <td>Oui, plutôt</td>\n",
       "      <td>Oui, plutôt</td>\n",
       "      <td>Non, plutôt pas</td>\n",
       "      <td>Oui, plutôt</td>\n",
       "      <td>Oui, plutôt</td>\n",
       "      <td>Oui, plutôt</td>\n",
       "      <td>Non, plutôt pas</td>\n",
       "      <td>Oui, plutôt</td>\n",
       "      <td>Oui, plutôt</td>\n",
       "      <td>Oui, plutôt</td>\n",
       "      <td>Oui, plutôt</td>\n",
       "      <td>Oui, plutôt</td>\n",
       "      <td>Vous ne savez pas</td>\n",
       "      <td>Oui, plutôt</td>\n",
       "      <td>Vous ne savez pas</td>\n",
       "      <td>Oui, plutôt</td>\n",
       "      <td>Non probablement pas</td>\n",
       "      <td>Très facile</td>\n",
       "      <td>Assez dépendantes</td>\n",
       "    </tr>\n",
       "    <tr>\n",
       "      <th>2</th>\n",
       "      <td>Un homme</td>\n",
       "      <td>35-49 ans</td>\n",
       "      <td>Salarié du secteur privé</td>\n",
       "      <td>Ouvrier</td>\n",
       "      <td>Rural</td>\n",
       "      <td>Ouest</td>\n",
       "      <td>Vous ne savez pas / refus / ne veut pas dire</td>\n",
       "      <td>CAP, BEP</td>\n",
       "      <td>Plutôt confiance</td>\n",
       "      <td>Plutôt confiance</td>\n",
       "      <td>Plutôt confiance</td>\n",
       "      <td>Plutôt confiance</td>\n",
       "      <td>Plutôt confiance</td>\n",
       "      <td>Plutôt confiance</td>\n",
       "      <td>Plutôt confiance</td>\n",
       "      <td>Plutôt confiance</td>\n",
       "      <td>Plutôt confiance</td>\n",
       "      <td>Plutôt confiance</td>\n",
       "      <td>Plutôt confiance</td>\n",
       "      <td>Plutôt utiles</td>\n",
       "      <td>Oui</td>\n",
       "      <td>Oui</td>\n",
       "      <td>Plutôt confiance</td>\n",
       "      <td>Pas du tout confiance</td>\n",
       "      <td>Oui, probablement</td>\n",
       "      <td>NaN</td>\n",
       "      <td>Non, plutôt pas</td>\n",
       "      <td>Oui, plutôt</td>\n",
       "      <td>Oui, plutôt</td>\n",
       "      <td>Oui, tout à fait</td>\n",
       "      <td>Oui, tout à fait</td>\n",
       "      <td>Oui, plutôt</td>\n",
       "      <td>NaN</td>\n",
       "      <td>Non, plutôt pas</td>\n",
       "      <td>Non, plutôt pas</td>\n",
       "      <td>Oui, plutôt</td>\n",
       "      <td>Non, plutôt pas</td>\n",
       "      <td>Non, pas du tout</td>\n",
       "      <td>Oui, plutôt</td>\n",
       "      <td>Non, plutôt pas</td>\n",
       "      <td>Non, plutôt pas</td>\n",
       "      <td>Non, plutôt pas</td>\n",
       "      <td>Oui, plutôt</td>\n",
       "      <td>Oui, plutôt</td>\n",
       "      <td>Oui, plutôt</td>\n",
       "      <td>Non, plutôt pas</td>\n",
       "      <td>Non probablement pas</td>\n",
       "      <td>Assez facile</td>\n",
       "      <td>Assez dépendantes</td>\n",
       "    </tr>\n",
       "    <tr>\n",
       "      <th>3</th>\n",
       "      <td>Une femme</td>\n",
       "      <td>50-64 ans</td>\n",
       "      <td>A votre compte</td>\n",
       "      <td>Agriculteur, indépendant, chef d'entreprise</td>\n",
       "      <td>100 000 hab et plus</td>\n",
       "      <td>Sud Est</td>\n",
       "      <td>De 2 500 à 2 999 euros</td>\n",
       "      <td>CAP, BEP</td>\n",
       "      <td>Pas du tout confiance</td>\n",
       "      <td>Plutôt pas confiance</td>\n",
       "      <td>Plutôt confiance</td>\n",
       "      <td>Plutôt pas confiance</td>\n",
       "      <td>Pas du tout confiance</td>\n",
       "      <td>Plutôt pas confiance</td>\n",
       "      <td>Plutôt confiance</td>\n",
       "      <td>Plutôt confiance</td>\n",
       "      <td>Plutôt pas confiance</td>\n",
       "      <td>Plutôt confiance</td>\n",
       "      <td>Plutôt pas confiance</td>\n",
       "      <td>Plutôt utiles</td>\n",
       "      <td>Oui</td>\n",
       "      <td>Oui</td>\n",
       "      <td>Plutôt confiance</td>\n",
       "      <td>Plutôt confiance</td>\n",
       "      <td>Oui, probablement</td>\n",
       "      <td>NaN</td>\n",
       "      <td>Oui, plutôt</td>\n",
       "      <td>Oui, plutôt</td>\n",
       "      <td>Non, plutôt pas</td>\n",
       "      <td>Oui, plutôt</td>\n",
       "      <td>Oui, plutôt</td>\n",
       "      <td>Non, plutôt pas</td>\n",
       "      <td>Non, plutôt pas</td>\n",
       "      <td>Oui, plutôt</td>\n",
       "      <td>Non, plutôt pas</td>\n",
       "      <td>Oui, plutôt</td>\n",
       "      <td>Non, pas du tout</td>\n",
       "      <td>Non, plutôt pas</td>\n",
       "      <td>Non, pas du tout</td>\n",
       "      <td>Non, plutôt pas</td>\n",
       "      <td>Non, pas du tout</td>\n",
       "      <td>Non, pas du tout</td>\n",
       "      <td>Non, pas du tout</td>\n",
       "      <td>Non, pas du tout</td>\n",
       "      <td>Non, plutôt pas</td>\n",
       "      <td>Non, pas du tout</td>\n",
       "      <td>Non probablement pas</td>\n",
       "      <td>Assez difficile</td>\n",
       "      <td>Très dépendantes</td>\n",
       "    </tr>\n",
       "    <tr>\n",
       "      <th>4</th>\n",
       "      <td>Un homme</td>\n",
       "      <td>18-24 ans</td>\n",
       "      <td>Inscrit à pôle emploi</td>\n",
       "      <td>Autre inactif</td>\n",
       "      <td>Agglomération parisienne</td>\n",
       "      <td>Région Parisienne</td>\n",
       "      <td>Vous ne savez pas / refus / ne veut pas dire</td>\n",
       "      <td>BAC+3 et plus</td>\n",
       "      <td>Pas du tout confiance</td>\n",
       "      <td>Plutôt pas confiance</td>\n",
       "      <td>Plutôt pas confiance</td>\n",
       "      <td>Plutôt confiance</td>\n",
       "      <td>Plutôt confiance</td>\n",
       "      <td>Plutôt confiance</td>\n",
       "      <td>Plutôt confiance</td>\n",
       "      <td>Plutôt pas confiance</td>\n",
       "      <td>Pas du tout confiance</td>\n",
       "      <td>Tout à fait confiance</td>\n",
       "      <td>Plutôt pas confiance</td>\n",
       "      <td>Plutôt utiles</td>\n",
       "      <td>Oui</td>\n",
       "      <td>Oui</td>\n",
       "      <td>Plutôt confiance</td>\n",
       "      <td>Plutôt pas confiance</td>\n",
       "      <td>Non, probablement pas</td>\n",
       "      <td>Se vacciner ne sert pas à grand-chose ,Vous pe...</td>\n",
       "      <td>Oui, plutôt</td>\n",
       "      <td>Oui, plutôt</td>\n",
       "      <td>Oui, plutôt</td>\n",
       "      <td>Oui, plutôt</td>\n",
       "      <td>Vous ne savez pas</td>\n",
       "      <td>Vous ne savez pas</td>\n",
       "      <td>Vous ne savez pas</td>\n",
       "      <td>Oui, plutôt</td>\n",
       "      <td>Vous ne savez pas</td>\n",
       "      <td>Oui, plutôt</td>\n",
       "      <td>Oui, plutôt</td>\n",
       "      <td>Oui, plutôt</td>\n",
       "      <td>Vous ne savez pas</td>\n",
       "      <td>Vous ne savez pas</td>\n",
       "      <td>Oui, plutôt</td>\n",
       "      <td>Oui, plutôt</td>\n",
       "      <td>Oui, plutôt</td>\n",
       "      <td>Oui, plutôt</td>\n",
       "      <td>Vous ne savez pas</td>\n",
       "      <td>Vous ne savez pas</td>\n",
       "      <td>Non probablement pas</td>\n",
       "      <td>Assez facile</td>\n",
       "      <td>Assez dépendantes</td>\n",
       "    </tr>\n",
       "    <tr>\n",
       "      <th>...</th>\n",
       "      <td>...</td>\n",
       "      <td>...</td>\n",
       "      <td>...</td>\n",
       "      <td>...</td>\n",
       "      <td>...</td>\n",
       "      <td>...</td>\n",
       "      <td>...</td>\n",
       "      <td>...</td>\n",
       "      <td>...</td>\n",
       "      <td>...</td>\n",
       "      <td>...</td>\n",
       "      <td>...</td>\n",
       "      <td>...</td>\n",
       "      <td>...</td>\n",
       "      <td>...</td>\n",
       "      <td>...</td>\n",
       "      <td>...</td>\n",
       "      <td>...</td>\n",
       "      <td>...</td>\n",
       "      <td>...</td>\n",
       "      <td>...</td>\n",
       "      <td>...</td>\n",
       "      <td>...</td>\n",
       "      <td>...</td>\n",
       "      <td>...</td>\n",
       "      <td>...</td>\n",
       "      <td>...</td>\n",
       "      <td>...</td>\n",
       "      <td>...</td>\n",
       "      <td>...</td>\n",
       "      <td>...</td>\n",
       "      <td>...</td>\n",
       "      <td>...</td>\n",
       "      <td>...</td>\n",
       "      <td>...</td>\n",
       "      <td>...</td>\n",
       "      <td>...</td>\n",
       "      <td>...</td>\n",
       "      <td>...</td>\n",
       "      <td>...</td>\n",
       "      <td>...</td>\n",
       "      <td>...</td>\n",
       "      <td>...</td>\n",
       "      <td>...</td>\n",
       "      <td>...</td>\n",
       "      <td>...</td>\n",
       "      <td>...</td>\n",
       "      <td>...</td>\n",
       "      <td>...</td>\n",
       "    </tr>\n",
       "    <tr>\n",
       "      <th>999</th>\n",
       "      <td>Une femme</td>\n",
       "      <td>25-34 ans</td>\n",
       "      <td>Salarié du secteur privé</td>\n",
       "      <td>Employé</td>\n",
       "      <td>Moins de 20 000 hab</td>\n",
       "      <td>Sud Est</td>\n",
       "      <td>De 4 500 à 5 999 euros</td>\n",
       "      <td>BAC+3 et plus</td>\n",
       "      <td>Plutôt confiance</td>\n",
       "      <td>Plutôt confiance</td>\n",
       "      <td>Plutôt confiance</td>\n",
       "      <td>Plutôt confiance</td>\n",
       "      <td>Plutôt confiance</td>\n",
       "      <td>Plutôt confiance</td>\n",
       "      <td>Plutôt confiance</td>\n",
       "      <td>Plutôt confiance</td>\n",
       "      <td>Plutôt confiance</td>\n",
       "      <td>Tout à fait confiance</td>\n",
       "      <td>Plutôt confiance</td>\n",
       "      <td>Très utiles</td>\n",
       "      <td>Oui</td>\n",
       "      <td>Oui</td>\n",
       "      <td>Plutôt confiance</td>\n",
       "      <td>Plutôt confiance</td>\n",
       "      <td>Oui, probablement</td>\n",
       "      <td>NaN</td>\n",
       "      <td>Oui, plutôt</td>\n",
       "      <td>Oui, plutôt</td>\n",
       "      <td>Oui, plutôt</td>\n",
       "      <td>Oui, tout à fait</td>\n",
       "      <td>Oui, tout à fait</td>\n",
       "      <td>Oui, plutôt</td>\n",
       "      <td>Oui, plutôt</td>\n",
       "      <td>Oui, plutôt</td>\n",
       "      <td>Oui, plutôt</td>\n",
       "      <td>Oui, plutôt</td>\n",
       "      <td>Oui, plutôt</td>\n",
       "      <td>Oui, plutôt</td>\n",
       "      <td>Oui, plutôt</td>\n",
       "      <td>Oui, plutôt</td>\n",
       "      <td>Non, plutôt pas</td>\n",
       "      <td>Vous ne savez pas</td>\n",
       "      <td>Vous ne savez pas</td>\n",
       "      <td>Vous ne savez pas</td>\n",
       "      <td>Vous ne savez pas</td>\n",
       "      <td>Vous ne savez pas</td>\n",
       "      <td>Oui probablement</td>\n",
       "      <td>Très facile</td>\n",
       "      <td>Assez peu dépendantes</td>\n",
       "    </tr>\n",
       "    <tr>\n",
       "      <th>1000</th>\n",
       "      <td>Un homme</td>\n",
       "      <td>25-34 ans</td>\n",
       "      <td>Salarié du secteur privé</td>\n",
       "      <td>Employé</td>\n",
       "      <td>100 000 hab et plus</td>\n",
       "      <td>Est</td>\n",
       "      <td>Vous ne savez pas / refus / ne veut pas dire</td>\n",
       "      <td>BAC+3 et plus</td>\n",
       "      <td>Plutôt pas confiance</td>\n",
       "      <td>Plutôt pas confiance</td>\n",
       "      <td>Plutôt confiance</td>\n",
       "      <td>Plutôt pas confiance</td>\n",
       "      <td>Plutôt confiance</td>\n",
       "      <td>Plutôt confiance</td>\n",
       "      <td>Plutôt confiance</td>\n",
       "      <td>Plutôt confiance</td>\n",
       "      <td>Plutôt pas confiance</td>\n",
       "      <td>Plutôt pas confiance</td>\n",
       "      <td>Plutôt pas confiance</td>\n",
       "      <td>Très utiles</td>\n",
       "      <td>Oui</td>\n",
       "      <td>Oui</td>\n",
       "      <td>Plutôt confiance</td>\n",
       "      <td>Plutôt pas confiance</td>\n",
       "      <td>Non, certainement pas</td>\n",
       "      <td>Vous craignez la répétition des vaccins (effet...</td>\n",
       "      <td>Oui, plutôt</td>\n",
       "      <td>Oui, plutôt</td>\n",
       "      <td>Oui, plutôt</td>\n",
       "      <td>Oui, plutôt</td>\n",
       "      <td>Oui, plutôt</td>\n",
       "      <td>Oui, plutôt</td>\n",
       "      <td>Oui, plutôt</td>\n",
       "      <td>Oui, plutôt</td>\n",
       "      <td>Oui, plutôt</td>\n",
       "      <td>Oui, plutôt</td>\n",
       "      <td>Oui, plutôt</td>\n",
       "      <td>Oui, plutôt</td>\n",
       "      <td>Oui, plutôt</td>\n",
       "      <td>Oui, plutôt</td>\n",
       "      <td>Oui, plutôt</td>\n",
       "      <td>Oui, plutôt</td>\n",
       "      <td>Oui, plutôt</td>\n",
       "      <td>Oui, plutôt</td>\n",
       "      <td>Oui, plutôt</td>\n",
       "      <td>Oui, plutôt</td>\n",
       "      <td>Vous ne savez pas</td>\n",
       "      <td>Assez facile</td>\n",
       "      <td>Assez peu dépendantes</td>\n",
       "    </tr>\n",
       "    <tr>\n",
       "      <th>1001</th>\n",
       "      <td>Un homme</td>\n",
       "      <td>65 ans et +</td>\n",
       "      <td>Inactif (retraité, élève, étudiant, autre inac...</td>\n",
       "      <td>Retraité</td>\n",
       "      <td>100 000 hab et plus</td>\n",
       "      <td>Ouest</td>\n",
       "      <td>De 2 500 à 2 999 euros</td>\n",
       "      <td>Brevet des collèges</td>\n",
       "      <td>Plutôt confiance</td>\n",
       "      <td>Plutôt pas confiance</td>\n",
       "      <td>Plutôt pas confiance</td>\n",
       "      <td>Plutôt confiance</td>\n",
       "      <td>Plutôt pas confiance</td>\n",
       "      <td>Pas du tout confiance</td>\n",
       "      <td>Plutôt confiance</td>\n",
       "      <td>Plutôt pas confiance</td>\n",
       "      <td>Plutôt confiance</td>\n",
       "      <td>Plutôt confiance</td>\n",
       "      <td>Plutôt pas confiance</td>\n",
       "      <td>Plutôt utiles</td>\n",
       "      <td>Oui</td>\n",
       "      <td>Oui</td>\n",
       "      <td>Plutôt confiance</td>\n",
       "      <td>Plutôt confiance</td>\n",
       "      <td>Oui, probablement</td>\n",
       "      <td>NaN</td>\n",
       "      <td>Vous ne savez pas</td>\n",
       "      <td>Oui, plutôt</td>\n",
       "      <td>Oui, plutôt</td>\n",
       "      <td>Oui, plutôt</td>\n",
       "      <td>Oui, tout à fait</td>\n",
       "      <td>Oui, plutôt</td>\n",
       "      <td>Oui, plutôt</td>\n",
       "      <td>Oui, plutôt</td>\n",
       "      <td>Oui, plutôt</td>\n",
       "      <td>Oui, plutôt</td>\n",
       "      <td>Oui, plutôt</td>\n",
       "      <td>Vous ne savez pas</td>\n",
       "      <td>Oui, plutôt</td>\n",
       "      <td>Oui, plutôt</td>\n",
       "      <td>Non, plutôt pas</td>\n",
       "      <td>Non, plutôt pas</td>\n",
       "      <td>Non, plutôt pas</td>\n",
       "      <td>Oui, plutôt</td>\n",
       "      <td>Non, plutôt pas</td>\n",
       "      <td>Non, pas du tout</td>\n",
       "      <td>Vous ne savez pas</td>\n",
       "      <td>Assez facile</td>\n",
       "      <td>Assez dépendantes</td>\n",
       "    </tr>\n",
       "    <tr>\n",
       "      <th>1002</th>\n",
       "      <td>Un homme</td>\n",
       "      <td>18-24 ans</td>\n",
       "      <td>Inactif (retraité, élève, étudiant, autre inac...</td>\n",
       "      <td>Elève / étudiant</td>\n",
       "      <td>100 000 hab et plus</td>\n",
       "      <td>Nord</td>\n",
       "      <td>Moins de 499 euros</td>\n",
       "      <td>BAC+2</td>\n",
       "      <td>Plutôt pas confiance</td>\n",
       "      <td>Plutôt confiance</td>\n",
       "      <td>Plutôt pas confiance</td>\n",
       "      <td>Plutôt pas confiance</td>\n",
       "      <td>Plutôt confiance</td>\n",
       "      <td>Plutôt pas confiance</td>\n",
       "      <td>Plutôt confiance</td>\n",
       "      <td>Plutôt pas confiance</td>\n",
       "      <td>Plutôt confiance</td>\n",
       "      <td>Plutôt confiance</td>\n",
       "      <td>Plutôt confiance</td>\n",
       "      <td>Très utiles</td>\n",
       "      <td>Non</td>\n",
       "      <td>Oui</td>\n",
       "      <td>Plutôt pas confiance</td>\n",
       "      <td>Plutôt confiance</td>\n",
       "      <td>Oui, probablement</td>\n",
       "      <td>NaN</td>\n",
       "      <td>Oui, plutôt</td>\n",
       "      <td>Non, pas du tout</td>\n",
       "      <td>Oui, plutôt</td>\n",
       "      <td>Non, plutôt pas</td>\n",
       "      <td>Non, pas du tout</td>\n",
       "      <td>Vous ne savez pas</td>\n",
       "      <td>Vous ne savez pas</td>\n",
       "      <td>Oui, plutôt</td>\n",
       "      <td>Oui, plutôt</td>\n",
       "      <td>Oui, tout à fait</td>\n",
       "      <td>Oui, plutôt</td>\n",
       "      <td>Oui, plutôt</td>\n",
       "      <td>Oui, plutôt</td>\n",
       "      <td>Non, plutôt pas</td>\n",
       "      <td>Vous ne savez pas</td>\n",
       "      <td>Oui, tout à fait</td>\n",
       "      <td>Vous ne savez pas</td>\n",
       "      <td>Oui, plutôt</td>\n",
       "      <td>Oui, tout à fait</td>\n",
       "      <td>Oui, plutôt</td>\n",
       "      <td>Non probablement pas</td>\n",
       "      <td>Très facile</td>\n",
       "      <td>Assez dépendantes</td>\n",
       "    </tr>\n",
       "    <tr>\n",
       "      <th>1003</th>\n",
       "      <td>Une femme</td>\n",
       "      <td>25-34 ans</td>\n",
       "      <td>Salarié du secteur privé</td>\n",
       "      <td>Profession intermédiaire</td>\n",
       "      <td>Agglomération parisienne</td>\n",
       "      <td>Région Parisienne</td>\n",
       "      <td>De 2 000 à 2 499 euros</td>\n",
       "      <td>BAC+2</td>\n",
       "      <td>Plutôt pas confiance</td>\n",
       "      <td>Plutôt pas confiance</td>\n",
       "      <td>Plutôt pas confiance</td>\n",
       "      <td>Plutôt pas confiance</td>\n",
       "      <td>Plutôt pas confiance</td>\n",
       "      <td>Plutôt pas confiance</td>\n",
       "      <td>Plutôt pas confiance</td>\n",
       "      <td>Plutôt pas confiance</td>\n",
       "      <td>Pas du tout confiance</td>\n",
       "      <td>Plutôt confiance</td>\n",
       "      <td>Plutôt confiance</td>\n",
       "      <td>Plutôt utiles</td>\n",
       "      <td>Oui</td>\n",
       "      <td>Non</td>\n",
       "      <td>Plutôt confiance</td>\n",
       "      <td>Plutôt confiance</td>\n",
       "      <td>Oui, probablement</td>\n",
       "      <td>NaN</td>\n",
       "      <td>Oui, plutôt</td>\n",
       "      <td>Oui, plutôt</td>\n",
       "      <td>Non, plutôt pas</td>\n",
       "      <td>Oui, plutôt</td>\n",
       "      <td>Non, plutôt pas</td>\n",
       "      <td>Vous ne savez pas</td>\n",
       "      <td>Oui, plutôt</td>\n",
       "      <td>Oui, plutôt</td>\n",
       "      <td>Vous ne savez pas</td>\n",
       "      <td>Oui, plutôt</td>\n",
       "      <td>Non, pas du tout</td>\n",
       "      <td>Non, plutôt pas</td>\n",
       "      <td>Non, plutôt pas</td>\n",
       "      <td>Non, plutôt pas</td>\n",
       "      <td>Non, pas du tout</td>\n",
       "      <td>Oui, plutôt</td>\n",
       "      <td>Non, plutôt pas</td>\n",
       "      <td>Non, plutôt pas</td>\n",
       "      <td>Non, pas du tout</td>\n",
       "      <td>Non, pas du tout</td>\n",
       "      <td>Oui probablement</td>\n",
       "      <td>Assez difficile</td>\n",
       "      <td>Assez peu dépendantes</td>\n",
       "    </tr>\n",
       "  </tbody>\n",
       "</table>\n",
       "<p>1004 rows × 49 columns</p>\n",
       "</div>"
      ],
      "text/plain": [
       "           Sexe          Age  \\\n",
       "0     Une femme    25-34 ans   \n",
       "1     Une femme    18-24 ans   \n",
       "2      Un homme    35-49 ans   \n",
       "3     Une femme    50-64 ans   \n",
       "4      Un homme    18-24 ans   \n",
       "...         ...          ...   \n",
       "999   Une femme    25-34 ans   \n",
       "1000   Un homme    25-34 ans   \n",
       "1001   Un homme  65 ans et +   \n",
       "1002   Un homme    18-24 ans   \n",
       "1003  Une femme    25-34 ans   \n",
       "\n",
       "                                                 Statut  \\\n",
       "0                              Salarié du secteur privé   \n",
       "1                              Salarié du secteur privé   \n",
       "2                              Salarié du secteur privé   \n",
       "3                                        A votre compte   \n",
       "4                                 Inscrit à pôle emploi   \n",
       "...                                                 ...   \n",
       "999                            Salarié du secteur privé   \n",
       "1000                           Salarié du secteur privé   \n",
       "1001  Inactif (retraité, élève, étudiant, autre inac...   \n",
       "1002  Inactif (retraité, élève, étudiant, autre inac...   \n",
       "1003                           Salarié du secteur privé   \n",
       "\n",
       "                                              CSP Catégorie d'agglomération  \\\n",
       "0                                         Employé       100 000 hab et plus   \n",
       "1                                         Employé  Agglomération parisienne   \n",
       "2                                         Ouvrier                     Rural   \n",
       "3     Agriculteur, indépendant, chef d'entreprise       100 000 hab et plus   \n",
       "4                                   Autre inactif  Agglomération parisienne   \n",
       "...                                           ...                       ...   \n",
       "999                                       Employé       Moins de 20 000 hab   \n",
       "1000                                      Employé       100 000 hab et plus   \n",
       "1001                                     Retraité       100 000 hab et plus   \n",
       "1002                             Elève / étudiant       100 000 hab et plus   \n",
       "1003                     Profession intermédiaire  Agglomération parisienne   \n",
       "\n",
       "            Région UDA9                              Revenus du foyer  \\\n",
       "0                   Est                        De 1 500 à 1 999 euros   \n",
       "1     Région Parisienne                        De 4 500 à 5 999 euros   \n",
       "2                 Ouest  Vous ne savez pas / refus / ne veut pas dire   \n",
       "3               Sud Est                        De 2 500 à 2 999 euros   \n",
       "4     Région Parisienne  Vous ne savez pas / refus / ne veut pas dire   \n",
       "...                 ...                                           ...   \n",
       "999             Sud Est                        De 4 500 à 5 999 euros   \n",
       "1000                Est  Vous ne savez pas / refus / ne veut pas dire   \n",
       "1001              Ouest                        De 2 500 à 2 999 euros   \n",
       "1002               Nord                            Moins de 499 euros   \n",
       "1003  Région Parisienne                        De 2 000 à 2 499 euros   \n",
       "\n",
       "        Niveau de diplôme        L1 (Du pétrole)  \\\n",
       "0                CAP, BEP       Plutôt confiance   \n",
       "1                   BAC+2  Tout à fait confiance   \n",
       "2                CAP, BEP       Plutôt confiance   \n",
       "3                CAP, BEP  Pas du tout confiance   \n",
       "4           BAC+3 et plus  Pas du tout confiance   \n",
       "...                   ...                    ...   \n",
       "999         BAC+3 et plus       Plutôt confiance   \n",
       "1000        BAC+3 et plus   Plutôt pas confiance   \n",
       "1001  Brevet des collèges       Plutôt confiance   \n",
       "1002                BAC+2   Plutôt pas confiance   \n",
       "1003                BAC+2   Plutôt pas confiance   \n",
       "\n",
       "     L1 (De la grande distribution) L1 (Des télécommunications du numérique )  \\\n",
       "0             Tout à fait confiance                      Plutôt pas confiance   \n",
       "1                  Plutôt confiance                          Plutôt confiance   \n",
       "2                  Plutôt confiance                          Plutôt confiance   \n",
       "3              Plutôt pas confiance                          Plutôt confiance   \n",
       "4              Plutôt pas confiance                      Plutôt pas confiance   \n",
       "...                             ...                                       ...   \n",
       "999                Plutôt confiance                          Plutôt confiance   \n",
       "1000           Plutôt pas confiance                          Plutôt confiance   \n",
       "1001           Plutôt pas confiance                      Plutôt pas confiance   \n",
       "1002               Plutôt confiance                      Plutôt pas confiance   \n",
       "1003           Plutôt pas confiance                      Plutôt pas confiance   \n",
       "\n",
       "     L1 (De l’agro-alimentaire)     L1 (Du médicament)  \\\n",
       "0          Plutôt pas confiance   Plutôt pas confiance   \n",
       "1              Plutôt confiance       Plutôt confiance   \n",
       "2              Plutôt confiance       Plutôt confiance   \n",
       "3          Plutôt pas confiance  Pas du tout confiance   \n",
       "4              Plutôt confiance       Plutôt confiance   \n",
       "...                         ...                    ...   \n",
       "999            Plutôt confiance       Plutôt confiance   \n",
       "1000       Plutôt pas confiance       Plutôt confiance   \n",
       "1001           Plutôt confiance   Plutôt pas confiance   \n",
       "1002       Plutôt pas confiance       Plutôt confiance   \n",
       "1003       Plutôt pas confiance   Plutôt pas confiance   \n",
       "\n",
       "     L1 (De la banque et de l’assurance)  \\\n",
       "0                       Plutôt confiance   \n",
       "1                       Plutôt confiance   \n",
       "2                       Plutôt confiance   \n",
       "3                   Plutôt pas confiance   \n",
       "4                       Plutôt confiance   \n",
       "...                                  ...   \n",
       "999                     Plutôt confiance   \n",
       "1000                    Plutôt confiance   \n",
       "1001               Pas du tout confiance   \n",
       "1002                Plutôt pas confiance   \n",
       "1003                Plutôt pas confiance   \n",
       "\n",
       "     L1 (Du bâtiment et des travaux publics)   L1 (De l’automobile)  \\\n",
       "0                       Plutôt pas confiance  Tout à fait confiance   \n",
       "1                           Plutôt confiance       Plutôt confiance   \n",
       "2                           Plutôt confiance       Plutôt confiance   \n",
       "3                           Plutôt confiance       Plutôt confiance   \n",
       "4                           Plutôt confiance   Plutôt pas confiance   \n",
       "...                                      ...                    ...   \n",
       "999                         Plutôt confiance       Plutôt confiance   \n",
       "1000                        Plutôt confiance       Plutôt confiance   \n",
       "1001                        Plutôt confiance   Plutôt pas confiance   \n",
       "1002                        Plutôt confiance   Plutôt pas confiance   \n",
       "1003                    Plutôt pas confiance   Plutôt pas confiance   \n",
       "\n",
       "          L1 (Du nucléaire) L1 (De l’aéronautique et aérospatial)  \\\n",
       "0          Plutôt confiance                      Plutôt confiance   \n",
       "1          Plutôt confiance                      Plutôt confiance   \n",
       "2          Plutôt confiance                      Plutôt confiance   \n",
       "3      Plutôt pas confiance                      Plutôt confiance   \n",
       "4     Pas du tout confiance                 Tout à fait confiance   \n",
       "...                     ...                                   ...   \n",
       "999        Plutôt confiance                 Tout à fait confiance   \n",
       "1000   Plutôt pas confiance                  Plutôt pas confiance   \n",
       "1001       Plutôt confiance                      Plutôt confiance   \n",
       "1002       Plutôt confiance                      Plutôt confiance   \n",
       "1003  Pas du tout confiance                      Plutôt confiance   \n",
       "\n",
       "         L1 (De la chimie)             L2  \\\n",
       "0         Plutôt confiance    Très utiles   \n",
       "1         Plutôt confiance  Plutôt utiles   \n",
       "2         Plutôt confiance  Plutôt utiles   \n",
       "3     Plutôt pas confiance  Plutôt utiles   \n",
       "4     Plutôt pas confiance  Plutôt utiles   \n",
       "...                    ...            ...   \n",
       "999       Plutôt confiance    Très utiles   \n",
       "1000  Plutôt pas confiance    Très utiles   \n",
       "1001  Plutôt pas confiance  Plutôt utiles   \n",
       "1002      Plutôt confiance    Très utiles   \n",
       "1003      Plutôt confiance  Plutôt utiles   \n",
       "\n",
       "     L3 (Pour la santé de la population française)  \\\n",
       "0                                              Oui   \n",
       "1                                              Oui   \n",
       "2                                              Oui   \n",
       "3                                              Oui   \n",
       "4                                              Oui   \n",
       "...                                            ...   \n",
       "999                                            Oui   \n",
       "1000                                           Oui   \n",
       "1001                                           Oui   \n",
       "1002                                           Non   \n",
       "1003                                           Oui   \n",
       "\n",
       "     L3 (Pour l’économie et la souveraineté sanitaire d                    L4  \\\n",
       "0                                                   Oui      Plutôt confiance   \n",
       "1                                                   Oui      Plutôt confiance   \n",
       "2                                                   Oui      Plutôt confiance   \n",
       "3                                                   Oui      Plutôt confiance   \n",
       "4                                                   Oui      Plutôt confiance   \n",
       "...                                                 ...                   ...   \n",
       "999                                                 Oui      Plutôt confiance   \n",
       "1000                                                Oui      Plutôt confiance   \n",
       "1001                                                Oui      Plutôt confiance   \n",
       "1002                                                Oui  Plutôt pas confiance   \n",
       "1003                                                Non      Plutôt confiance   \n",
       "\n",
       "                         L5                     L6  \\\n",
       "0      Plutôt pas confiance      Oui, probablement   \n",
       "1          Plutôt confiance      Oui, probablement   \n",
       "2     Pas du tout confiance      Oui, probablement   \n",
       "3          Plutôt confiance      Oui, probablement   \n",
       "4      Plutôt pas confiance  Non, probablement pas   \n",
       "...                     ...                    ...   \n",
       "999        Plutôt confiance      Oui, probablement   \n",
       "1000   Plutôt pas confiance  Non, certainement pas   \n",
       "1001       Plutôt confiance      Oui, probablement   \n",
       "1002       Plutôt confiance      Oui, probablement   \n",
       "1003       Plutôt confiance      Oui, probablement   \n",
       "\n",
       "                                                     L7  \\\n",
       "0                                                   NaN   \n",
       "1                                                   NaN   \n",
       "2                                                   NaN   \n",
       "3                                                   NaN   \n",
       "4     Se vacciner ne sert pas à grand-chose ,Vous pe...   \n",
       "...                                                 ...   \n",
       "999                                                 NaN   \n",
       "1000  Vous craignez la répétition des vaccins (effet...   \n",
       "1001                                                NaN   \n",
       "1002                                                NaN   \n",
       "1003                                                NaN   \n",
       "\n",
       "     L8 (Fournissent des médicaments de qualité et efficaces)  \\\n",
       "0                                       Non, plutôt pas         \n",
       "1                                           Oui, plutôt         \n",
       "2                                       Non, plutôt pas         \n",
       "3                                           Oui, plutôt         \n",
       "4                                           Oui, plutôt         \n",
       "...                                                 ...         \n",
       "999                                         Oui, plutôt         \n",
       "1000                                        Oui, plutôt         \n",
       "1001                                  Vous ne savez pas         \n",
       "1002                                        Oui, plutôt         \n",
       "1003                                        Oui, plutôt         \n",
       "\n",
       "     L8 (Contribuent fortement aux progrès et avancées dans le traitement des maladies)  \\\n",
       "0                                       Non, plutôt pas                                   \n",
       "1                                           Oui, plutôt                                   \n",
       "2                                           Oui, plutôt                                   \n",
       "3                                           Oui, plutôt                                   \n",
       "4                                           Oui, plutôt                                   \n",
       "...                                                 ...                                   \n",
       "999                                         Oui, plutôt                                   \n",
       "1000                                        Oui, plutôt                                   \n",
       "1001                                        Oui, plutôt                                   \n",
       "1002                                   Non, pas du tout                                   \n",
       "1003                                        Oui, plutôt                                   \n",
       "\n",
       "     L8 (Contribuent à l’autonomie sanitaire de la France )  \\\n",
       "0                                       Non, plutôt pas       \n",
       "1                                           Oui, plutôt       \n",
       "2                                           Oui, plutôt       \n",
       "3                                       Non, plutôt pas       \n",
       "4                                           Oui, plutôt       \n",
       "...                                                 ...       \n",
       "999                                         Oui, plutôt       \n",
       "1000                                        Oui, plutôt       \n",
       "1001                                        Oui, plutôt       \n",
       "1002                                        Oui, plutôt       \n",
       "1003                                    Non, plutôt pas       \n",
       "\n",
       "     L8 (Jouent un rôle important dans l’augmentation de l’espérance et la qualité de vie des patients )  \\\n",
       "0                                       Non, plutôt pas                                                    \n",
       "1                                           Oui, plutôt                                                    \n",
       "2                                      Oui, tout à fait                                                    \n",
       "3                                           Oui, plutôt                                                    \n",
       "4                                           Oui, plutôt                                                    \n",
       "...                                                 ...                                                    \n",
       "999                                    Oui, tout à fait                                                    \n",
       "1000                                        Oui, plutôt                                                    \n",
       "1001                                        Oui, plutôt                                                    \n",
       "1002                                    Non, plutôt pas                                                    \n",
       "1003                                        Oui, plutôt                                                    \n",
       "\n",
       "     L8 (Sont indispensables au bon fonctionnement du système de santé)  \\\n",
       "0                                       Non, plutôt pas                   \n",
       "1                                           Oui, plutôt                   \n",
       "2                                      Oui, tout à fait                   \n",
       "3                                           Oui, plutôt                   \n",
       "4                                     Vous ne savez pas                   \n",
       "...                                                 ...                   \n",
       "999                                    Oui, tout à fait                   \n",
       "1000                                        Oui, plutôt                   \n",
       "1001                                   Oui, tout à fait                   \n",
       "1002                                   Non, pas du tout                   \n",
       "1003                                    Non, plutôt pas                   \n",
       "\n",
       "     L8 (Contribuent à la croissance économique de la France)  \\\n",
       "0                                      Non, pas du tout         \n",
       "1                                           Oui, plutôt         \n",
       "2                                           Oui, plutôt         \n",
       "3                                       Non, plutôt pas         \n",
       "4                                     Vous ne savez pas         \n",
       "...                                                 ...         \n",
       "999                                         Oui, plutôt         \n",
       "1000                                        Oui, plutôt         \n",
       "1001                                        Oui, plutôt         \n",
       "1002                                  Vous ne savez pas         \n",
       "1003                                  Vous ne savez pas         \n",
       "\n",
       "     L8 (Sont une source importante d’emplois en France )  \\\n",
       "0                                      Non, pas du tout     \n",
       "1                                       Non, plutôt pas     \n",
       "2                                                   NaN     \n",
       "3                                       Non, plutôt pas     \n",
       "4                                     Vous ne savez pas     \n",
       "...                                                 ...     \n",
       "999                                         Oui, plutôt     \n",
       "1000                                        Oui, plutôt     \n",
       "1001                                        Oui, plutôt     \n",
       "1002                                  Vous ne savez pas     \n",
       "1003                                        Oui, plutôt     \n",
       "\n",
       "     L8 (Sont un secteur stratégique essentiel pour la France )  \\\n",
       "0                                       Non, plutôt pas           \n",
       "1                                           Oui, plutôt           \n",
       "2                                       Non, plutôt pas           \n",
       "3                                           Oui, plutôt           \n",
       "4                                           Oui, plutôt           \n",
       "...                                                 ...           \n",
       "999                                         Oui, plutôt           \n",
       "1000                                        Oui, plutôt           \n",
       "1001                                        Oui, plutôt           \n",
       "1002                                        Oui, plutôt           \n",
       "1003                                        Oui, plutôt           \n",
       "\n",
       "     L8 (Participent à l’animation du tissu économique dans les territoires et les régions )  \\\n",
       "0                                      Non, pas du tout                                        \n",
       "1                                           Oui, plutôt                                        \n",
       "2                                       Non, plutôt pas                                        \n",
       "3                                       Non, plutôt pas                                        \n",
       "4                                     Vous ne savez pas                                        \n",
       "...                                                 ...                                        \n",
       "999                                         Oui, plutôt                                        \n",
       "1000                                        Oui, plutôt                                        \n",
       "1001                                        Oui, plutôt                                        \n",
       "1002                                        Oui, plutôt                                        \n",
       "1003                                  Vous ne savez pas                                        \n",
       "\n",
       "     L8 (Emploient des collaborateurs (et collaboratrices) compétent(e)s )  \\\n",
       "0                                      Non, pas du tout                      \n",
       "1                                           Oui, plutôt                      \n",
       "2                                           Oui, plutôt                      \n",
       "3                                           Oui, plutôt                      \n",
       "4                                           Oui, plutôt                      \n",
       "...                                                 ...                      \n",
       "999                                         Oui, plutôt                      \n",
       "1000                                        Oui, plutôt                      \n",
       "1001                                        Oui, plutôt                      \n",
       "1002                                   Oui, tout à fait                      \n",
       "1003                                        Oui, plutôt                      \n",
       "\n",
       "     L8 (Luttent efficacement contre les pénuries de médicaments )  \\\n",
       "0                                       Non, plutôt pas              \n",
       "1                                       Non, plutôt pas              \n",
       "2                                       Non, plutôt pas              \n",
       "3                                      Non, pas du tout              \n",
       "4                                           Oui, plutôt              \n",
       "...                                                 ...              \n",
       "999                                         Oui, plutôt              \n",
       "1000                                        Oui, plutôt              \n",
       "1001                                        Oui, plutôt              \n",
       "1002                                        Oui, plutôt              \n",
       "1003                                   Non, pas du tout              \n",
       "\n",
       "     L8 (Agissent pour que les médicaments innovants soient plus rapidement disponibles )  \\\n",
       "0                                       Non, plutôt pas                                     \n",
       "1                                           Oui, plutôt                                     \n",
       "2                                      Non, pas du tout                                     \n",
       "3                                       Non, plutôt pas                                     \n",
       "4                                           Oui, plutôt                                     \n",
       "...                                                 ...                                     \n",
       "999                                         Oui, plutôt                                     \n",
       "1000                                        Oui, plutôt                                     \n",
       "1001                                  Vous ne savez pas                                     \n",
       "1002                                        Oui, plutôt                                     \n",
       "1003                                    Non, plutôt pas                                     \n",
       "\n",
       "     L8 (Œuvrent à l’intérêt général)  \\\n",
       "0                     Non, plutôt pas   \n",
       "1                         Oui, plutôt   \n",
       "2                         Oui, plutôt   \n",
       "3                    Non, pas du tout   \n",
       "4                   Vous ne savez pas   \n",
       "...                               ...   \n",
       "999                       Oui, plutôt   \n",
       "1000                      Oui, plutôt   \n",
       "1001                      Oui, plutôt   \n",
       "1002                      Oui, plutôt   \n",
       "1003                  Non, plutôt pas   \n",
       "\n",
       "     L8 (Facilitent l’accès du plus grand nombre aux médicaments )  \\\n",
       "0                                       Non, plutôt pas              \n",
       "1                                           Oui, plutôt              \n",
       "2                                       Non, plutôt pas              \n",
       "3                                       Non, plutôt pas              \n",
       "4                                     Vous ne savez pas              \n",
       "...                                                 ...              \n",
       "999                                         Oui, plutôt              \n",
       "1000                                        Oui, plutôt              \n",
       "1001                                        Oui, plutôt              \n",
       "1002                                    Non, plutôt pas              \n",
       "1003                                    Non, plutôt pas              \n",
       "\n",
       "     L8 (Sont attentives à leur impact sur l’environnement )  \\\n",
       "0                                           Oui, plutôt        \n",
       "1                                           Oui, plutôt        \n",
       "2                                       Non, plutôt pas        \n",
       "3                                      Non, pas du tout        \n",
       "4                                           Oui, plutôt        \n",
       "...                                                 ...        \n",
       "999                                     Non, plutôt pas        \n",
       "1000                                        Oui, plutôt        \n",
       "1001                                    Non, plutôt pas        \n",
       "1002                                  Vous ne savez pas        \n",
       "1003                                   Non, pas du tout        \n",
       "\n",
       "     L8 (Agissent de manière éthique et intègre )  \\\n",
       "0                                Non, pas du tout   \n",
       "1                                     Oui, plutôt   \n",
       "2                                 Non, plutôt pas   \n",
       "3                                Non, pas du tout   \n",
       "4                                     Oui, plutôt   \n",
       "...                                           ...   \n",
       "999                             Vous ne savez pas   \n",
       "1000                                  Oui, plutôt   \n",
       "1001                              Non, plutôt pas   \n",
       "1002                             Oui, tout à fait   \n",
       "1003                                  Oui, plutôt   \n",
       "\n",
       "     L8 (Agissent de manière transparente )  \\\n",
       "0                           Non, plutôt pas   \n",
       "1                         Vous ne savez pas   \n",
       "2                               Oui, plutôt   \n",
       "3                          Non, pas du tout   \n",
       "4                               Oui, plutôt   \n",
       "...                                     ...   \n",
       "999                       Vous ne savez pas   \n",
       "1000                            Oui, plutôt   \n",
       "1001                        Non, plutôt pas   \n",
       "1002                      Vous ne savez pas   \n",
       "1003                        Non, plutôt pas   \n",
       "\n",
       "     L8 (Placent les patients au cœur de leurs priorités )  \\\n",
       "0                                       Non, plutôt pas      \n",
       "1                                           Oui, plutôt      \n",
       "2                                           Oui, plutôt      \n",
       "3                                      Non, pas du tout      \n",
       "4                                           Oui, plutôt      \n",
       "...                                                 ...      \n",
       "999                                   Vous ne savez pas      \n",
       "1000                                        Oui, plutôt      \n",
       "1001                                        Oui, plutôt      \n",
       "1002                                        Oui, plutôt      \n",
       "1003                                    Non, plutôt pas      \n",
       "\n",
       "     L8 (Laissent les professionnels de santé libres dans leurs prescriptions, sans chercher à les influencer )  \\\n",
       "0                                     Vous ne savez pas                                                           \n",
       "1                                     Vous ne savez pas                                                           \n",
       "2                                           Oui, plutôt                                                           \n",
       "3                                       Non, plutôt pas                                                           \n",
       "4                                     Vous ne savez pas                                                           \n",
       "...                                                 ...                                                           \n",
       "999                                   Vous ne savez pas                                                           \n",
       "1000                                        Oui, plutôt                                                           \n",
       "1001                                    Non, plutôt pas                                                           \n",
       "1002                                   Oui, tout à fait                                                           \n",
       "1003                                   Non, pas du tout                                                           \n",
       "\n",
       "     L8 (Proposent des médicaments à des prix justes et adaptés )  \\\n",
       "0                                      Non, pas du tout             \n",
       "1                                           Oui, plutôt             \n",
       "2                                       Non, plutôt pas             \n",
       "3                                      Non, pas du tout             \n",
       "4                                     Vous ne savez pas             \n",
       "...                                                 ...             \n",
       "999                                   Vous ne savez pas             \n",
       "1000                                        Oui, plutôt             \n",
       "1001                                   Non, pas du tout             \n",
       "1002                                        Oui, plutôt             \n",
       "1003                                   Non, pas du tout             \n",
       "\n",
       "                        L9               L10                    L11  \n",
       "0     Non probablement pas     Assez facile       Assez dépendantes  \n",
       "1     Non probablement pas      Très facile       Assez dépendantes  \n",
       "2     Non probablement pas     Assez facile       Assez dépendantes  \n",
       "3     Non probablement pas  Assez difficile        Très dépendantes  \n",
       "4     Non probablement pas     Assez facile       Assez dépendantes  \n",
       "...                    ...               ...                    ...  \n",
       "999       Oui probablement      Très facile   Assez peu dépendantes  \n",
       "1000     Vous ne savez pas     Assez facile   Assez peu dépendantes  \n",
       "1001     Vous ne savez pas     Assez facile       Assez dépendantes  \n",
       "1002  Non probablement pas      Très facile       Assez dépendantes  \n",
       "1003      Oui probablement  Assez difficile   Assez peu dépendantes  \n",
       "\n",
       "[1004 rows x 49 columns]"
      ]
     },
     "execution_count": 156,
     "metadata": {},
     "output_type": "execute_result"
    }
   ],
   "source": [
    "data"
   ]
  },
  {
   "cell_type": "code",
   "execution_count": 157,
   "metadata": {},
   "outputs": [],
   "source": [
    "list_indeps = ['Sexe', 'Age', 'Région', 'Agglomération', 'Statut', 'CSP', 'Diplôme', 'Revenus_cat'\n",
    "              , 'L1_médicament', 'L2', 'L4', 'L5', 'L6', 'L8_1', 'L8_2', 'L8_3', 'L8_4', 'L8_5', 'L8_6', 'L8_7', 'L8_8', 'L8_9']\n",
    "\n",
    "questions_variables = {'Sexe' : \"Sexe\", 'Age' : \"Groupe d'ages\", 'Région' : \"Région\", 'Agglomération' : \"Agglomération\"\n",
    "                      , 'Statut' : \"Emploi\", 'CSP' : \"CSP\", 'Diplôme' : \"Niveau de scolarité le plus élevé\", 'Revenus_cat' : \"Revenus du foyer\"\n",
    "                      , 'L1_médicament' : \"Diriez-vous que vous avez confiance dans les entreprises du secteur : Du médicament?\"\n",
    "                      , 'L2' : \"Diriez-vous que les entreprises du médicament sont extrêmement utiles, très utiles, plutôt utiles, plutôt pas utiles ou pas du tout utiles à la société ?\"\n",
    "                      , 'L4' : \"Faites-vous tout à fait confiance, plutôt confiance, plutôt pas confiance ou pas du tout confiance aux médicaments ?\"\n",
    "                      , 'L5' : \"Faites-vous tout à fait confiance, plutôt confiance, plutôt pas confiance ou pas du tout confiance aux vaccins ?\"\n",
    "                      , 'L6' : \"Vous personnellement, si votre médecin ou les autorités de santé le recommandaient, vous feriez-vous vacciner ? (Par exemple, contre la grippe, contre le Covid avec la nouvelle dose du vaccin, ou contre les infections à pneumocoques ou à papillomavirus …)\"\n",
    "                      , 'L8_1' : \"Pouvez-vous dire si les affirmations suivantes correspondent à l’image que vous avez des entreprises du médicament ? Pour vous, les entreprises du médicament…Fournissent des médicaments de qualité et efficaces\"\n",
    "                      , 'L8_2' : \"Pouvez-vous dire si les affirmations suivantes correspondent à l’image que vous avez des entreprises du médicament ? Pour vous, les entreprises du médicament…Contribuent fortement aux progrès et avancées dans le traitement des maladies\"\n",
    "                      , 'L8_3' : \"Pouvez-vous dire si les affirmations suivantes correspondent à l’image que vous avez des entreprises du médicament ? Pour vous, les entreprises du médicament…Jouent un rôle important dans l’augmentation de l’espérance et la qualité de vie des patients\"\n",
    "                      , 'L8_4' : \"Pouvez-vous dire si les affirmations suivantes correspondent à l’image que vous avez des entreprises du médicament ? Pour vous, les entreprises du médicament…Sont indispensables au bon fonctionnement du système de santé\"\n",
    "                      , 'L8_5' : \"Et pensez-vous que les entreprises du médicament… ? Œuvrent à l’intérêt général\"\n",
    "                      , 'L8_6' : \"Et pensez-vous que les entreprises du médicament… ? Facilitent l’accès du plus grand nombre aux médicaments\"\n",
    "                      , 'L8_7' : \"Et pensez-vous que les entreprises du médicament… ? Agissent de manière éthique et intègre\"\n",
    "                      , 'L8_8' : \"Et pensez-vous que les entreprises du médicament… ? Placent les patients au cœur de leurs priorités\"\n",
    "                      , 'L8_9' : \"Et pensez-vous que les entreprises du médicament… ? Laissent les professionnels de santé libres dans leurs prescriptions, sans chercher à les influencer\"}"
   ]
  },
  {
   "cell_type": "code",
   "execution_count": 158,
   "metadata": {},
   "outputs": [
    {
     "data": {
      "text/plain": [
       "Sexe\n",
       "Un homme     505\n",
       "Une femme    499\n",
       "Name: count, dtype: int64"
      ]
     },
     "execution_count": 158,
     "metadata": {},
     "output_type": "execute_result"
    }
   ],
   "source": [
    "# Variable 'Sexe'\n",
    "# Question : Sexe\n",
    "data['Sexe'].value_counts()"
   ]
  },
  {
   "cell_type": "code",
   "execution_count": 159,
   "metadata": {},
   "outputs": [],
   "source": [
    "data['Sexe'] = data['Sexe'].astype('category')\n",
    "data['Sexe'] = pd.Categorical(data['Sexe'], \n",
    "                            categories=['Une femme', 'Un homme'], \n",
    "                            ordered=True)"
   ]
  },
  {
   "cell_type": "code",
   "execution_count": 160,
   "metadata": {},
   "outputs": [
    {
     "data": {
      "text/plain": [
       "Age\n",
       "65 ans et +    254\n",
       "50-64 ans      249\n",
       "35-49 ans      239\n",
       "25-34 ans      151\n",
       "18-24 ans      111\n",
       "Name: count, dtype: int64"
      ]
     },
     "execution_count": 160,
     "metadata": {},
     "output_type": "execute_result"
    }
   ],
   "source": [
    "# Variable 'Age'\n",
    "# Question : Groupe d'ages\n",
    "data['Age'].value_counts()"
   ]
  },
  {
   "cell_type": "code",
   "execution_count": 161,
   "metadata": {},
   "outputs": [],
   "source": [
    "data['Age'] = data['Age'].astype('category')\n",
    "data['Age'] = pd.Categorical(data['Age'], \n",
    "                            categories=['18-24 ans'\n",
    "                                        , '25-34 ans'\n",
    "                                        , '35-49 ans'\n",
    "                                       , '50-64 ans'\n",
    "                                       , '65 ans et +'], \n",
    "                            ordered=True)"
   ]
  },
  {
   "cell_type": "code",
   "execution_count": 162,
   "metadata": {},
   "outputs": [
    {
     "data": {
      "text/plain": [
       "Région UDA9\n",
       "Région Parisienne        191\n",
       "Ouest                    140\n",
       "Méditerranée             126\n",
       "Sud Ouest                121\n",
       "Sud Est                  111\n",
       "Bassin Parisien Ouest     93\n",
       "Est                       92\n",
       "Bassin Parisien Est       67\n",
       "Nord                      63\n",
       "Name: count, dtype: int64"
      ]
     },
     "execution_count": 162,
     "metadata": {},
     "output_type": "execute_result"
    }
   ],
   "source": [
    "# Variable 'Région UDA9'\n",
    "# Question : \"Région\"\n",
    "data['Région UDA9'].value_counts()"
   ]
  },
  {
   "cell_type": "code",
   "execution_count": 163,
   "metadata": {},
   "outputs": [
    {
     "data": {
      "text/plain": [
       "Catégorie d'agglomération\n",
       "100 000 hab et plus         278\n",
       "Rural                       224\n",
       "Moins de 20 000 hab         192\n",
       "Agglomération parisienne    164\n",
       "De 20 000 à 99 999 hab      146\n",
       "Name: count, dtype: int64"
      ]
     },
     "execution_count": 163,
     "metadata": {},
     "output_type": "execute_result"
    }
   ],
   "source": [
    "# Variable 'Catégorie d'agglomération'\n",
    "# Question : Agglomération\n",
    "data[\"Catégorie d'agglomération\"].value_counts()"
   ]
  },
  {
   "cell_type": "code",
   "execution_count": 164,
   "metadata": {},
   "outputs": [],
   "source": [
    "data[\"Catégorie d'agglomération\"] = data[\"Catégorie d'agglomération\"].astype('category')\n",
    "data[\"Catégorie d'agglomération\"] = pd.Categorical(data[\"Catégorie d'agglomération\"], \n",
    "                            categories=['Rural'\n",
    "                                        , 'Moins de 20 000 hab'\n",
    "                                        , 'De 20 000 à 99 999 hab'\n",
    "                                       , '100 000 hab et plus'\n",
    "                                       , 'Agglomération parisienne'], \n",
    "                            ordered=True)"
   ]
  },
  {
   "cell_type": "code",
   "execution_count": 165,
   "metadata": {},
   "outputs": [
    {
     "data": {
      "text/plain": [
       "Statut\n",
       "Salarié du secteur privé                              421\n",
       "Inactif (retraité, élève, étudiant, autre inactif)    341\n",
       "Salarié du secteur public                             141\n",
       "Inscrit à pôle emploi                                  53\n",
       "A votre compte                                         48\n",
       "Name: count, dtype: int64"
      ]
     },
     "execution_count": 165,
     "metadata": {},
     "output_type": "execute_result"
    }
   ],
   "source": [
    "# Les variables 'HHSIZE' et 'MAR' n'existent pas\n",
    "# Variable 'Statut'\n",
    "# Question : \"Emploi\"\n",
    "data['Statut'].value_counts()"
   ]
  },
  {
   "cell_type": "code",
   "execution_count": 166,
   "metadata": {},
   "outputs": [],
   "source": [
    "data['Statut'] = data['Statut'].astype('category')"
   ]
  },
  {
   "cell_type": "code",
   "execution_count": 167,
   "metadata": {},
   "outputs": [
    {
     "data": {
      "text/plain": [
       "CSP\n",
       "Retraité                                         261\n",
       "Employé                                          180\n",
       "Profession intermédiaire                         153\n",
       "Ouvrier                                          126\n",
       "Cadre et profession intellectuelle supérieure    103\n",
       "Autre inactif                                     80\n",
       "Elève / étudiant                                  53\n",
       "Agriculteur, indépendant, chef d'entreprise       48\n",
       "Name: count, dtype: int64"
      ]
     },
     "execution_count": 167,
     "metadata": {},
     "output_type": "execute_result"
    }
   ],
   "source": [
    "# Variable 'CSP'\n",
    "# Question : \"CSP\"\n",
    "data['CSP'].value_counts()"
   ]
  },
  {
   "cell_type": "code",
   "execution_count": 168,
   "metadata": {},
   "outputs": [],
   "source": [
    "data['CSP'] = data['CSP'].astype('category')"
   ]
  },
  {
   "cell_type": "code",
   "execution_count": 169,
   "metadata": {},
   "outputs": [
    {
     "data": {
      "text/plain": [
       "Niveau de diplôme\n",
       "CAP, BEP                                   379\n",
       "BAC+3 et plus                              187\n",
       "BAC, brevet professionnel ou équivalent    165\n",
       "BAC+2                                      115\n",
       "Brevet des collèges                        102\n",
       "Aucun diplôme                               56\n",
       "Name: count, dtype: int64"
      ]
     },
     "execution_count": 169,
     "metadata": {},
     "output_type": "execute_result"
    }
   ],
   "source": [
    "# Variable 'Niveau de diplôme'\n",
    "# Question : \"Niveau de scolarité le plus élevé\"\n",
    "data['Niveau de diplôme'].value_counts()"
   ]
  },
  {
   "cell_type": "code",
   "execution_count": 170,
   "metadata": {},
   "outputs": [],
   "source": [
    "data['Niveau de diplôme'] = data['Niveau de diplôme'].astype('category')\n",
    "data['Niveau de diplôme'] = pd.Categorical(data['Niveau de diplôme'], \n",
    "                            categories=['Aucun diplôme'\n",
    "                                        , 'Brevet des collèges'\n",
    "                                        , 'CAP, BEP'\n",
    "                                        , 'BAC, brevet professionnel ou équivalent'\n",
    "                                        , 'BAC+2'\n",
    "                                        , 'BAC+3 et plus'], \n",
    "                            ordered=True)                  "
   ]
  },
  {
   "cell_type": "code",
   "execution_count": 171,
   "metadata": {},
   "outputs": [
    {
     "data": {
      "text/plain": [
       "Revenus du foyer\n",
       "De 2 000 à 2 499 euros                          140\n",
       "De 1 500 à 1 999 euros                          125\n",
       "De 1000 à 1 499 euros                           122\n",
       "De 3 500 à 4 499 euros                          121\n",
       "De 2 500 à 2 999 euros                          110\n",
       "Vous ne savez pas / refus / ne veut pas dire    102\n",
       "De 3 000 à 3 499 euros                          102\n",
       "De 4 500 à 5 999 euros                           67\n",
       "De 750 à 999 euros                               31\n",
       "Moins de 499 euros                               28\n",
       "De 500 à 749 euros                               22\n",
       "De 6 000 à 7 499 euros                           19\n",
       "De plus de 7 500 euros                           15\n",
       "Name: count, dtype: int64"
      ]
     },
     "execution_count": 171,
     "metadata": {},
     "output_type": "execute_result"
    }
   ],
   "source": [
    "# Variable 'Revenus du foyer'\n",
    "# Question : Revenus du foyer\n",
    "data['Revenus du foyer'].value_counts()"
   ]
  },
  {
   "cell_type": "code",
   "execution_count": 172,
   "metadata": {},
   "outputs": [],
   "source": [
    "data['Revenus_cat'] = data['Revenus du foyer'].apply(lambda x : x.replace(\"Moins de 499 euros\", \"Moins de 1000 euros\").\n",
    "                                        replace(\"De 500 à 749 euros\",\"Moins de 1000 euros\").\n",
    "                                        replace(\"De 750 à 999 euros\",\"Moins de 1000 euros\").\n",
    "                                        replace(\"De 1000 à 1 499 euros\",\"De 1000 à 1 499 euros\").\n",
    "                                        replace(\"De 1 500 à 1 999 euros\", \"De 1 500 à 1 999 euros\").\n",
    "                                        replace(\"De 2 000 à 2 499 euros\",\"De 2 000 à 2 499 euros\" ).\n",
    "                                        replace(\"De 2 500 à 2 999 euros\", \"De 2 500 à 2 999 euros\").\n",
    "                                        replace(\"De 3 000 à 3 499 euros\", \"De 3 000 à 3 499 euros\").\n",
    "                                        replace(\"De 3 500 à 4 499 euros\", \"De 3 500 à 4 499 euros\").\n",
    "                                        replace(\"De 4 500 à 5 999 euros\", \"4500 euros et plus\").\n",
    "                                        replace(\"De 6 000 à 7 499 euros\", \"4500 euros et plus\").\n",
    "                                        replace(\"De plus de 7 500 euros\", \"4500 euros et plus\").\n",
    "                                        replace(\"Vous ne savez pas / refus / ne veut pas dire\", \"Vous ne savez pas / refus / ne veut pas dire\")\n",
    "                                        )"
   ]
  },
  {
   "cell_type": "code",
   "execution_count": 173,
   "metadata": {},
   "outputs": [
    {
     "data": {
      "text/plain": [
       "Revenus_cat\n",
       "De 2 000 à 2 499 euros                          140\n",
       "De 1 500 à 1 999 euros                          125\n",
       "De 1000 à 1 499 euros                           122\n",
       "De 3 500 à 4 499 euros                          121\n",
       "De 2 500 à 2 999 euros                          110\n",
       "Vous ne savez pas / refus / ne veut pas dire    102\n",
       "De 3 000 à 3 499 euros                          102\n",
       "4500 euros et plus                              101\n",
       "Moins de 1000 euros                              81\n",
       "Name: count, dtype: int64"
      ]
     },
     "execution_count": 173,
     "metadata": {},
     "output_type": "execute_result"
    }
   ],
   "source": [
    "data['Revenus_cat'].value_counts()"
   ]
  },
  {
   "cell_type": "code",
   "execution_count": 174,
   "metadata": {},
   "outputs": [],
   "source": [
    "#changer l'order des categories de la variable 'Revenus_cat'\n",
    "data['Revenus_cat'] = pd.Categorical(data['Revenus_cat'], \n",
    "                            categories=['Moins de 1000 euros', 'De 1000 à 1 499 euros' ,'De 1 500 à 1 999 euros'\n",
    "                                        ,'De 2 000 à 2 499 euros', 'De 2 500 à 2 999 euros'\n",
    "                                        , 'De 3 000 à 3 499 euros', 'De 3 500 à 4 499 euros'\n",
    "                                       , '4500 euros et plus', 'Vous ne savez pas / refus / ne veut pas dire'], \n",
    "                            ordered=True)"
   ]
  },
  {
   "cell_type": "code",
   "execution_count": 175,
   "metadata": {},
   "outputs": [
    {
     "data": {
      "text/plain": [
       "L1 (Du médicament)\n",
       "Plutôt confiance         530\n",
       "Plutôt pas confiance     269\n",
       "Tout à fait confiance    105\n",
       "Pas du tout confiance     94\n",
       "Name: count, dtype: int64"
      ]
     },
     "execution_count": 175,
     "metadata": {},
     "output_type": "execute_result"
    }
   ],
   "source": [
    "# Variable 'L1 (Du médicament)'\n",
    "# Question : Diriez-vous que vous avez confiance dans les entreprises du secteur : Du médicament?\n",
    "data['L1 (Du médicament)'].value_counts()"
   ]
  },
  {
   "cell_type": "code",
   "execution_count": 176,
   "metadata": {},
   "outputs": [
    {
     "data": {
      "text/plain": [
       "6"
      ]
     },
     "execution_count": 176,
     "metadata": {},
     "output_type": "execute_result"
    }
   ],
   "source": [
    "data['L1 (Du médicament)'].isna().sum()"
   ]
  },
  {
   "cell_type": "code",
   "execution_count": 177,
   "metadata": {},
   "outputs": [],
   "source": [
    "data['L1 (Du médicament)'].fillna(\"Pas de réponse\", inplace = True)"
   ]
  },
  {
   "cell_type": "code",
   "execution_count": 178,
   "metadata": {},
   "outputs": [],
   "source": [
    "#changer l'order des categories\n",
    "data['L1 (Du médicament)'] = pd.Categorical(data['L1 (Du médicament)'], \n",
    "                            categories=['Pas du tout confiance'\n",
    "                                        , 'Plutôt pas confiance'\n",
    "                                        , 'Plutôt confiance'\n",
    "                                       , 'Tout à fait confiance'\n",
    "                                       , 'Pas de réponse'], \n",
    "                            ordered=True)"
   ]
  },
  {
   "cell_type": "code",
   "execution_count": 179,
   "metadata": {},
   "outputs": [
    {
     "data": {
      "text/plain": [
       "0"
      ]
     },
     "execution_count": 179,
     "metadata": {},
     "output_type": "execute_result"
    }
   ],
   "source": [
    "data['L1 (Du médicament)'].isna().sum()"
   ]
  },
  {
   "cell_type": "code",
   "execution_count": 180,
   "metadata": {},
   "outputs": [
    {
     "data": {
      "text/plain": [
       "L2\n",
       "Plutôt utiles         359\n",
       "Très utiles           352\n",
       "Extrêmement utiles    233\n",
       "Plutôt pas utiles      25\n",
       "Vous ne savez pas      24\n",
       "Pas du tout utiles     11\n",
       "Name: count, dtype: int64"
      ]
     },
     "execution_count": 180,
     "metadata": {},
     "output_type": "execute_result"
    }
   ],
   "source": [
    "# Variable 'L2'\n",
    "# Question : Diriez-vous que les entreprises du médicament sont extrêmement utiles, très utiles, plutôt utiles, plutôt pas utiles ou pas du tout utiles à la société ?\n",
    "data['L2'].value_counts()"
   ]
  },
  {
   "cell_type": "code",
   "execution_count": 181,
   "metadata": {},
   "outputs": [],
   "source": [
    "#changer l'order des categories\n",
    "data['L2'] = pd.Categorical(data['L2'], \n",
    "                            categories=['Pas du tout utiles'\n",
    "                                        , 'Plutôt pas utiles'\n",
    "                                        , 'Plutôt utiles'\n",
    "                                       , 'Très utiles'\n",
    "                                       , 'Extrêmement utiles'\n",
    "                                       , 'Vous ne savez pas'], \n",
    "                            ordered=True)"
   ]
  },
  {
   "cell_type": "code",
   "execution_count": 182,
   "metadata": {},
   "outputs": [
    {
     "data": {
      "text/plain": [
       "L4\n",
       "Plutôt confiance         664\n",
       "Tout à fait confiance    152\n",
       "Plutôt pas confiance     142\n",
       "Pas du tout confiance     44\n",
       "Name: count, dtype: int64"
      ]
     },
     "execution_count": 182,
     "metadata": {},
     "output_type": "execute_result"
    }
   ],
   "source": [
    "# Variable 'L4'\n",
    "# Question : Faites-vous tout à fait confiance, plutôt confiance, plutôt pas confiance ou pas du tout confiance aux médicaments ?\n",
    "data['L4'].value_counts()"
   ]
  },
  {
   "cell_type": "code",
   "execution_count": 183,
   "metadata": {},
   "outputs": [
    {
     "data": {
      "text/plain": [
       "2"
      ]
     },
     "execution_count": 183,
     "metadata": {},
     "output_type": "execute_result"
    }
   ],
   "source": [
    "data['L4'].isna().sum()"
   ]
  },
  {
   "cell_type": "code",
   "execution_count": 184,
   "metadata": {},
   "outputs": [],
   "source": [
    "data['L4'].fillna(\"Pas de réponse\", inplace = True)"
   ]
  },
  {
   "cell_type": "code",
   "execution_count": 185,
   "metadata": {},
   "outputs": [
    {
     "data": {
      "text/plain": [
       "L5\n",
       "Plutôt confiance         563\n",
       "Tout à fait confiance    174\n",
       "Plutôt pas confiance     162\n",
       "Pas du tout confiance     78\n",
       "Name: count, dtype: int64"
      ]
     },
     "execution_count": 185,
     "metadata": {},
     "output_type": "execute_result"
    }
   ],
   "source": [
    "# Variable 'L5'\n",
    "# Question : Faites-vous tout à fait confiance, plutôt confiance, plutôt pas confiance ou pas du tout confiance aux vaccins ?\n",
    "data['L5'].value_counts()"
   ]
  },
  {
   "cell_type": "code",
   "execution_count": 186,
   "metadata": {},
   "outputs": [
    {
     "data": {
      "text/plain": [
       "27"
      ]
     },
     "execution_count": 186,
     "metadata": {},
     "output_type": "execute_result"
    }
   ],
   "source": [
    "data['L5'].isna().sum()"
   ]
  },
  {
   "cell_type": "code",
   "execution_count": 187,
   "metadata": {},
   "outputs": [],
   "source": [
    "data['L5'].fillna(\"Pas de réponse\", inplace = True)"
   ]
  },
  {
   "cell_type": "code",
   "execution_count": 188,
   "metadata": {},
   "outputs": [],
   "source": [
    "data[['L4', 'L5']] = data[['L4', 'L5']].astype('category')"
   ]
  },
  {
   "cell_type": "code",
   "execution_count": 189,
   "metadata": {},
   "outputs": [],
   "source": [
    "ItemsL4_L5 = ['L4', 'L5']"
   ]
  },
  {
   "cell_type": "code",
   "execution_count": 190,
   "metadata": {},
   "outputs": [],
   "source": [
    "for i in data[ItemsL4_L5].columns:\n",
    "    data[i] = pd.Categorical(data[i], \n",
    "                            categories=['Pas du tout confiance'\n",
    "                                        , 'Plutôt pas confiance'\n",
    "                                        , 'Plutôt confiance'\n",
    "                                       , 'Tout à fait confiance'\n",
    "                                       , 'Pas de réponse'], \n",
    "                            ordered=True)"
   ]
  },
  {
   "cell_type": "code",
   "execution_count": 191,
   "metadata": {},
   "outputs": [
    {
     "data": {
      "text/plain": [
       "L6\n",
       "Oui, probablement        402\n",
       "Oui, certainement        337\n",
       "Non, probablement pas    171\n",
       "Non, certainement pas     91\n",
       "Name: count, dtype: int64"
      ]
     },
     "execution_count": 191,
     "metadata": {},
     "output_type": "execute_result"
    }
   ],
   "source": [
    "# Variable 'L6'\n",
    "# Question : Vous personnellement, si votre médecin ou les autorités de santé le recommandaient, vous feriez-vous vacciner ? (Par exemple, contre la grippe, contre le Covid avec la nouvelle dose du vaccin, ou contre les infections à pneumocoques ou à papillomavirus …) \n",
    "data['L6'].value_counts()"
   ]
  },
  {
   "cell_type": "code",
   "execution_count": 192,
   "metadata": {},
   "outputs": [
    {
     "data": {
      "text/plain": [
       "3"
      ]
     },
     "execution_count": 192,
     "metadata": {},
     "output_type": "execute_result"
    }
   ],
   "source": [
    "data['L6'].isna().sum()"
   ]
  },
  {
   "cell_type": "code",
   "execution_count": 193,
   "metadata": {},
   "outputs": [],
   "source": [
    "data['L6'].fillna(\"Pas de réponse\", inplace = True)"
   ]
  },
  {
   "cell_type": "code",
   "execution_count": 194,
   "metadata": {},
   "outputs": [],
   "source": [
    "#changer l'order des categories\n",
    "data['L6'] = pd.Categorical(data['L6'], \n",
    "                            categories=['Non, certainement pas'\n",
    "                                        , 'Non, probablement pas'\n",
    "                                        , 'Oui, probablement'\n",
    "                                       , 'Oui, certainement'\n",
    "                                       , 'Pas de réponse'], \n",
    "                            ordered=True)"
   ]
  },
  {
   "cell_type": "code",
   "execution_count": 195,
   "metadata": {},
   "outputs": [
    {
     "data": {
      "text/plain": [
       "L8 (Fournissent des médicaments de qualité et efficaces)\n",
       "Oui, plutôt          651\n",
       "Oui, tout à fait     156\n",
       "Non, plutôt pas      115\n",
       "Vous ne savez pas     56\n",
       "Non, pas du tout      24\n",
       "Name: count, dtype: int64"
      ]
     },
     "execution_count": 195,
     "metadata": {},
     "output_type": "execute_result"
    }
   ],
   "source": [
    "# Variable 'L8 (Fournissent des médicaments de qualité et efficaces)'\n",
    "# Question : Pouvez-vous dire si les affirmations suivantes correspondent à l’image que vous avez des entreprises du médicament ? Pour vous, les entreprises du médicament…Fournissent des médicaments de qualité et efficaces \n",
    "data['L8 (Fournissent des médicaments de qualité et efficaces)'].value_counts()"
   ]
  },
  {
   "cell_type": "code",
   "execution_count": 197,
   "metadata": {},
   "outputs": [],
   "source": [
    "data['L8 (Fournissent des médicaments de qualité et efficaces)'].fillna(\"Pas de réponse\", inplace = True)"
   ]
  },
  {
   "cell_type": "code",
   "execution_count": 198,
   "metadata": {},
   "outputs": [
    {
     "data": {
      "text/plain": [
       "0"
      ]
     },
     "execution_count": 198,
     "metadata": {},
     "output_type": "execute_result"
    }
   ],
   "source": [
    "data['L8 (Fournissent des médicaments de qualité et efficaces)'].isna().sum()"
   ]
  },
  {
   "cell_type": "code",
   "execution_count": 199,
   "metadata": {},
   "outputs": [
    {
     "data": {
      "text/plain": [
       "L8 (Contribuent fortement aux progrès et avancées dans le traitement des maladies)\n",
       "Oui, plutôt          591\n",
       "Oui, tout à fait     240\n",
       "Non, plutôt pas      101\n",
       "Vous ne savez pas     47\n",
       "Non, pas du tout      24\n",
       "Name: count, dtype: int64"
      ]
     },
     "execution_count": 199,
     "metadata": {},
     "output_type": "execute_result"
    }
   ],
   "source": [
    "# Variable 'L8 (Contribuent fortement aux progrès et avancées dans le traitement des maladies)'\n",
    "# Question : Pouvez-vous dire si les affirmations suivantes correspondent à l’image que vous avez des entreprises du médicament ? Pour vous, les entreprises du médicament…Contribuent fortement aux progrès et avancées dans le traitement des maladies  \n",
    "data['L8 (Contribuent fortement aux progrès et avancées dans le traitement des maladies)'].value_counts()"
   ]
  },
  {
   "cell_type": "code",
   "execution_count": 200,
   "metadata": {},
   "outputs": [
    {
     "data": {
      "text/plain": [
       "1"
      ]
     },
     "execution_count": 200,
     "metadata": {},
     "output_type": "execute_result"
    }
   ],
   "source": [
    "data['L8 (Contribuent fortement aux progrès et avancées dans le traitement des maladies)'].isna().sum()"
   ]
  },
  {
   "cell_type": "code",
   "execution_count": 201,
   "metadata": {},
   "outputs": [],
   "source": [
    "data['L8 (Contribuent fortement aux progrès et avancées dans le traitement des maladies)'].fillna(\"Pas de réponse\", inplace = True)"
   ]
  },
  {
   "cell_type": "code",
   "execution_count": 202,
   "metadata": {},
   "outputs": [
    {
     "data": {
      "text/plain": [
       "L8 (Jouent un rôle important dans l’augmentation de l’espérance et la qualité de vie des patients )\n",
       "Oui, plutôt          587\n",
       "Oui, tout à fait     235\n",
       "Non, plutôt pas      100\n",
       "Vous ne savez pas     45\n",
       "Non, pas du tout      36\n",
       "Name: count, dtype: int64"
      ]
     },
     "execution_count": 202,
     "metadata": {},
     "output_type": "execute_result"
    }
   ],
   "source": [
    "# Variable 'L8 (Jouent un rôle important dans l’augmentation de l’espérance et la qualité de vie des patients )'\n",
    "# Question : Pouvez-vous dire si les affirmations suivantes correspondent à l’image que vous avez des entreprises du médicament ? Pour vous, les entreprises du médicament…Jouent un rôle important dans l’augmentation de l’espérance et la qualité de vie des patients  \n",
    "data['L8 (Jouent un rôle important dans l’augmentation de l’espérance et la qualité de vie des patients )'].value_counts()"
   ]
  },
  {
   "cell_type": "code",
   "execution_count": 203,
   "metadata": {},
   "outputs": [
    {
     "data": {
      "text/plain": [
       "1"
      ]
     },
     "execution_count": 203,
     "metadata": {},
     "output_type": "execute_result"
    }
   ],
   "source": [
    "data['L8 (Jouent un rôle important dans l’augmentation de l’espérance et la qualité de vie des patients )'].isna().sum()"
   ]
  },
  {
   "cell_type": "code",
   "execution_count": 204,
   "metadata": {},
   "outputs": [],
   "source": [
    "data['L8 (Jouent un rôle important dans l’augmentation de l’espérance et la qualité de vie des patients )'].fillna(\"Pas de réponse\", inplace = True)"
   ]
  },
  {
   "cell_type": "code",
   "execution_count": 205,
   "metadata": {},
   "outputs": [
    {
     "data": {
      "text/plain": [
       "L8 (Sont indispensables au bon fonctionnement du système de santé)\n",
       "Oui, plutôt          571\n",
       "Oui, tout à fait     251\n",
       "Non, plutôt pas      109\n",
       "Vous ne savez pas     43\n",
       "Non, pas du tout      28\n",
       "Name: count, dtype: int64"
      ]
     },
     "execution_count": 205,
     "metadata": {},
     "output_type": "execute_result"
    }
   ],
   "source": [
    "# Variable 'L8 (Sont indispensables au bon fonctionnement du système de santé)'\n",
    "# Question : Pouvez-vous dire si les affirmations suivantes correspondent à l’image que vous avez des entreprises du médicament ? Pour vous, les entreprises du médicament…Sont indispensables au bon fonctionnement du système de santé\n",
    "data['L8 (Sont indispensables au bon fonctionnement du système de santé)'].value_counts()"
   ]
  },
  {
   "cell_type": "code",
   "execution_count": 206,
   "metadata": {},
   "outputs": [
    {
     "data": {
      "text/plain": [
       "2"
      ]
     },
     "execution_count": 206,
     "metadata": {},
     "output_type": "execute_result"
    }
   ],
   "source": [
    "data['L8 (Sont indispensables au bon fonctionnement du système de santé)'].isna().sum()"
   ]
  },
  {
   "cell_type": "code",
   "execution_count": 207,
   "metadata": {},
   "outputs": [],
   "source": [
    "data['L8 (Sont indispensables au bon fonctionnement du système de santé)'].fillna(\"Pas de réponse\", inplace = True)"
   ]
  },
  {
   "cell_type": "code",
   "execution_count": 208,
   "metadata": {},
   "outputs": [
    {
     "data": {
      "text/plain": [
       "L8 (Œuvrent à l’intérêt général)\n",
       "Oui, plutôt          456\n",
       "Non, plutôt pas      235\n",
       "Oui, tout à fait     138\n",
       "Non, pas du tout      97\n",
       "Vous ne savez pas     76\n",
       "Name: count, dtype: int64"
      ]
     },
     "execution_count": 208,
     "metadata": {},
     "output_type": "execute_result"
    }
   ],
   "source": [
    "# Variable 'L8 (Œuvrent à l’intérêt général)'\n",
    "# Question : Et pensez-vous que les entreprises du médicament… ? Œuvrent à l’intérêt général\n",
    "data['L8 (Œuvrent à l’intérêt général)'].value_counts()"
   ]
  },
  {
   "cell_type": "code",
   "execution_count": 209,
   "metadata": {},
   "outputs": [
    {
     "data": {
      "text/plain": [
       "2"
      ]
     },
     "execution_count": 209,
     "metadata": {},
     "output_type": "execute_result"
    }
   ],
   "source": [
    "data['L8 (Œuvrent à l’intérêt général)'].isna().sum()"
   ]
  },
  {
   "cell_type": "code",
   "execution_count": 210,
   "metadata": {},
   "outputs": [],
   "source": [
    "data['L8 (Œuvrent à l’intérêt général)'].fillna(\"Pas de réponse\", inplace = True)"
   ]
  },
  {
   "cell_type": "code",
   "execution_count": 211,
   "metadata": {},
   "outputs": [
    {
     "data": {
      "text/plain": [
       "L8 (Facilitent l’accès du plus grand nombre aux médicaments )\n",
       "Oui, plutôt          487\n",
       "Non, plutôt pas      241\n",
       "Oui, tout à fait     131\n",
       "Non, pas du tout      76\n",
       "Vous ne savez pas     66\n",
       "Name: count, dtype: int64"
      ]
     },
     "execution_count": 211,
     "metadata": {},
     "output_type": "execute_result"
    }
   ],
   "source": [
    "# Variable 'L8 (Facilitent l’accès du plus grand nombre aux médicaments )'\n",
    "# Question : Et pensez-vous que les entreprises du médicament… ? Facilitent l’accès du plus grand nombre aux médicaments \n",
    "data['L8 (Facilitent l’accès du plus grand nombre aux médicaments )'].value_counts()"
   ]
  },
  {
   "cell_type": "code",
   "execution_count": 212,
   "metadata": {},
   "outputs": [
    {
     "data": {
      "text/plain": [
       "3"
      ]
     },
     "execution_count": 212,
     "metadata": {},
     "output_type": "execute_result"
    }
   ],
   "source": [
    "data['L8 (Facilitent l’accès du plus grand nombre aux médicaments )'].isna().sum()"
   ]
  },
  {
   "cell_type": "code",
   "execution_count": 213,
   "metadata": {},
   "outputs": [],
   "source": [
    "data['L8 (Facilitent l’accès du plus grand nombre aux médicaments )'].fillna(\"Pas de réponse\", inplace = True)"
   ]
  },
  {
   "cell_type": "code",
   "execution_count": 214,
   "metadata": {},
   "outputs": [
    {
     "data": {
      "text/plain": [
       "L8 (Agissent de manière éthique et intègre )\n",
       "Non, plutôt pas      332\n",
       "Oui, plutôt          320\n",
       "Non, pas du tout     147\n",
       "Vous ne savez pas    123\n",
       "Oui, tout à fait      77\n",
       "Name: count, dtype: int64"
      ]
     },
     "execution_count": 214,
     "metadata": {},
     "output_type": "execute_result"
    }
   ],
   "source": [
    "# Variable 'L8 (Agissent de manière éthique et intègre )'\n",
    "# Question : Et pensez-vous que les entreprises du médicament… ? Agissent de manière éthique et intègre \n",
    "data['L8 (Agissent de manière éthique et intègre )'].value_counts()"
   ]
  },
  {
   "cell_type": "code",
   "execution_count": 215,
   "metadata": {},
   "outputs": [
    {
     "data": {
      "text/plain": [
       "5"
      ]
     },
     "execution_count": 215,
     "metadata": {},
     "output_type": "execute_result"
    }
   ],
   "source": [
    "data['L8 (Agissent de manière éthique et intègre )'].isna().sum()"
   ]
  },
  {
   "cell_type": "code",
   "execution_count": 216,
   "metadata": {},
   "outputs": [],
   "source": [
    "data['L8 (Agissent de manière éthique et intègre )'].fillna(\"Pas de réponse\", inplace = True)"
   ]
  },
  {
   "cell_type": "code",
   "execution_count": 217,
   "metadata": {},
   "outputs": [
    {
     "data": {
      "text/plain": [
       "L8 (Placent les patients au cœur de leurs priorités )\n",
       "Oui, plutôt          337\n",
       "Non, plutôt pas      327\n",
       "Non, pas du tout     163\n",
       "Oui, tout à fait      90\n",
       "Vous ne savez pas     83\n",
       "Name: count, dtype: int64"
      ]
     },
     "execution_count": 217,
     "metadata": {},
     "output_type": "execute_result"
    }
   ],
   "source": [
    "# Variable 'L8 (Placent les patients au cœur de leurs priorités )'\n",
    "# Question : Et pensez-vous que les entreprises du médicament… ? Placent les patients au cœur de leurs priorités \n",
    "data['L8 (Placent les patients au cœur de leurs priorités )'].value_counts()"
   ]
  },
  {
   "cell_type": "code",
   "execution_count": 218,
   "metadata": {},
   "outputs": [
    {
     "data": {
      "text/plain": [
       "4"
      ]
     },
     "execution_count": 218,
     "metadata": {},
     "output_type": "execute_result"
    }
   ],
   "source": [
    "data['L8 (Placent les patients au cœur de leurs priorités )'].isna().sum()"
   ]
  },
  {
   "cell_type": "code",
   "execution_count": 219,
   "metadata": {},
   "outputs": [],
   "source": [
    "data['L8 (Placent les patients au cœur de leurs priorités )'].fillna(\"Pas de réponse\", inplace = True)"
   ]
  },
  {
   "cell_type": "code",
   "execution_count": 220,
   "metadata": {},
   "outputs": [
    {
     "data": {
      "text/plain": [
       "L8 (Laissent les professionnels de santé libres dans leurs prescriptions, sans chercher à les influencer )\n",
       "Non, plutôt pas      325\n",
       "Oui, plutôt          274\n",
       "Non, pas du tout     209\n",
       "Vous ne savez pas     99\n",
       "Oui, tout à fait      94\n",
       "Name: count, dtype: int64"
      ]
     },
     "execution_count": 220,
     "metadata": {},
     "output_type": "execute_result"
    }
   ],
   "source": [
    "# Variable 'L8 (Laissent les professionnels de santé libres dans leurs prescriptions, sans chercher à les influencer )'\n",
    "# Question : Et pensez-vous que les entreprises du médicament… ? Laissent les professionnels de santé libres dans leurs prescriptions, sans chercher à les influencer \n",
    "data['L8 (Laissent les professionnels de santé libres dans leurs prescriptions, sans chercher à les influencer )'].value_counts()"
   ]
  },
  {
   "cell_type": "code",
   "execution_count": 221,
   "metadata": {},
   "outputs": [
    {
     "data": {
      "text/plain": [
       "3"
      ]
     },
     "execution_count": 221,
     "metadata": {},
     "output_type": "execute_result"
    }
   ],
   "source": [
    "data['L8 (Laissent les professionnels de santé libres dans leurs prescriptions, sans chercher à les influencer )'].isna().sum()"
   ]
  },
  {
   "cell_type": "code",
   "execution_count": 222,
   "metadata": {},
   "outputs": [],
   "source": [
    "data['L8 (Laissent les professionnels de santé libres dans leurs prescriptions, sans chercher à les influencer )'].fillna(\"Pas de réponse\", inplace = True)"
   ]
  },
  {
   "cell_type": "code",
   "execution_count": 224,
   "metadata": {},
   "outputs": [],
   "source": [
    "data[['L8 (Fournissent des médicaments de qualité et efficaces)'\n",
    "              , 'L8 (Contribuent fortement aux progrès et avancées dans le traitement des maladies)', 'L8 (Jouent un rôle important dans l’augmentation de l’espérance et la qualité de vie des patients )'\n",
    "              , 'L8 (Sont indispensables au bon fonctionnement du système de santé)', 'L8 (Œuvrent à l’intérêt général)', 'L8 (Facilitent l’accès du plus grand nombre aux médicaments )'\n",
    "             , 'L8 (Agissent de manière éthique et intègre )', 'L8 (Placent les patients au cœur de leurs priorités )'\n",
    "              , 'L8 (Laissent les professionnels de santé libres dans leurs prescriptions, sans chercher à les influencer )']] = data[['L8 (Fournissent des médicaments de qualité et efficaces)'\n",
    "              , 'L8 (Contribuent fortement aux progrès et avancées dans le traitement des maladies)', 'L8 (Jouent un rôle important dans l’augmentation de l’espérance et la qualité de vie des patients )'\n",
    "              , 'L8 (Sont indispensables au bon fonctionnement du système de santé)', 'L8 (Œuvrent à l’intérêt général)', 'L8 (Facilitent l’accès du plus grand nombre aux médicaments )'\n",
    "             , 'L8 (Agissent de manière éthique et intègre )', 'L8 (Placent les patients au cœur de leurs priorités )'\n",
    "              , 'L8 (Laissent les professionnels de santé libres dans leurs prescriptions, sans chercher à les influencer )']].astype('category')"
   ]
  },
  {
   "cell_type": "code",
   "execution_count": 225,
   "metadata": {},
   "outputs": [],
   "source": [
    "ItemsL8 = ['L8 (Fournissent des médicaments de qualité et efficaces)'\n",
    "              , 'L8 (Contribuent fortement aux progrès et avancées dans le traitement des maladies)', 'L8 (Jouent un rôle important dans l’augmentation de l’espérance et la qualité de vie des patients )'\n",
    "              , 'L8 (Sont indispensables au bon fonctionnement du système de santé)', 'L8 (Œuvrent à l’intérêt général)', 'L8 (Facilitent l’accès du plus grand nombre aux médicaments )'\n",
    "             , 'L8 (Agissent de manière éthique et intègre )', 'L8 (Placent les patients au cœur de leurs priorités )'\n",
    "              , 'L8 (Laissent les professionnels de santé libres dans leurs prescriptions, sans chercher à les influencer )']"
   ]
  },
  {
   "cell_type": "code",
   "execution_count": 226,
   "metadata": {},
   "outputs": [],
   "source": [
    "#changer l'order des categories\n",
    "for i in data[ItemsL8].columns:\n",
    "    data[i] = pd.Categorical(data[i], \n",
    "                            categories=['Non, pas du tout'\n",
    "                                        , 'Non, plutôt pas'\n",
    "                                        , 'Oui, plutôt'\n",
    "                                       , 'Oui, tout à fait'\n",
    "                                       , 'Vous ne savez pas'\n",
    "                                       , 'Pas de réponse'], \n",
    "                            ordered=True)"
   ]
  },
  {
   "cell_type": "code",
   "execution_count": 227,
   "metadata": {},
   "outputs": [],
   "source": [
    "# Changer les noms des variables \n",
    "dict_nom = {'Région UDA9': \"Région\"\n",
    "        , \"Catégorie d'agglomération\": \"Agglomération\"\n",
    "        , 'Niveau de diplôme': \"Diplôme\"\n",
    "        , 'L1 (Du médicament)' : \"L1_médicament\"\n",
    "        , 'L8 (Fournissent des médicaments de qualité et efficaces)' : \"L8_1\"\n",
    "        , 'L8 (Contribuent fortement aux progrès et avancées dans le traitement des maladies)' : \"L8_2\"\n",
    "        , 'L8 (Jouent un rôle important dans l’augmentation de l’espérance et la qualité de vie des patients )' : \"L8_3\"\n",
    "        , 'L8 (Sont indispensables au bon fonctionnement du système de santé)' : \"L8_4\"\n",
    "        , 'L8 (Œuvrent à l’intérêt général)' : \"L8_5\"\n",
    "        , 'L8 (Facilitent l’accès du plus grand nombre aux médicaments )' : \"L8_6\"\n",
    "        , 'L8 (Agissent de manière éthique et intègre )' : \"L8_7\"\n",
    "        , 'L8 (Placent les patients au cœur de leurs priorités )' : \"L8_8\"\n",
    "        , 'L8 (Laissent les professionnels de santé libres dans leurs prescriptions, sans chercher à les influencer )' : \"L8_9\"}\n",
    "data.rename(columns=dict_nom,\n",
    "          inplace=True)"
   ]
  },
  {
   "cell_type": "code",
   "execution_count": 228,
   "metadata": {},
   "outputs": [],
   "source": [
    "# Les tableaux croisés\n",
    "B = ['L1_médicament', 'L2', 'L4', 'L5',  'L6', 'L8_1', 'L8_2', 'L8_3', 'L8_4', 'L8_5', 'L8_6', 'L8_7', 'L8_8', 'L8_9', 'L10']"
   ]
  },
  {
   "cell_type": "code",
   "execution_count": 229,
   "metadata": {},
   "outputs": [
    {
     "data": {
      "text/plain": [
       "L10\n",
       "Assez facile        621\n",
       "Assez difficile     230\n",
       "Très facile         115\n",
       "Très difficile       34\n",
       "Name: count, dtype: int64"
      ]
     },
     "execution_count": 229,
     "metadata": {},
     "output_type": "execute_result"
    }
   ],
   "source": [
    "# Variable 'L10'\n",
    "# Question : Avez-vous le sentiment qu’aujourd’hui en France, il est facile ou difficile de se procurer les médicaments dont on a besoin ? \n",
    "data['L10'].value_counts()"
   ]
  },
  {
   "cell_type": "code",
   "execution_count": 230,
   "metadata": {},
   "outputs": [],
   "source": [
    "data['L10'].fillna(\"Pas de réponse\", inplace = True)"
   ]
  },
  {
   "cell_type": "code",
   "execution_count": 231,
   "metadata": {},
   "outputs": [],
   "source": [
    "#changer l'order des categories\n",
    "data['L10'] = pd.Categorical(data['L10'], \n",
    "                            categories=['Très difficile'\n",
    "                                        , 'Assez difficile '\n",
    "                                        , 'Assez facile '\n",
    "                                       , 'Très facile '\n",
    "                                       , 'Pas de réponse'], \n",
    "                            ordered=True)"
   ]
  },
  {
   "cell_type": "code",
   "execution_count": 232,
   "metadata": {},
   "outputs": [
    {
     "data": {
      "text/plain": [
       "L10\n",
       "Assez facile        621\n",
       "Assez difficile     230\n",
       "Très facile         115\n",
       "Très difficile       34\n",
       "Pas de réponse        4\n",
       "Name: count, dtype: int64"
      ]
     },
     "execution_count": 232,
     "metadata": {},
     "output_type": "execute_result"
    }
   ],
   "source": [
    "data['L10'].value_counts()"
   ]
  },
  {
   "cell_type": "code",
   "execution_count": 233,
   "metadata": {},
   "outputs": [],
   "source": [
    "# fonction pour creer un tableau croisé multiple avec effectifs et pourcentages\n",
    "def tableau_croise_final(\n",
    "    data, var_dep, indeps):\n",
    "    t_nombre = pyshs.tableau_croise_multiple(data,\n",
    "                              var_dep,\n",
    "                              indeps,               \n",
    "                              contenu=\"absolu\") \n",
    "    t_pourcentage = pyshs.tableau_croise_multiple(data,\n",
    "                              var_dep,\n",
    "                              indeps,                   \n",
    "                              contenu=\"pourcentage\" )\n",
    "    t=pd.concat({n:pd.concat({\"Effectif\":t_nombre[n],\"%\":t_pourcentage[n]},axis=1)                     \n",
    "        for n in t_nombre.columns if n != \"Total\" and n != \"Distribution\"},axis=1)\n",
    "    \n",
    "    for n in t_nombre.columns:\n",
    "        if n == \"Total\":\n",
    "            t[\"Total\"] = t_nombre[\"Total\"]\n",
    "\n",
    "    t[\"Distribution\"]= t_pourcentage[\"Distribution\"]\n",
    "    \n",
    "    t = t.reset_index()\n",
    "    \n",
    "    t[\"Question\"] = t[\"Variable\"].apply(lambda x : x.split(' ')[0])\n",
    "    \n",
    "    t[\"Question\"] = t[\"Question\"].apply(lambda x : list({key: questions_variables[key] for key in [x]}.values())[0])\n",
    "    \n",
    "    t = t.set_index(['Question','Variable'])\n",
    "    \n",
    "    return t\n"
   ]
  },
  {
   "cell_type": "code",
   "execution_count": 234,
   "metadata": {},
   "outputs": [],
   "source": [
    "Tableaux = {}\n",
    "for i in B:\n",
    "    tableau_i = tableau_croise_final(data, i, list_indeps)\n",
    "    Tableaux.update({i: tableau_i})"
   ]
  },
  {
   "cell_type": "code",
   "execution_count": 235,
   "metadata": {},
   "outputs": [
    {
     "name": "stderr",
     "output_type": "stream",
     "text": [
      "<ipython-input-235-930609d0f3b4>:1: UserWarning: Pandas requires version '1.4.3' or newer of 'xlsxwriter' (version '1.3.7' currently installed).\n",
      "  with pd.ExcelWriter(r\"C:\\Users\\rana_\\OneDrive\\Bureau\\inserm\\travaux\\Leem_2020_2021\\transfer_6262507_files_792d0717\\LEEM - 2021-2020\\LEEM_2022\\transfer_6340865_files_2bffa310\\LEEM 2022\\Tableaux_croisés_Leem_2022.xlsx\") as engine:\n"
     ]
    }
   ],
   "source": [
    "with pd.ExcelWriter(r\"C:\\Users\\rana_\\OneDrive\\Bureau\\inserm\\travaux\\Leem_2020_2021\\transfer_6262507_files_792d0717\\LEEM - 2021-2020\\LEEM_2022\\transfer_6340865_files_2bffa310\\LEEM 2022\\Tableaux_croisés_Leem_2022.xlsx\") as engine:\n",
    "    for key, val in Tableaux.items():\n",
    "        val.to_excel(engine, sheet_name=key)"
   ]
  },
  {
   "cell_type": "code",
   "execution_count": 236,
   "metadata": {},
   "outputs": [
    {
     "data": {
      "text/plain": [
       "L1 (Du pétrole)\n",
       "Plutôt pas confiance     422\n",
       "Plutôt confiance         368\n",
       "Pas du tout confiance    151\n",
       "Tout à fait confiance     60\n",
       "Name: count, dtype: int64"
      ]
     },
     "execution_count": 236,
     "metadata": {},
     "output_type": "execute_result"
    }
   ],
   "source": [
    "# ACM\n",
    "# Variable 'L1 (Du pétrole)'\n",
    "# Question : Diriez-vous que vous avez confiance dans les entreprises du secteur : Du pétrole\n",
    "data['L1 (Du pétrole)'].value_counts()"
   ]
  },
  {
   "cell_type": "code",
   "execution_count": 237,
   "metadata": {},
   "outputs": [
    {
     "data": {
      "text/plain": [
       "3"
      ]
     },
     "execution_count": 237,
     "metadata": {},
     "output_type": "execute_result"
    }
   ],
   "source": [
    "data['L1 (Du pétrole)'].isna().sum()"
   ]
  },
  {
   "cell_type": "code",
   "execution_count": 238,
   "metadata": {},
   "outputs": [],
   "source": [
    "data['L1 (Du pétrole)'].fillna(\"Pas de réponse\", inplace = True)"
   ]
  },
  {
   "cell_type": "code",
   "execution_count": 240,
   "metadata": {},
   "outputs": [
    {
     "data": {
      "text/plain": [
       "L1 (De la grande distribution)\n",
       "Plutôt confiance         517\n",
       "Plutôt pas confiance     334\n",
       "Pas du tout confiance     73\n",
       "Tout à fait confiance     72\n",
       "Name: count, dtype: int64"
      ]
     },
     "execution_count": 240,
     "metadata": {},
     "output_type": "execute_result"
    }
   ],
   "source": [
    "# Variable 'L1 (De la grande distribution)'\n",
    "# Question : Diriez-vous que vous avez confiance dans les entreprises du secteur : De la grande distribution\n",
    "data['L1 (De la grande distribution)'].value_counts()"
   ]
  },
  {
   "cell_type": "code",
   "execution_count": 241,
   "metadata": {},
   "outputs": [
    {
     "data": {
      "text/plain": [
       "8"
      ]
     },
     "execution_count": 241,
     "metadata": {},
     "output_type": "execute_result"
    }
   ],
   "source": [
    "data['L1 (De la grande distribution)'].isna().sum()"
   ]
  },
  {
   "cell_type": "code",
   "execution_count": 242,
   "metadata": {},
   "outputs": [],
   "source": [
    "data['L1 (De la grande distribution)'].fillna(\"Pas de réponse\", inplace = True)"
   ]
  },
  {
   "cell_type": "code",
   "execution_count": 243,
   "metadata": {},
   "outputs": [
    {
     "data": {
      "text/plain": [
       "L1 (Des télécommunications du numérique )\n",
       "Plutôt confiance         584\n",
       "Plutôt pas confiance     265\n",
       "Tout à fait confiance     92\n",
       "Pas du tout confiance     60\n",
       "Name: count, dtype: int64"
      ]
     },
     "execution_count": 243,
     "metadata": {},
     "output_type": "execute_result"
    }
   ],
   "source": [
    "# Variable 'L1 (Des télécommunications du numérique )'\n",
    "# Question : Diriez-vous que vous avez confiance dans les entreprises du secteur : Des télécommunications, du numérique\n",
    "data['L1 (Des télécommunications du numérique )'].value_counts()"
   ]
  },
  {
   "cell_type": "code",
   "execution_count": 244,
   "metadata": {},
   "outputs": [
    {
     "data": {
      "text/plain": [
       "3"
      ]
     },
     "execution_count": 244,
     "metadata": {},
     "output_type": "execute_result"
    }
   ],
   "source": [
    "data['L1 (Des télécommunications du numérique )'].isna().sum()"
   ]
  },
  {
   "cell_type": "code",
   "execution_count": 245,
   "metadata": {},
   "outputs": [],
   "source": [
    "data['L1 (Des télécommunications du numérique )'].fillna(\"Pas de réponse\", inplace = True)"
   ]
  },
  {
   "cell_type": "code",
   "execution_count": 246,
   "metadata": {},
   "outputs": [
    {
     "data": {
      "text/plain": [
       "L1 (De l’agro-alimentaire)\n",
       "Plutôt confiance         521\n",
       "Plutôt pas confiance     318\n",
       "Tout à fait confiance     86\n",
       "Pas du tout confiance     76\n",
       "Name: count, dtype: int64"
      ]
     },
     "execution_count": 246,
     "metadata": {},
     "output_type": "execute_result"
    }
   ],
   "source": [
    "# Variable 'L1 (De l’agro-alimentaire)'\n",
    "# Question : Diriez-vous que vous avez confiance dans les entreprises du secteur : De l'agro-alimentaire\n",
    "data['L1 (De l’agro-alimentaire)'].value_counts()"
   ]
  },
  {
   "cell_type": "code",
   "execution_count": 247,
   "metadata": {},
   "outputs": [
    {
     "data": {
      "text/plain": [
       "3"
      ]
     },
     "execution_count": 247,
     "metadata": {},
     "output_type": "execute_result"
    }
   ],
   "source": [
    "data['L1 (De l’agro-alimentaire)'].isna().sum()"
   ]
  },
  {
   "cell_type": "code",
   "execution_count": 248,
   "metadata": {},
   "outputs": [],
   "source": [
    "data['L1 (De l’agro-alimentaire)'].fillna(\"Pas de réponse\", inplace = True)"
   ]
  },
  {
   "cell_type": "code",
   "execution_count": 250,
   "metadata": {},
   "outputs": [
    {
     "data": {
      "text/plain": [
       "L1_médicament\n",
       "Plutôt confiance         530\n",
       "Plutôt pas confiance     269\n",
       "Tout à fait confiance    105\n",
       "Pas du tout confiance     94\n",
       "Pas de réponse             6\n",
       "Name: count, dtype: int64"
      ]
     },
     "execution_count": 250,
     "metadata": {},
     "output_type": "execute_result"
    }
   ],
   "source": [
    "# Variable 'L1_médicament'\n",
    "# Question : Diriez-vous que vous avez confiance dans les entreprises du secteur : Du médicament\n",
    "data['L1_médicament'].value_counts()"
   ]
  },
  {
   "cell_type": "code",
   "execution_count": 251,
   "metadata": {},
   "outputs": [
    {
     "data": {
      "text/plain": [
       "L1 (De la banque et de l’assurance)\n",
       "Plutôt confiance         472\n",
       "Plutôt pas confiance     346\n",
       "Pas du tout confiance    117\n",
       "Tout à fait confiance     65\n",
       "Name: count, dtype: int64"
      ]
     },
     "execution_count": 251,
     "metadata": {},
     "output_type": "execute_result"
    }
   ],
   "source": [
    "# Variable 'L1 (De la banque et de l’assurance)'\n",
    "# Question : Diriez-vous que vous avez confiance dans les entreprises du secteur : De la banque et de l'assurance\n",
    "data['L1 (De la banque et de l’assurance)'].value_counts()"
   ]
  },
  {
   "cell_type": "code",
   "execution_count": 252,
   "metadata": {},
   "outputs": [
    {
     "data": {
      "text/plain": [
       "4"
      ]
     },
     "execution_count": 252,
     "metadata": {},
     "output_type": "execute_result"
    }
   ],
   "source": [
    "data['L1 (De la banque et de l’assurance)'].isna().sum()"
   ]
  },
  {
   "cell_type": "code",
   "execution_count": 253,
   "metadata": {},
   "outputs": [],
   "source": [
    "data['L1 (De la banque et de l’assurance)'].fillna(\"Pas de réponse\", inplace = True)"
   ]
  },
  {
   "cell_type": "code",
   "execution_count": 254,
   "metadata": {},
   "outputs": [
    {
     "data": {
      "text/plain": [
       "L1 (Du bâtiment et des travaux publics)\n",
       "Plutôt confiance         661\n",
       "Plutôt pas confiance     193\n",
       "Tout à fait confiance     99\n",
       "Pas du tout confiance     48\n",
       "Name: count, dtype: int64"
      ]
     },
     "execution_count": 254,
     "metadata": {},
     "output_type": "execute_result"
    }
   ],
   "source": [
    "# Variable 'L1 (Du bâtiment et des travaux publics)'\n",
    "# Question : Diriez-vous que vous avez confiance dans les entreprises du secteur : Du bâtiment et des travaux publics\n",
    "data['L1 (Du bâtiment et des travaux publics)'].value_counts()"
   ]
  },
  {
   "cell_type": "code",
   "execution_count": 255,
   "metadata": {},
   "outputs": [
    {
     "data": {
      "text/plain": [
       "3"
      ]
     },
     "execution_count": 255,
     "metadata": {},
     "output_type": "execute_result"
    }
   ],
   "source": [
    "data['L1 (Du bâtiment et des travaux publics)'].isna().sum()"
   ]
  },
  {
   "cell_type": "code",
   "execution_count": 256,
   "metadata": {},
   "outputs": [],
   "source": [
    "data['L1 (Du bâtiment et des travaux publics)'].fillna(\"Pas de réponse\", inplace = True)"
   ]
  },
  {
   "cell_type": "code",
   "execution_count": 257,
   "metadata": {},
   "outputs": [
    {
     "data": {
      "text/plain": [
       "L1 (De l’automobile)\n",
       "Plutôt confiance         651\n",
       "Plutôt pas confiance     208\n",
       "Tout à fait confiance     92\n",
       "Pas du tout confiance     51\n",
       "Name: count, dtype: int64"
      ]
     },
     "execution_count": 257,
     "metadata": {},
     "output_type": "execute_result"
    }
   ],
   "source": [
    "# Variable 'L1 (De l’automobile)'\n",
    "# Question : Diriez-vous que vous avez confiance dans les entreprises du secteur : De l'automobile\n",
    "data['L1 (De l’automobile)'].value_counts()"
   ]
  },
  {
   "cell_type": "code",
   "execution_count": 258,
   "metadata": {},
   "outputs": [
    {
     "data": {
      "text/plain": [
       "2"
      ]
     },
     "execution_count": 258,
     "metadata": {},
     "output_type": "execute_result"
    }
   ],
   "source": [
    "data['L1 (De l’automobile)'].isna().sum()"
   ]
  },
  {
   "cell_type": "code",
   "execution_count": 259,
   "metadata": {},
   "outputs": [],
   "source": [
    "data['L1 (De l’automobile)'].fillna(\"Pas de réponse\", inplace = True)"
   ]
  },
  {
   "cell_type": "code",
   "execution_count": 260,
   "metadata": {},
   "outputs": [
    {
     "data": {
      "text/plain": [
       "L1 (Du nucléaire)\n",
       "Plutôt confiance         503\n",
       "Plutôt pas confiance     257\n",
       "Pas du tout confiance    123\n",
       "Tout à fait confiance    118\n",
       "Name: count, dtype: int64"
      ]
     },
     "execution_count": 260,
     "metadata": {},
     "output_type": "execute_result"
    }
   ],
   "source": [
    "# Variable 'L1 (Du nucléaire)'\n",
    "# Question : Diriez-vous que vous avez confiance dans les entreprises du secteur : Du nucléaire\n",
    "data['L1 (Du nucléaire)'].value_counts()"
   ]
  },
  {
   "cell_type": "code",
   "execution_count": 261,
   "metadata": {},
   "outputs": [
    {
     "data": {
      "text/plain": [
       "3"
      ]
     },
     "execution_count": 261,
     "metadata": {},
     "output_type": "execute_result"
    }
   ],
   "source": [
    "data['L1 (Du nucléaire)'].isna().sum()"
   ]
  },
  {
   "cell_type": "code",
   "execution_count": 262,
   "metadata": {},
   "outputs": [],
   "source": [
    "data['L1 (Du nucléaire)'].fillna(\"Pas de réponse\", inplace = True)"
   ]
  },
  {
   "cell_type": "code",
   "execution_count": 264,
   "metadata": {},
   "outputs": [
    {
     "data": {
      "text/plain": [
       "L1 (De l’aéronautique et aérospatial)\n",
       "Plutôt confiance         638\n",
       "Tout à fait confiance    192\n",
       "Plutôt pas confiance     135\n",
       "Pas du tout confiance     36\n",
       "Name: count, dtype: int64"
      ]
     },
     "execution_count": 264,
     "metadata": {},
     "output_type": "execute_result"
    }
   ],
   "source": [
    "# Variable 'L1 (De l’aéronautique et aérospatial)'\n",
    "# Question : Diriez-vous que vous avez confiance dans les entreprises du secteur : De l'aéronautique et aérospatial\n",
    "data['L1 (De l’aéronautique et aérospatial)'].value_counts()"
   ]
  },
  {
   "cell_type": "code",
   "execution_count": 265,
   "metadata": {},
   "outputs": [
    {
     "data": {
      "text/plain": [
       "3"
      ]
     },
     "execution_count": 265,
     "metadata": {},
     "output_type": "execute_result"
    }
   ],
   "source": [
    "data['L1 (De l’aéronautique et aérospatial)'].isna().sum()"
   ]
  },
  {
   "cell_type": "code",
   "execution_count": 266,
   "metadata": {},
   "outputs": [],
   "source": [
    "data['L1 (De l’aéronautique et aérospatial)'].fillna(\"Pas de réponse\", inplace = True)"
   ]
  },
  {
   "cell_type": "code",
   "execution_count": 267,
   "metadata": {},
   "outputs": [
    {
     "data": {
      "text/plain": [
       "L1 (De la chimie)\n",
       "Plutôt confiance         568\n",
       "Plutôt pas confiance     273\n",
       "Tout à fait confiance     83\n",
       "Pas du tout confiance     76\n",
       "Name: count, dtype: int64"
      ]
     },
     "execution_count": 267,
     "metadata": {},
     "output_type": "execute_result"
    }
   ],
   "source": [
    "# Variable 'L1 (De la chimie)'\n",
    "# Question : Diriez-vous que vous avez confiance dans les entreprises du secteur : De la chimie\n",
    "data['L1 (De la chimie)'].value_counts()"
   ]
  },
  {
   "cell_type": "code",
   "execution_count": 268,
   "metadata": {},
   "outputs": [
    {
     "data": {
      "text/plain": [
       "4"
      ]
     },
     "execution_count": 268,
     "metadata": {},
     "output_type": "execute_result"
    }
   ],
   "source": [
    "data['L1 (De la chimie)'].isna().sum()"
   ]
  },
  {
   "cell_type": "code",
   "execution_count": 269,
   "metadata": {},
   "outputs": [],
   "source": [
    "data['L1 (De la chimie)'].fillna(\"Pas de réponse\", inplace = True)"
   ]
  },
  {
   "cell_type": "code",
   "execution_count": 271,
   "metadata": {},
   "outputs": [],
   "source": [
    "data[['L1 (Du pétrole)', 'L1 (De la grande distribution)', 'L1 (Des télécommunications du numérique )', 'L1 (De l’agro-alimentaire)', 'L1_médicament', 'L1 (De la banque et de l’assurance)', 'L1 (Du bâtiment et des travaux publics)', 'L1 (De l’automobile)', 'L1 (Du nucléaire)', 'L1 (De l’aéronautique et aérospatial)', 'L1 (De la chimie)']] = data[['L1 (Du pétrole)', 'L1 (De la grande distribution)', 'L1 (Des télécommunications du numérique )', 'L1 (De l’agro-alimentaire)', 'L1_médicament', 'L1 (De la banque et de l’assurance)', 'L1 (Du bâtiment et des travaux publics)', 'L1 (De l’automobile)', 'L1 (Du nucléaire)', 'L1 (De l’aéronautique et aérospatial)', 'L1 (De la chimie)']].astype('category')"
   ]
  },
  {
   "cell_type": "code",
   "execution_count": 272,
   "metadata": {},
   "outputs": [],
   "source": [
    "Entrep_conf = ['L1 (Du pétrole)', 'L1 (De la grande distribution)', 'L1 (Des télécommunications du numérique )', 'L1 (De l’agro-alimentaire)', 'L1_médicament', 'L1 (De la banque et de l’assurance)', 'L1 (Du bâtiment et des travaux publics)', 'L1 (De l’automobile)', 'L1 (Du nucléaire)', 'L1 (De l’aéronautique et aérospatial)', 'L1 (De la chimie)']"
   ]
  },
  {
   "cell_type": "code",
   "execution_count": 273,
   "metadata": {},
   "outputs": [],
   "source": [
    "#changer l'order des categories\n",
    "for i in data[Entrep_conf].columns:\n",
    "    data[i] = pd.Categorical(data[i], \n",
    "                            categories=['Pas du tout confiance'\n",
    "                                        , 'Plutôt pas confiance'\n",
    "                                        , 'Plutôt confiance'\n",
    "                                       , 'Tout à fait confiance'\n",
    "                                       , 'Pas de réponse'], \n",
    "                            ordered=True)"
   ]
  },
  {
   "cell_type": "code",
   "execution_count": 274,
   "metadata": {},
   "outputs": [],
   "source": [
    "# Changer les noms des variables \n",
    "dict_nom = {'L1 (Du pétrole)' : \"Pétrole\"\n",
    "        , 'L1 (De la grande distribution)' : \"Grande distribution\"\n",
    "        , 'L1 (Des télécommunications du numérique )' : \"Télécommunications, Numérique\"\n",
    "        , 'L1 (De l’agro-alimentaire)' : \"Agro-alimentaire\"\n",
    "        , 'L1_médicament' : \"Médicament\"\n",
    "        , 'L1 (De la banque et de l’assurance)' : \"Banque et Assurance\"\n",
    "        , 'L1 (Du bâtiment et des travaux publics)' : \"Bâtiment et travaux publics\"\n",
    "        , 'L1 (De l’automobile)' : \"Automobile\"\n",
    "        , 'L1 (Du nucléaire)' : \"Nucléaire\"\n",
    "        , 'L1 (De l’aéronautique et aérospatial)' : \"Aéronautique et aérospatial\"\n",
    "        , 'L1 (De la chimie)' : \"Chimie\"}\n",
    "data.rename(columns=dict_nom,\n",
    "          inplace=True)"
   ]
  },
  {
   "cell_type": "code",
   "execution_count": 275,
   "metadata": {},
   "outputs": [],
   "source": [
    "ItemsEnt = ['Pétrole', 'Grande distribution', 'Télécommunications, Numérique', 'Agro-alimentaire', 'Médicament', 'Banque et Assurance', 'Bâtiment et travaux publics', 'Automobile', 'Nucléaire', 'Aéronautique et aérospatial', 'Chimie']"
   ]
  },
  {
   "cell_type": "code",
   "execution_count": 276,
   "metadata": {},
   "outputs": [
    {
     "data": {
      "text/html": [
       "\n",
       "<div id=\"altair-viz-0bd3c59086764a1493b41902ce7e36a1\"></div>\n",
       "<script type=\"text/javascript\">\n",
       "  var VEGA_DEBUG = (typeof VEGA_DEBUG == \"undefined\") ? {} : VEGA_DEBUG;\n",
       "  (function(spec, embedOpt){\n",
       "    let outputDiv = document.currentScript.previousElementSibling;\n",
       "    if (outputDiv.id !== \"altair-viz-0bd3c59086764a1493b41902ce7e36a1\") {\n",
       "      outputDiv = document.getElementById(\"altair-viz-0bd3c59086764a1493b41902ce7e36a1\");\n",
       "    }\n",
       "    const paths = {\n",
       "      \"vega\": \"https://cdn.jsdelivr.net/npm//vega@5?noext\",\n",
       "      \"vega-lib\": \"https://cdn.jsdelivr.net/npm//vega-lib?noext\",\n",
       "      \"vega-lite\": \"https://cdn.jsdelivr.net/npm//vega-lite@4.17.0?noext\",\n",
       "      \"vega-embed\": \"https://cdn.jsdelivr.net/npm//vega-embed@6?noext\",\n",
       "    };\n",
       "\n",
       "    function maybeLoadScript(lib, version) {\n",
       "      var key = `${lib.replace(\"-\", \"\")}_version`;\n",
       "      return (VEGA_DEBUG[key] == version) ?\n",
       "        Promise.resolve(paths[lib]) :\n",
       "        new Promise(function(resolve, reject) {\n",
       "          var s = document.createElement('script');\n",
       "          document.getElementsByTagName(\"head\")[0].appendChild(s);\n",
       "          s.async = true;\n",
       "          s.onload = () => {\n",
       "            VEGA_DEBUG[key] = version;\n",
       "            return resolve(paths[lib]);\n",
       "          };\n",
       "          s.onerror = () => reject(`Error loading script: ${paths[lib]}`);\n",
       "          s.src = paths[lib];\n",
       "        });\n",
       "    }\n",
       "\n",
       "    function showError(err) {\n",
       "      outputDiv.innerHTML = `<div class=\"error\" style=\"color:red;\">${err}</div>`;\n",
       "      throw err;\n",
       "    }\n",
       "\n",
       "    function displayChart(vegaEmbed) {\n",
       "      vegaEmbed(outputDiv, spec, embedOpt)\n",
       "        .catch(err => showError(`Javascript Error: ${err.message}<br>This usually means there's a typo in your chart specification. See the javascript console for the full traceback.`));\n",
       "    }\n",
       "\n",
       "    if(typeof define === \"function\" && define.amd) {\n",
       "      requirejs.config({paths});\n",
       "      require([\"vega-embed\"], displayChart, err => showError(`Error loading script: ${err.message}`));\n",
       "    } else {\n",
       "      maybeLoadScript(\"vega\", \"5\")\n",
       "        .then(() => maybeLoadScript(\"vega-lite\", \"4.17.0\"))\n",
       "        .then(() => maybeLoadScript(\"vega-embed\", \"6\"))\n",
       "        .catch(showError)\n",
       "        .then(() => displayChart(vegaEmbed));\n",
       "    }\n",
       "  })({\"config\": {\"view\": {\"continuousWidth\": 400, \"continuousHeight\": 300}}, \"data\": {\"name\": \"data-b8694d235b768a4ee2ce63bb1f5f87a6\"}, \"mark\": {\"type\": \"circle\", \"size\": 50}, \"encoding\": {\"color\": {\"field\": \"variable\", \"type\": \"nominal\"}, \"tooltip\": [{\"field\": \"variable\", \"type\": \"nominal\"}, {\"field\": \"value\", \"type\": \"nominal\"}, {\"field\": \"component 0\", \"type\": \"quantitative\"}, {\"field\": \"component 1\", \"type\": \"quantitative\"}], \"x\": {\"axis\": {\"title\": \"component 0 \\u2014 13.40%\"}, \"field\": \"component 0\", \"scale\": {\"zero\": false}, \"type\": \"quantitative\"}, \"y\": {\"axis\": {\"title\": \"component 1 \\u2014 13.21%\"}, \"field\": \"component 1\", \"scale\": {\"zero\": false}, \"type\": \"quantitative\"}}, \"selection\": {\"selector001\": {\"type\": \"interval\", \"bind\": \"scales\", \"encodings\": [\"x\", \"y\"]}}, \"$schema\": \"https://vega.github.io/schema/vega-lite/v4.17.0.json\", \"datasets\": {\"data-b8694d235b768a4ee2ce63bb1f5f87a6\": [{\"component 0\": 0.22563830993789916, \"component 1\": -0.21857623396056017, \"variable\": \"row\", \"value\": \"0\"}, {\"component 0\": 0.2806660059641445, \"component 1\": -0.39571684402170415, \"variable\": \"row\", \"value\": \"1\"}, {\"component 0\": 0.13914166119108146, \"component 1\": -0.3258629579154503, \"variable\": \"row\", \"value\": \"2\"}, {\"component 0\": -0.41737857112139626, \"component 1\": 0.27041686679877186, \"variable\": \"row\", \"value\": \"3\"}, {\"component 0\": -0.2871024377723471, \"component 1\": 0.19977684091670483, \"variable\": \"row\", \"value\": \"4\"}, {\"component 0\": -0.4776844135879628, \"component 1\": 0.3514628990315878, \"variable\": \"row\", \"value\": \"5\"}, {\"component 0\": -0.1439035504611944, \"component 1\": -0.03891033418692825, \"variable\": \"row\", \"value\": \"6\"}, {\"component 0\": 0.09660891669432459, \"component 1\": -0.2785207684288804, \"variable\": \"row\", \"value\": \"7\"}, {\"component 0\": -0.7430124379763204, \"component 1\": 0.6778159868838063, \"variable\": \"row\", \"value\": \"8\"}, {\"component 0\": 0.13914166119108146, \"component 1\": -0.3258629579154503, \"variable\": \"row\", \"value\": \"9\"}, {\"component 0\": -0.07248792675022626, \"component 1\": -0.1042213793895852, \"variable\": \"row\", \"value\": \"10\"}, {\"component 0\": 0.13914166119108146, \"component 1\": -0.3258629579154503, \"variable\": \"row\", \"value\": \"11\"}, {\"component 0\": -0.13496816831652073, \"component 1\": -0.036963154356854884, \"variable\": \"row\", \"value\": \"12\"}, {\"component 0\": 0.005247293115339562, \"component 1\": -0.18082895180198136, \"variable\": \"row\", \"value\": \"13\"}, {\"component 0\": -0.022480537503063752, \"component 1\": -0.16462891795310294, \"variable\": \"row\", \"value\": \"14\"}, {\"component 0\": -0.4277403042964202, \"component 1\": 0.2764974423614755, \"variable\": \"row\", \"value\": \"15\"}, {\"component 0\": -0.3660368824204175, \"component 1\": 0.24653110016257576, \"variable\": \"row\", \"value\": \"16\"}, {\"component 0\": 0.315705049090989, \"component 1\": -0.4216484821828387, \"variable\": \"row\", \"value\": \"17\"}, {\"component 0\": 0.25596688765941544, \"component 1\": -0.39179921236256937, \"variable\": \"row\", \"value\": \"18\"}, {\"component 0\": -0.3237772176875253, \"component 1\": 0.16615569924094797, \"variable\": \"row\", \"value\": \"19\"}, {\"component 0\": 0.30179470871592234, \"component 1\": -0.395092149592869, \"variable\": \"row\", \"value\": \"20\"}, {\"component 0\": -0.2798927688739505, \"component 1\": 0.11486067084059076, \"variable\": \"row\", \"value\": \"21\"}, {\"component 0\": -0.023630337426936304, \"component 1\": -0.15846510229099828, \"variable\": \"row\", \"value\": \"22\"}, {\"component 0\": 9.9479732325729, \"component 1\": 10.06610842166076, \"variable\": \"row\", \"value\": \"23\"}, {\"component 0\": 0.09213108123196156, \"component 1\": -0.2786710266034935, \"variable\": \"row\", \"value\": \"24\"}, {\"component 0\": 0.8270092836525746, \"component 1\": -0.6032365757903956, \"variable\": \"row\", \"value\": \"25\"}, {\"component 0\": -0.5317824215091037, \"component 1\": 0.40133783176707893, \"variable\": \"row\", \"value\": \"26\"}, {\"component 0\": 0.13914166119108146, \"component 1\": -0.3258629579154503, \"variable\": \"row\", \"value\": \"27\"}, {\"component 0\": -0.5463510536454251, \"component 1\": 0.41654124429456785, \"variable\": \"row\", \"value\": \"28\"}, {\"component 0\": 0.17322296117068134, \"component 1\": -0.17191941846024716, \"variable\": \"row\", \"value\": \"29\"}, {\"component 0\": 0.9945140061369391, \"component 1\": -0.6941069533889435, \"variable\": \"row\", \"value\": \"30\"}, {\"component 0\": -0.33071936870258245, \"component 1\": 0.17458800442302616, \"variable\": \"row\", \"value\": \"31\"}, {\"component 0\": -0.5937234280994191, \"component 1\": 0.4950840186330269, \"variable\": \"row\", \"value\": \"32\"}, {\"component 0\": 0.13914166119108146, \"component 1\": -0.3258629579154503, \"variable\": \"row\", \"value\": \"33\"}, {\"component 0\": -0.15916598207505278, \"component 1\": -0.0025027472322086937, \"variable\": \"row\", \"value\": \"34\"}, {\"component 0\": -0.013877057524508686, \"component 1\": 0.02699182095512971, \"variable\": \"row\", \"value\": \"35\"}, {\"component 0\": 0.5271130976518266, \"component 1\": -0.49659429720237575, \"variable\": \"row\", \"value\": \"36\"}, {\"component 0\": 0.13914166119108146, \"component 1\": -0.3258629579154503, \"variable\": \"row\", \"value\": \"37\"}, {\"component 0\": 1.438008697313831, \"component 1\": 1.085690052296743, \"variable\": \"row\", \"value\": \"38\"}, {\"component 0\": -0.15285853870561272, \"component 1\": -0.016786641006374062, \"variable\": \"row\", \"value\": \"39\"}, {\"component 0\": 0.13914166119108146, \"component 1\": -0.3258629579154503, \"variable\": \"row\", \"value\": \"40\"}, {\"component 0\": 0.1712179268887759, \"component 1\": -0.1147412461353722, \"variable\": \"row\", \"value\": \"41\"}, {\"component 0\": 0.09491918370812522, \"component 1\": -0.2047208675584429, \"variable\": \"row\", \"value\": \"42\"}, {\"component 0\": -0.03938172846587071, \"component 1\": -0.09936269568185221, \"variable\": \"row\", \"value\": \"43\"}, {\"component 0\": -0.09505919410940905, \"component 1\": -0.02750684893198913, \"variable\": \"row\", \"value\": \"44\"}, {\"component 0\": 0.7543707646897478, \"component 1\": -0.605235107805509, \"variable\": \"row\", \"value\": \"45\"}, {\"component 0\": -0.914035972802141, \"component 1\": 0.8902590430644861, \"variable\": \"row\", \"value\": \"46\"}, {\"component 0\": 0.08356051625210548, \"component 1\": -0.2577819313027965, \"variable\": \"row\", \"value\": \"47\"}, {\"component 0\": 0.041759989967366316, \"component 1\": -0.14468437636370776, \"variable\": \"row\", \"value\": \"48\"}, {\"component 0\": 0.03517292406701143, \"component 1\": -0.17350144840796353, \"variable\": \"row\", \"value\": \"49\"}, {\"component 0\": 0.5962065436071012, \"component 1\": -0.5118469206187043, \"variable\": \"row\", \"value\": \"50\"}, {\"component 0\": 0.33050317560170883, \"component 1\": 0.9686376957125616, \"variable\": \"row\", \"value\": \"51\"}, {\"component 0\": -0.48133361128245916, \"component 1\": 0.34013427667040563, \"variable\": \"row\", \"value\": \"52\"}, {\"component 0\": 0.24270792592819954, \"component 1\": -0.3271563983126416, \"variable\": \"row\", \"value\": \"53\"}, {\"component 0\": 0.2227397392427175, \"component 1\": -0.36936771966626575, \"variable\": \"row\", \"value\": \"54\"}, {\"component 0\": 0.3552234874363387, \"component 1\": -0.3644361724432885, \"variable\": \"row\", \"value\": \"55\"}, {\"component 0\": 0.34845530739469605, \"component 1\": -0.4069853957426822, \"variable\": \"row\", \"value\": \"56\"}, {\"component 0\": 0.13914166119108146, \"component 1\": -0.3258629579154503, \"variable\": \"row\", \"value\": \"57\"}, {\"component 0\": -0.291621701074916, \"component 1\": 0.15395571438335606, \"variable\": \"row\", \"value\": \"58\"}, {\"component 0\": 0.05350488873992353, \"component 1\": -0.1376988953237047, \"variable\": \"row\", \"value\": \"59\"}, {\"component 0\": 0.13914166119108146, \"component 1\": -0.3258629579154503, \"variable\": \"row\", \"value\": \"60\"}, {\"component 0\": 0.9431499998628793, \"component 1\": -0.6886780458060934, \"variable\": \"row\", \"value\": \"61\"}, {\"component 0\": 0.03284540694761798, \"component 1\": -0.20384777173272223, \"variable\": \"row\", \"value\": \"62\"}, {\"component 0\": -0.3140614841081444, \"component 1\": 0.15770701291424064, \"variable\": \"row\", \"value\": \"63\"}, {\"component 0\": 0.25596688765941544, \"component 1\": -0.39179921236256937, \"variable\": \"row\", \"value\": \"64\"}, {\"component 0\": -0.15858674124354344, \"component 1\": 0.012194136908020523, \"variable\": \"row\", \"value\": \"65\"}, {\"component 0\": 0.13914166119108146, \"component 1\": -0.3258629579154503, \"variable\": \"row\", \"value\": \"66\"}, {\"component 0\": -0.03331963069656894, \"component 1\": -0.15273022181640508, \"variable\": \"row\", \"value\": \"67\"}, {\"component 0\": 0.13914166119108146, \"component 1\": -0.3258629579154503, \"variable\": \"row\", \"value\": \"68\"}, {\"component 0\": -1.8936382102697698, \"component 1\": 2.0998503733588643, \"variable\": \"row\", \"value\": \"69\"}, {\"component 0\": 1.5681964948762543, \"component 1\": -1.0026269652443551, \"variable\": \"row\", \"value\": \"70\"}, {\"component 0\": 0.3378525086779174, \"component 1\": -0.41265468032341335, \"variable\": \"row\", \"value\": \"71\"}, {\"component 0\": 1.5681964948762543, \"component 1\": -1.0026269652443551, \"variable\": \"row\", \"value\": \"72\"}, {\"component 0\": 0.47709211190461037, \"component 1\": -0.43866120542685294, \"variable\": \"row\", \"value\": \"73\"}, {\"component 0\": -0.2704564714499605, \"component 1\": 0.1065347298290823, \"variable\": \"row\", \"value\": \"74\"}, {\"component 0\": -0.05713651649750144, \"component 1\": -0.11697164933999937, \"variable\": \"row\", \"value\": \"75\"}, {\"component 0\": 0.13914166119108146, \"component 1\": -0.3258629579154503, \"variable\": \"row\", \"value\": \"76\"}, {\"component 0\": -0.22275311529261593, \"component 1\": 0.037635625300734145, \"variable\": \"row\", \"value\": \"77\"}, {\"component 0\": -1.8936382102697698, \"component 1\": 2.0998503733588643, \"variable\": \"row\", \"value\": \"78\"}, {\"component 0\": -1.7844637583447547, \"component 1\": 1.9681325124372804, \"variable\": \"row\", \"value\": \"79\"}, {\"component 0\": 0.39858119093837796, \"component 1\": -0.45658898822954685, \"variable\": \"row\", \"value\": \"80\"}, {\"component 0\": -0.27009047292180355, \"component 1\": 0.0974147728007422, \"variable\": \"row\", \"value\": \"81\"}, {\"component 0\": -0.10930290311762796, \"component 1\": -0.0684967521807321, \"variable\": \"row\", \"value\": \"82\"}, {\"component 0\": -0.20785539154260352, \"component 1\": 0.03926846551268776, \"variable\": \"row\", \"value\": \"83\"}, {\"component 0\": -0.4666293503019226, \"component 1\": 0.35541722554841504, \"variable\": \"row\", \"value\": \"84\"}, {\"component 0\": 0.005447161952762583, \"component 1\": -0.19162027401571613, \"variable\": \"row\", \"value\": \"85\"}, {\"component 0\": 0.1728766284058807, \"component 1\": -0.32139131618055167, \"variable\": \"row\", \"value\": \"86\"}, {\"component 0\": -0.6401382776850327, \"component 1\": 0.544780092285123, \"variable\": \"row\", \"value\": \"87\"}, {\"component 0\": 0.6353845402102714, \"component 1\": 0.34064948263593914, \"variable\": \"row\", \"value\": \"88\"}, {\"component 0\": 0.13914166119108146, \"component 1\": -0.3258629579154503, \"variable\": \"row\", \"value\": \"89\"}, {\"component 0\": 0.13914166119108146, \"component 1\": -0.3258629579154503, \"variable\": \"row\", \"value\": \"90\"}, {\"component 0\": -1.0022731648177268, \"component 1\": 0.9940617756660008, \"variable\": \"row\", \"value\": \"91\"}, {\"component 0\": -0.053783180680709766, \"component 1\": -0.13486786976424456, \"variable\": \"row\", \"value\": \"92\"}, {\"component 0\": -0.06936781667457442, \"component 1\": -0.10012565719020762, \"variable\": \"row\", \"value\": \"93\"}, {\"component 0\": 1.2058305205426052, \"component 1\": -0.7300306614903197, \"variable\": \"row\", \"value\": \"94\"}, {\"component 0\": -0.003018609815215646, \"component 1\": -0.11945181512127602, \"variable\": \"row\", \"value\": \"95\"}, {\"component 0\": -0.18338839569472587, \"component 1\": 0.08325920638332056, \"variable\": \"row\", \"value\": \"96\"}, {\"component 0\": -0.04156341800635733, \"component 1\": -0.14442834270375937, \"variable\": \"row\", \"value\": \"97\"}, {\"component 0\": -0.2350903561320974, \"component 1\": 0.09800536892686879, \"variable\": \"row\", \"value\": \"98\"}, {\"component 0\": 0.17011230406767303, \"component 1\": -0.2819929440924852, \"variable\": \"row\", \"value\": \"99\"}, {\"component 0\": 0.5340975593973241, \"component 1\": -0.4786093762123483, \"variable\": \"row\", \"value\": \"100\"}, {\"component 0\": 0.07149793735714605, \"component 1\": -0.19324896487914517, \"variable\": \"row\", \"value\": \"101\"}, {\"component 0\": 0.9453271638820698, \"component 1\": -0.7169028683479587, \"variable\": \"row\", \"value\": \"102\"}, {\"component 0\": 0.9215262103872294, \"component 1\": -0.7049034544851768, \"variable\": \"row\", \"value\": \"103\"}, {\"component 0\": -0.03864034836854003, \"component 1\": -0.08363697033363059, \"variable\": \"row\", \"value\": \"104\"}, {\"component 0\": -0.256152703329855, \"component 1\": 0.127126438789312, \"variable\": \"row\", \"value\": \"105\"}, {\"component 0\": 0.5025430533258531, \"component 1\": 1.4435460460851994, \"variable\": \"row\", \"value\": \"106\"}, {\"component 0\": 0.13914166119108146, \"component 1\": -0.3258629579154503, \"variable\": \"row\", \"value\": \"107\"}, {\"component 0\": 0.049598336735204675, \"component 1\": -0.23132883711692365, \"variable\": \"row\", \"value\": \"108\"}, {\"component 0\": -0.5466543900761813, \"component 1\": 0.5940530984572722, \"variable\": \"row\", \"value\": \"109\"}, {\"component 0\": -0.07001214845561254, \"component 1\": -0.11166021295187582, \"variable\": \"row\", \"value\": \"110\"}, {\"component 0\": -1.1670287616817179, \"component 1\": 1.1938606632002386, \"variable\": \"row\", \"value\": \"111\"}, {\"component 0\": 1.2916509858711536, \"component 1\": -0.8702447062714186, \"variable\": \"row\", \"value\": \"112\"}, {\"component 0\": -0.14579914238583266, \"component 1\": -0.020081891508084645, \"variable\": \"row\", \"value\": \"113\"}, {\"component 0\": 0.2955815505639654, \"component 1\": -0.3990363172505621, \"variable\": \"row\", \"value\": \"114\"}, {\"component 0\": 0.31277736175517706, \"component 1\": -0.395807498700811, \"variable\": \"row\", \"value\": \"115\"}, {\"component 0\": 0.02899634041569863, \"component 1\": -0.20438507188016966, \"variable\": \"row\", \"value\": \"116\"}, {\"component 0\": -0.164160217206497, \"component 1\": -0.01548045635364576, \"variable\": \"row\", \"value\": \"117\"}, {\"component 0\": 0.0270940932739525, \"component 1\": -0.1469641222519104, \"variable\": \"row\", \"value\": \"118\"}, {\"component 0\": 0.02387417317229748, \"component 1\": -0.21606988581645092, \"variable\": \"row\", \"value\": \"119\"}, {\"component 0\": 0.25596688765941544, \"component 1\": -0.39179921236256937, \"variable\": \"row\", \"value\": \"120\"}, {\"component 0\": -0.4277403042964202, \"component 1\": 0.2764974423614755, \"variable\": \"row\", \"value\": \"121\"}, {\"component 0\": 0.22018640901940642, \"component 1\": -0.3621884223483241, \"variable\": \"row\", \"value\": \"122\"}, {\"component 0\": -0.15183564761438487, \"component 1\": -0.021154562694162198, \"variable\": \"row\", \"value\": \"123\"}, {\"component 0\": 0.13914166119108146, \"component 1\": -0.3258629579154503, \"variable\": \"row\", \"value\": \"124\"}, {\"component 0\": 0.13914166119108146, \"component 1\": -0.3258629579154503, \"variable\": \"row\", \"value\": \"125\"}, {\"component 0\": 0.052007605419919285, \"component 1\": -0.23918468452319977, \"variable\": \"row\", \"value\": \"126\"}, {\"component 0\": 0.45001329421576686, \"component 1\": 0.5254396426764747, \"variable\": \"row\", \"value\": \"127\"}, {\"component 0\": 0.04057177130901293, \"component 1\": -0.22548010058135265, \"variable\": \"row\", \"value\": \"128\"}, {\"component 0\": -0.05292042815811288, \"component 1\": -0.12505130743173135, \"variable\": \"row\", \"value\": \"129\"}, {\"component 0\": -0.7604668007933982, \"component 1\": 0.7345889541210735, \"variable\": \"row\", \"value\": \"130\"}, {\"component 0\": 0.13914166119108146, \"component 1\": -0.3258629579154503, \"variable\": \"row\", \"value\": \"131\"}, {\"component 0\": -0.11280664007534388, \"component 1\": -0.072547939731651, \"variable\": \"row\", \"value\": \"132\"}, {\"component 0\": -0.06579606011622399, \"component 1\": -0.11973987104360778, \"variable\": \"row\", \"value\": \"133\"}, {\"component 0\": 0.29562888585051456, \"component 1\": -0.3234035555942634, \"variable\": \"row\", \"value\": \"134\"}, {\"component 0\": -0.10144962992358836, \"component 1\": -0.09192497500367901, \"variable\": \"row\", \"value\": \"135\"}, {\"component 0\": 0.13914166119108146, \"component 1\": -0.3258629579154503, \"variable\": \"row\", \"value\": \"136\"}, {\"component 0\": 0.2314778246090887, \"component 1\": -0.3095752570149301, \"variable\": \"row\", \"value\": \"137\"}, {\"component 0\": -0.10157653875623303, \"component 1\": -0.0901290810293625, \"variable\": \"row\", \"value\": \"138\"}, {\"component 0\": 0.061458206919016045, \"component 1\": -0.21106094393410485, \"variable\": \"row\", \"value\": \"139\"}, {\"component 0\": -0.9484808939801929, \"component 1\": 0.9683380654803007, \"variable\": \"row\", \"value\": \"140\"}, {\"component 0\": 0.09200417239931688, \"component 1\": -0.276875132629177, \"variable\": \"row\", \"value\": \"141\"}, {\"component 0\": -0.05791929461390479, \"component 1\": -0.11942479191707411, \"variable\": \"row\", \"value\": \"142\"}, {\"component 0\": -0.017836132013955452, \"component 1\": -0.10442658661597756, \"variable\": \"row\", \"value\": \"143\"}, {\"component 0\": -0.04156341800635733, \"component 1\": -0.14442834270375937, \"variable\": \"row\", \"value\": \"144\"}, {\"component 0\": 0.18957422654259615, \"component 1\": -0.33080153094545334, \"variable\": \"row\", \"value\": \"145\"}, {\"component 0\": 0.13914166119108146, \"component 1\": -0.3258629579154503, \"variable\": \"row\", \"value\": \"146\"}, {\"component 0\": 0.13914166119108146, \"component 1\": -0.3258629579154503, \"variable\": \"row\", \"value\": \"147\"}, {\"component 0\": 0.13914166119108146, \"component 1\": -0.3258629579154503, \"variable\": \"row\", \"value\": \"148\"}, {\"component 0\": 0.09660891669432459, \"component 1\": -0.2785207684288804, \"variable\": \"row\", \"value\": \"149\"}, {\"component 0\": 0.08778808405992831, \"component 1\": -0.26879547453744507, \"variable\": \"row\", \"value\": \"150\"}, {\"component 0\": -0.6255225803628305, \"component 1\": 0.5366072559179121, \"variable\": \"row\", \"value\": \"151\"}, {\"component 0\": 1.5681964948762543, \"component 1\": -1.0026269652443551, \"variable\": \"row\", \"value\": \"152\"}, {\"component 0\": -0.056897786345681815, \"component 1\": -0.09852232872046081, \"variable\": \"row\", \"value\": \"153\"}, {\"component 0\": -0.06054698404017817, \"component 1\": -0.109850951081643, \"variable\": \"row\", \"value\": \"154\"}, {\"component 0\": 0.13914166119108146, \"component 1\": -0.3258629579154503, \"variable\": \"row\", \"value\": \"155\"}, {\"component 0\": -0.8113721394236769, \"component 1\": 0.8401174878001558, \"variable\": \"row\", \"value\": \"156\"}, {\"component 0\": -0.15293011588738614, \"component 1\": -0.033061597651357244, \"variable\": \"row\", \"value\": \"157\"}, {\"component 0\": -0.10579262709562158, \"component 1\": -0.08204942293763054, \"variable\": \"row\", \"value\": \"158\"}, {\"component 0\": -0.1871110829879721, \"component 1\": 0.017106248471082337, \"variable\": \"row\", \"value\": \"159\"}, {\"component 0\": 0.09200417239931688, \"component 1\": -0.276875132629177, \"variable\": \"row\", \"value\": \"160\"}, {\"component 0\": 0.13914166119108146, \"component 1\": -0.3258629579154503, \"variable\": \"row\", \"value\": \"161\"}, {\"component 0\": -1.8936382102697698, \"component 1\": 2.0998503733588643, \"variable\": \"row\", \"value\": \"162\"}, {\"component 0\": -0.6486196089184888, \"component 1\": 0.5383342094563821, \"variable\": \"row\", \"value\": \"163\"}, {\"component 0\": -0.09772747222431366, \"component 1\": -0.08959178088191508, \"variable\": \"row\", \"value\": \"164\"}, {\"component 0\": -0.29556490405812047, \"component 1\": 0.1415993203605981, \"variable\": \"row\", \"value\": \"165\"}, {\"component 0\": 0.2227397392427175, \"component 1\": -0.36936771966626575, \"variable\": \"row\", \"value\": \"166\"}, {\"component 0\": 0.09200417239931688, \"component 1\": -0.276875132629177, \"variable\": \"row\", \"value\": \"167\"}, {\"component 0\": -0.3239718535673873, \"component 1\": 0.2193209043160168, \"variable\": \"row\", \"value\": \"168\"}, {\"component 0\": 0.3320150865747724, \"component 1\": -0.19668313358701323, \"variable\": \"row\", \"value\": \"169\"}, {\"component 0\": 0.13914166119108146, \"component 1\": -0.3258629579154503, \"variable\": \"row\", \"value\": \"170\"}, {\"component 0\": -0.17762721711814422, \"component 1\": 0.0724037607045418, \"variable\": \"row\", \"value\": \"171\"}, {\"component 0\": 0.40378022695468024, \"component 1\": -0.4599304297737674, \"variable\": \"row\", \"value\": \"172\"}, {\"component 0\": 0.6287547845535869, \"component 1\": -0.47941017998414504, \"variable\": \"row\", \"value\": \"173\"}, {\"component 0\": 0.8638735856051859, \"component 1\": -0.6701132920240649, \"variable\": \"row\", \"value\": \"174\"}, {\"component 0\": -0.15137353973512627, \"component 1\": 0.01238885190333158, \"variable\": \"row\", \"value\": \"175\"}, {\"component 0\": 0.13914166119108146, \"component 1\": -0.3258629579154503, \"variable\": \"row\", \"value\": \"176\"}, {\"component 0\": 0.13914166119108146, \"component 1\": -0.3258629579154503, \"variable\": \"row\", \"value\": \"177\"}, {\"component 0\": -0.26410827606481035, \"component 1\": 0.11706129339528018, \"variable\": \"row\", \"value\": \"178\"}, {\"component 0\": 0.09660891669432459, \"component 1\": -0.2785207684288804, \"variable\": \"row\", \"value\": \"179\"}, {\"component 0\": -0.2798303303784, \"component 1\": 0.12920700348826833, \"variable\": \"row\", \"value\": \"180\"}, {\"component 0\": 0.19584960228635306, \"component 1\": -0.31143835128131786, \"variable\": \"row\", \"value\": \"181\"}, {\"component 0\": -0.057263425330146125, \"component 1\": -0.11517575536568286, \"variable\": \"row\", \"value\": \"182\"}, {\"component 0\": 0.16168718248822353, \"component 1\": -0.2540023111370932, \"variable\": \"row\", \"value\": \"183\"}, {\"component 0\": -0.45498943006644016, \"component 1\": 0.3188494276676688, \"variable\": \"row\", \"value\": \"184\"}, {\"component 0\": 0.026208871964486964, \"component 1\": -0.20640013069799937, \"variable\": \"row\", \"value\": \"185\"}, {\"component 0\": 0.0009693264903995607, \"component 1\": -0.19177053219032925, \"variable\": \"row\", \"value\": \"186\"}, {\"component 0\": -0.4406144050969104, \"component 1\": 0.3031520769302512, \"variable\": \"row\", \"value\": \"187\"}, {\"component 0\": 0.02387417317229748, \"component 1\": -0.21606988581645092, \"variable\": \"row\", \"value\": \"188\"}, {\"component 0\": -0.09714456294533333, \"component 1\": -0.07634731609110561, \"variable\": \"row\", \"value\": \"189\"}, {\"component 0\": -0.17096170592116736, \"component 1\": 0.06257496305951214, \"variable\": \"row\", \"value\": \"190\"}, {\"component 0\": 0.13914166119108146, \"component 1\": -0.3258629579154503, \"variable\": \"row\", \"value\": \"191\"}, {\"component 0\": 0.49010642650435293, \"component 1\": -0.4644273578229983, \"variable\": \"row\", \"value\": \"192\"}, {\"component 0\": 0.07991131855760913, \"component 1\": -0.26911055366397874, \"variable\": \"row\", \"value\": \"193\"}, {\"component 0\": 0.09200417239931688, \"component 1\": -0.276875132629177, \"variable\": \"row\", \"value\": \"194\"}, {\"component 0\": -1.1516125589177557, \"component 1\": 1.1954998049995595, \"variable\": \"row\", \"value\": \"195\"}, {\"component 0\": -0.14634190532614572, \"component 1\": 0.014823919052654502, \"variable\": \"row\", \"value\": \"196\"}, {\"component 0\": 1.0178863413221073, \"component 1\": -0.47730153205528847, \"variable\": \"row\", \"value\": \"197\"}, {\"component 0\": 0.18862795408627922, \"component 1\": -0.18879847974208194, \"variable\": \"row\", \"value\": \"198\"}, {\"component 0\": 0.13914166119108146, \"component 1\": -0.3258629579154503, \"variable\": \"row\", \"value\": \"199\"}, {\"component 0\": 0.08310451580576983, \"component 1\": -0.2728222900679225, \"variable\": \"row\", \"value\": \"200\"}, {\"component 0\": 0.13914166119108146, \"component 1\": -0.3258629579154503, \"variable\": \"row\", \"value\": \"201\"}, {\"component 0\": -0.2093724821913382, \"component 1\": 0.04654606480943542, \"variable\": \"row\", \"value\": \"202\"}, {\"component 0\": 0.13914166119108146, \"component 1\": -0.3258629579154503, \"variable\": \"row\", \"value\": \"203\"}, {\"component 0\": 0.13914166119108146, \"component 1\": -0.3258629579154503, \"variable\": \"row\", \"value\": \"204\"}, {\"component 0\": 0.13914166119108146, \"component 1\": -0.3258629579154503, \"variable\": \"row\", \"value\": \"205\"}, {\"component 0\": -0.164160217206497, \"component 1\": -0.01548045635364576, \"variable\": \"row\", \"value\": \"206\"}, {\"component 0\": -0.1596219825213884, \"component 1\": -0.017543105997334697, \"variable\": \"row\", \"value\": \"207\"}, {\"component 0\": -0.22288002412526062, \"component 1\": 0.039431519275050654, \"variable\": \"row\", \"value\": \"208\"}, {\"component 0\": -0.037535719035957496, \"component 1\": -0.14465056372467314, \"variable\": \"row\", \"value\": \"209\"}, {\"component 0\": 1.5681964948762543, \"component 1\": -1.0026269652443551, \"variable\": \"row\", \"value\": \"210\"}, {\"component 0\": 0.5037299985484494, \"component 1\": -0.49422627130031294, \"variable\": \"row\", \"value\": \"211\"}, {\"component 0\": -0.601200333493325, \"component 1\": 0.5275835670351042, \"variable\": \"row\", \"value\": \"212\"}, {\"component 0\": 0.09660891669432459, \"component 1\": -0.2785207684288804, \"variable\": \"row\", \"value\": \"213\"}, {\"component 0\": -0.295926160569712, \"component 1\": 0.1767331287645189, \"variable\": \"row\", \"value\": \"214\"}, {\"component 0\": 1.5681964948762543, \"component 1\": -1.0026269652443551, \"variable\": \"row\", \"value\": \"215\"}, {\"component 0\": -0.053576297441871555, \"component 1\": -0.1293003439831226, \"variable\": \"row\", \"value\": \"216\"}, {\"component 0\": -0.10413556929377997, \"component 1\": 0.04879340097651502, \"variable\": \"row\", \"value\": \"217\"}, {\"component 0\": 0.023791174902174552, \"component 1\": -0.09582152273718934, \"variable\": \"row\", \"value\": \"218\"}, {\"component 0\": -0.1621550189933801, \"component 1\": 0.004921659278600602, \"variable\": \"row\", \"value\": \"219\"}, {\"component 0\": 0.2971017302635429, \"component 1\": -0.349917912364677, \"variable\": \"row\", \"value\": \"220\"}, {\"component 0\": 0.9748673977229064, \"component 1\": -0.7085893675931269, \"variable\": \"row\", \"value\": \"221\"}, {\"component 0\": 0.17765366452264952, \"component 1\": -0.3148462328617542, \"variable\": \"row\", \"value\": \"222\"}, {\"component 0\": 1.5732477672193637, \"component 1\": 1.5256291646011115, \"variable\": \"row\", \"value\": \"223\"}, {\"component 0\": 0.13914166119108146, \"component 1\": -0.3258629579154503, \"variable\": \"row\", \"value\": \"224\"}, {\"component 0\": 0.03674980513040858, \"component 1\": -0.22138132220457452, \"variable\": \"row\", \"value\": \"225\"}, {\"component 0\": -0.15280320705474143, \"component 1\": -0.03485749162567376, \"variable\": \"row\", \"value\": \"226\"}, {\"component 0\": 0.2227397392427175, \"component 1\": -0.36936771966626575, \"variable\": \"row\", \"value\": \"227\"}, {\"component 0\": 2.5187870393548386, \"component 1\": 0.5366163304391972, \"variable\": \"row\", \"value\": \"228\"}, {\"component 0\": -0.05862227265466429, \"component 1\": -0.09988431953493684, \"variable\": \"row\", \"value\": \"229\"}, {\"component 0\": 1.247608951277969, \"component 1\": 1.1727065262272756, \"variable\": \"row\", \"value\": \"230\"}, {\"component 0\": 0.1909264098715017, \"component 1\": -0.21237928183590118, \"variable\": \"row\", \"value\": \"231\"}, {\"component 0\": 1.0261679390937635, \"component 1\": -0.7854831883781029, \"variable\": \"row\", \"value\": \"232\"}, {\"component 0\": 0.04717629627818476, \"component 1\": -0.15143477976234093, \"variable\": \"row\", \"value\": \"233\"}, {\"component 0\": -0.006565717482751649, \"component 1\": -0.17649227529507935, \"variable\": \"row\", \"value\": \"234\"}, {\"component 0\": 0.11279741723748053, \"component 1\": -0.08092255521436104, \"variable\": \"row\", \"value\": \"235\"}, {\"component 0\": 0.13914166119108146, \"component 1\": -0.3258629579154503, \"variable\": \"row\", \"value\": \"236\"}, {\"component 0\": -0.6483378222850895, \"component 1\": 0.5765713923213776, \"variable\": \"row\", \"value\": \"237\"}, {\"component 0\": -0.3215663034091276, \"component 1\": 0.19451198716637594, \"variable\": \"row\", \"value\": \"238\"}, {\"component 0\": 0.016301827594059244, \"component 1\": -0.09799745494198142, \"variable\": \"row\", \"value\": \"239\"}, {\"component 0\": -0.19592037811964785, \"component 1\": 0.01954602315224076, \"variable\": \"row\", \"value\": \"240\"}, {\"component 0\": 0.5873280766000853, \"component 1\": -0.5377310330511283, \"variable\": \"row\", \"value\": \"241\"}, {\"component 0\": 0.23210697103935302, \"component 1\": -0.3781437204320232, \"variable\": \"row\", \"value\": \"242\"}, {\"component 0\": -0.5444421602440167, \"component 1\": 0.4870899276804949, \"variable\": \"row\", \"value\": \"243\"}, {\"component 0\": 1.5681964948762543, \"component 1\": -1.0026269652443551, \"variable\": \"row\", \"value\": \"244\"}, {\"component 0\": 0.09660891669432459, \"component 1\": -0.2785207684288804, \"variable\": \"row\", \"value\": \"245\"}, {\"component 0\": 0.27519332800845847, \"component 1\": -0.40081644058315713, \"variable\": \"row\", \"value\": \"246\"}, {\"component 0\": -0.04656228446214924, \"component 1\": -0.13880182718910214, \"variable\": \"row\", \"value\": \"247\"}, {\"component 0\": -0.2704564714499605, \"component 1\": 0.1065347298290823, \"variable\": \"row\", \"value\": \"248\"}, {\"component 0\": 0.05574128096891201, \"component 1\": -0.18747743386112573, \"variable\": \"row\", \"value\": \"249\"}, {\"component 0\": 0.09200417239931688, \"component 1\": -0.276875132629177, \"variable\": \"row\", \"value\": \"250\"}, {\"component 0\": -0.4251226379417612, \"component 1\": 0.2996299338542907, \"variable\": \"row\", \"value\": \"251\"}, {\"component 0\": 1.4845984168246185, \"component 1\": -0.9591222034935397, \"variable\": \"row\", \"value\": \"252\"}, {\"component 0\": -0.07416089230428459, \"component 1\": -0.0949742183870464, \"variable\": \"row\", \"value\": \"253\"}, {\"component 0\": 0.15134028224592588, \"component 1\": -0.10329155584812512, \"variable\": \"row\", \"value\": \"254\"}, {\"component 0\": -0.07567536213142326, \"component 1\": -0.008453374145825188, \"variable\": \"row\", \"value\": \"255\"}, {\"component 0\": 0.2109448667134235, \"component 1\": -0.2987665892333827, \"variable\": \"row\", \"value\": \"256\"}, {\"component 0\": 0.432530275559323, \"component 1\": -0.48758473662995777, \"variable\": \"row\", \"value\": \"257\"}, {\"component 0\": -0.10067045985222045, \"component 1\": -0.07036460900134926, \"variable\": \"row\", \"value\": \"258\"}, {\"component 0\": -0.8503723612291633, \"component 1\": 0.8154956634677758, \"variable\": \"row\", \"value\": \"259\"}, {\"component 0\": 0.10336118255107243, \"component 1\": -0.296252167901205, \"variable\": \"row\", \"value\": \"260\"}, {\"component 0\": 0.1105334741944934, \"component 1\": -0.20772614997282274, \"variable\": \"row\", \"value\": \"261\"}, {\"component 0\": -0.6417640131183266, \"component 1\": 0.5485987240755024, \"variable\": \"row\", \"value\": \"262\"}, {\"component 0\": 0.04499359244019699, \"component 1\": -0.22968320131722023, \"variable\": \"row\", \"value\": \"263\"}, {\"component 0\": -0.12493742411082989, \"component 1\": -0.0393301497878308, \"variable\": \"row\", \"value\": \"264\"}, {\"component 0\": 0.4289467189397523, \"component 1\": -0.46599278969932134, \"variable\": \"row\", \"value\": \"265\"}, {\"component 0\": -0.28969127038334747, \"component 1\": 0.12509368718541594, \"variable\": \"row\", \"value\": \"266\"}, {\"component 0\": 0.13914166119108146, \"component 1\": -0.3258629579154503, \"variable\": \"row\", \"value\": \"267\"}, {\"component 0\": 0.23210697103935302, \"component 1\": -0.3781437204320232, \"variable\": \"row\", \"value\": \"268\"}, {\"component 0\": 0.13914166119108146, \"component 1\": -0.3258629579154503, \"variable\": \"row\", \"value\": \"269\"}, {\"component 0\": 0.13914166119108146, \"component 1\": -0.3258629579154503, \"variable\": \"row\", \"value\": \"270\"}, {\"component 0\": 0.13914166119108146, \"component 1\": -0.3258629579154503, \"variable\": \"row\", \"value\": \"271\"}, {\"component 0\": -0.2144193260646489, \"component 1\": 0.05349406198155454, \"variable\": \"row\", \"value\": \"272\"}, {\"component 0\": 0.08376038508952849, \"component 1\": -0.2685732535165312, \"variable\": \"row\", \"value\": \"273\"}, {\"component 0\": -0.30802067949851974, \"component 1\": 0.15775522953937843, \"variable\": \"row\", \"value\": \"274\"}, {\"component 0\": -0.5696014643511806, \"component 1\": 0.4835058428967213, \"variable\": \"row\", \"value\": \"275\"}, {\"component 0\": -0.3299013085681558, \"component 1\": 0.17357724097885086, \"variable\": \"row\", \"value\": \"276\"}, {\"component 0\": 0.013817858095195644, \"component 1\": -0.20171804710267838, \"variable\": \"row\", \"value\": \"277\"}, {\"component 0\": -0.25442737251248077, \"component 1\": 0.09411839523044833, \"variable\": \"row\", \"value\": \"278\"}, {\"component 0\": -0.37638672716526705, \"component 1\": 0.21942995898347026, \"variable\": \"row\", \"value\": \"279\"}, {\"component 0\": 0.13914166119108146, \"component 1\": -0.3258629579154503, \"variable\": \"row\", \"value\": \"280\"}, {\"component 0\": 0.13914166119108146, \"component 1\": -0.3258629579154503, \"variable\": \"row\", \"value\": \"281\"}, {\"component 0\": -0.40541287526656766, \"component 1\": 0.27719396902810106, \"variable\": \"row\", \"value\": \"282\"}, {\"component 0\": -0.07229575501248421, \"component 1\": -0.02355406717168942, \"variable\": \"row\", \"value\": \"283\"}, {\"component 0\": 0.3096626851097246, \"component 1\": -0.16947266145300244, \"variable\": \"row\", \"value\": \"284\"}, {\"component 0\": 0.22429747769226746, \"component 1\": -0.3255109020143855, \"variable\": \"row\", \"value\": \"285\"}, {\"component 0\": 0.0725877692432171, \"component 1\": -0.15789947057304823, \"variable\": \"row\", \"value\": \"286\"}, {\"component 0\": 0.10244017077143396, \"component 1\": -0.24412325755320283, \"variable\": \"row\", \"value\": \"287\"}, {\"component 0\": -0.037535719035957496, \"component 1\": -0.14465056372467314, \"variable\": \"row\", \"value\": \"288\"}, {\"component 0\": 0.1802069947459606, \"component 1\": -0.3220255301796959, \"variable\": \"row\", \"value\": \"289\"}, {\"component 0\": 0.13914166119108146, \"component 1\": -0.3258629579154503, \"variable\": \"row\", \"value\": \"290\"}, {\"component 0\": 0.13914166119108146, \"component 1\": -0.3258629579154503, \"variable\": \"row\", \"value\": \"291\"}, {\"component 0\": 1.252914264014552, \"component 1\": -0.7503468744496474, \"variable\": \"row\", \"value\": \"292\"}, {\"component 0\": 0.11238252841508957, \"component 1\": -0.19375086466302474, \"variable\": \"row\", \"value\": \"293\"}, {\"component 0\": -0.1637216182172544, \"component 1\": -0.007822457947841943, \"variable\": \"row\", \"value\": \"294\"}, {\"component 0\": 0.41121457633684844, \"component 1\": -0.33728334711707636, \"variable\": \"row\", \"value\": \"295\"}, {\"component 0\": 0.032773829765844545, \"component 1\": -0.22012272837770544, \"variable\": \"row\", \"value\": \"296\"}, {\"component 0\": -0.10825136347683496, \"component 1\": -0.04145484534245557, \"variable\": \"row\", \"value\": \"297\"}, {\"component 0\": -0.016323872532269933, \"component 1\": -0.1590579412114295, \"variable\": \"row\", \"value\": \"298\"}, {\"component 0\": 0.13914166119108146, \"component 1\": -0.3258629579154503, \"variable\": \"row\", \"value\": \"299\"}, {\"component 0\": -1.8936382102697698, \"component 1\": 2.0998503733588643, \"variable\": \"row\", \"value\": \"300\"}, {\"component 0\": -0.014809504792540045, \"component 1\": -0.16819039618243364, \"variable\": \"row\", \"value\": \"301\"}, {\"component 0\": -0.3393783119957171, \"component 1\": 0.2004752479250968, \"variable\": \"row\", \"value\": \"302\"}, {\"component 0\": 0.5229445642208637, \"component 1\": -0.5056779654591792, \"variable\": \"row\", \"value\": \"303\"}, {\"component 0\": 0.8695420281493316, \"component 1\": -0.6505787652769656, \"variable\": \"row\", \"value\": \"304\"}, {\"component 0\": 0.002460847943440093, \"component 1\": -0.18234101183065035, \"variable\": \"row\", \"value\": \"305\"}, {\"component 0\": 0.04499359244019699, \"component 1\": -0.22968320131722023, \"variable\": \"row\", \"value\": \"306\"}, {\"component 0\": -1.0333624936752372, \"component 1\": 1.0331735410179608, \"variable\": \"row\", \"value\": \"307\"}, {\"component 0\": -1.4631590808486499, \"component 1\": 1.5614694539039635, \"variable\": \"row\", \"value\": \"308\"}, {\"component 0\": -0.1163668591309738, \"component 1\": -0.06021924508852781, \"variable\": \"row\", \"value\": \"309\"}, {\"component 0\": -0.62504266824619, \"component 1\": 0.5322365299620643, \"variable\": \"row\", \"value\": \"310\"}, {\"component 0\": -0.5222588585024933, \"component 1\": 0.4145454275001246, \"variable\": \"row\", \"value\": \"311\"}, {\"component 0\": 0.8798077581137177, \"component 1\": -0.6882923409922255, \"variable\": \"row\", \"value\": \"312\"}, {\"component 0\": -0.3111380025492646, \"component 1\": 0.16905601372435808, \"variable\": \"row\", \"value\": \"313\"}, {\"component 0\": -0.6688608476977773, \"component 1\": 0.6064368343145663, \"variable\": \"row\", \"value\": \"314\"}, {\"component 0\": 0.16350939660924516, \"component 1\": -0.3126153154147942, \"variable\": \"row\", \"value\": \"315\"}, {\"component 0\": 0.04797990644951945, \"component 1\": -0.23896246350228598, \"variable\": \"row\", \"value\": \"316\"}, {\"component 0\": -0.3721591593574442, \"component 1\": 0.20841641574882172, \"variable\": \"row\", \"value\": \"317\"}, {\"component 0\": -0.3608472261785777, \"component 1\": 0.21446652134228458, \"variable\": \"row\", \"value\": \"318\"}, {\"component 0\": -0.0507110283108213, \"component 1\": -0.12211583262427271, \"variable\": \"row\", \"value\": \"319\"}, {\"component 0\": -0.2595495397558819, \"component 1\": 0.08243358129416707, \"variable\": \"row\", \"value\": \"320\"}, {\"component 0\": -0.029299312969710698, \"component 1\": -0.14731453232476382, \"variable\": \"row\", \"value\": \"321\"}, {\"component 0\": -0.5800232419764297, \"component 1\": 0.614667768440972, \"variable\": \"row\", \"value\": \"322\"}, {\"component 0\": 0.451756715908366, \"component 1\": -0.49660196485054553, \"variable\": \"row\", \"value\": \"323\"}, {\"component 0\": -0.15655282048955382, \"component 1\": 0.21246516216594877, \"variable\": \"row\", \"value\": \"324\"}, {\"component 0\": 0.13914166119108146, \"component 1\": -0.3258629579154503, \"variable\": \"row\", \"value\": \"325\"}, {\"component 0\": 1.5681964948762543, \"component 1\": -1.0026269652443551, \"variable\": \"row\", \"value\": \"326\"}, {\"component 0\": -0.229426557190213, \"component 1\": 0.061039476103239634, \"variable\": \"row\", \"value\": \"327\"}, {\"component 0\": 0.5163066210921325, \"component 1\": -0.41385083526339816, \"variable\": \"row\", \"value\": \"328\"}, {\"component 0\": 0.09200417239931688, \"component 1\": -0.276875132629177, \"variable\": \"row\", \"value\": \"329\"}, {\"component 0\": -0.2517982266893875, \"component 1\": 0.11431700158034695, \"variable\": \"row\", \"value\": \"330\"}, {\"component 0\": -0.01599226369515298, \"component 1\": -0.1242914021007765, \"variable\": \"row\", \"value\": \"331\"}, {\"component 0\": 0.07991131855760913, \"component 1\": -0.26911055366397874, \"variable\": \"row\", \"value\": \"332\"}, {\"component 0\": 0.1074722512239335, \"component 1\": -0.2595746475672664, \"variable\": \"row\", \"value\": \"333\"}, {\"component 0\": -0.009516435331695995, \"component 1\": 1.4916483814848973, \"variable\": \"row\", \"value\": \"334\"}, {\"component 0\": -0.048892729187713056, \"component 1\": -0.1252735284526451, \"variable\": \"row\", \"value\": \"335\"}, {\"component 0\": -1.2185935922155786, \"component 1\": 1.2611731033594613, \"variable\": \"row\", \"value\": \"336\"}, {\"component 0\": 1.0024050675556113, \"component 1\": 1.4754806765940605, \"variable\": \"row\", \"value\": \"337\"}, {\"component 0\": 1.5681964948762543, \"component 1\": -1.0026269652443551, \"variable\": \"row\", \"value\": \"338\"}, {\"component 0\": 0.5985508659175843, \"component 1\": 0.883234741460988, \"variable\": \"row\", \"value\": \"339\"}, {\"component 0\": -1.5166666422667108, \"component 1\": 1.6542623071211227, \"variable\": \"row\", \"value\": \"340\"}, {\"component 0\": -0.7719397462681371, \"component 1\": 0.7413586430097676, \"variable\": \"row\", \"value\": \"341\"}, {\"component 0\": -0.4277403042964202, \"component 1\": 0.2764974423614755, \"variable\": \"row\", \"value\": \"342\"}, {\"component 0\": -0.1487154103710025, \"component 1\": -0.01587087085868777, \"variable\": \"row\", \"value\": \"343\"}, {\"component 0\": -0.2549425999539727, \"component 1\": 0.0969082444134825, \"variable\": \"row\", \"value\": \"344\"}, {\"component 0\": 0.13914166119108146, \"component 1\": -0.3258629579154503, \"variable\": \"row\", \"value\": \"345\"}, {\"component 0\": 1.5681964948762543, \"component 1\": -1.0026269652443551, \"variable\": \"row\", \"value\": \"346\"}, {\"component 0\": 0.8616605082258536, \"component 1\": -0.6549687495553042, \"variable\": \"row\", \"value\": \"347\"}, {\"component 0\": -0.06685715031862308, \"component 1\": -0.09742191298173412, \"variable\": \"row\", \"value\": \"348\"}, {\"component 0\": 0.40317154965325275, \"component 1\": -0.43968410578344524, \"variable\": \"row\", \"value\": \"349\"}, {\"component 0\": -0.3618180950289455, \"component 1\": 0.20422654645598134, \"variable\": \"row\", \"value\": \"350\"}, {\"component 0\": 0.09213108123196156, \"component 1\": -0.2786710266034935, \"variable\": \"row\", \"value\": \"351\"}, {\"component 0\": 0.13914166119108146, \"component 1\": -0.3258629579154503, \"variable\": \"row\", \"value\": \"352\"}, {\"component 0\": 0.18496948224758844, \"component 1\": -0.32915589514574994, \"variable\": \"row\", \"value\": \"353\"}, {\"component 0\": -0.13593435772308715, \"component 1\": -0.03938931704638167, \"variable\": \"row\", \"value\": \"354\"}, {\"component 0\": -0.4277403042964202, \"component 1\": 0.2764974423614755, \"variable\": \"row\", \"value\": \"355\"}, {\"component 0\": -0.1699048756630546, \"component 1\": 0.0028106861777504244, \"variable\": \"row\", \"value\": \"356\"}, {\"component 0\": 0.2280558392166939, \"component 1\": -0.3518286152968838, \"variable\": \"row\", \"value\": \"357\"}, {\"component 0\": 0.8132074921667989, \"component 1\": 1.7226370104370532, \"variable\": \"row\", \"value\": \"358\"}, {\"component 0\": 0.13914166119108146, \"component 1\": -0.3258629579154503, \"variable\": \"row\", \"value\": \"359\"}, {\"component 0\": -0.0858271683715718, \"component 1\": -0.03620399426181869, \"variable\": \"row\", \"value\": \"360\"}, {\"component 0\": -0.04975548171030995, \"component 1\": -0.13509009078515832, \"variable\": \"row\", \"value\": \"361\"}, {\"component 0\": 0.13914166119108146, \"component 1\": -0.3258629579154503, \"variable\": \"row\", \"value\": \"362\"}, {\"component 0\": -0.09752173943251817, \"component 1\": -0.0857152235260507, \"variable\": \"row\", \"value\": \"363\"}, {\"component 0\": -0.04975548171030995, \"component 1\": -0.13509009078515832, \"variable\": \"row\", \"value\": \"364\"}, {\"component 0\": -0.37757039351098737, \"component 1\": 0.24058385576361282, \"variable\": \"row\", \"value\": \"365\"}, {\"component 0\": -0.1049298745730247, \"component 1\": -0.07223286060511733, \"variable\": \"row\", \"value\": \"366\"}, {\"component 0\": 0.1802069947459606, \"component 1\": -0.3220255301796959, \"variable\": \"row\", \"value\": \"367\"}, {\"component 0\": -0.0745453155688468, \"component 1\": -0.09373962050718922, \"variable\": \"row\", \"value\": \"368\"}, {\"component 0\": 0.6790440808633237, \"component 1\": 0.37581292639615543, \"variable\": \"row\", \"value\": \"369\"}, {\"component 0\": 0.13914166119108146, \"component 1\": -0.3258629579154503, \"variable\": \"row\", \"value\": \"370\"}, {\"component 0\": -0.7840533608721091, \"component 1\": 0.7638088523957691, \"variable\": \"row\", \"value\": \"371\"}, {\"component 0\": -0.27175695530074023, \"component 1\": 0.15763056184833196, \"variable\": \"row\", \"value\": \"372\"}, {\"component 0\": 0.0094748609231624, \"component 1\": -0.1918424950366299, \"variable\": \"row\", \"value\": \"373\"}, {\"component 0\": 0.013817858095195644, \"component 1\": -0.20171804710267838, \"variable\": \"row\", \"value\": \"374\"}, {\"component 0\": -0.014809504792540045, \"component 1\": -0.16819039618243364, \"variable\": \"row\", \"value\": \"375\"}, {\"component 0\": 0.9121708649884057, \"component 1\": 0.5251471347582571, \"variable\": \"row\", \"value\": \"376\"}, {\"component 0\": -0.2046621942944428, \"component 1\": 0.03555672910874395, \"variable\": \"row\", \"value\": \"377\"}, {\"component 0\": -0.09457469139954207, \"component 1\": 0.11069915344571159, \"variable\": \"row\", \"value\": \"378\"}, {\"component 0\": -0.4277403042964202, \"component 1\": 0.2764974423614755, \"variable\": \"row\", \"value\": \"379\"}, {\"component 0\": -0.32194800376468496, \"component 1\": 0.19760144072048963, \"variable\": \"row\", \"value\": \"380\"}, {\"component 0\": -1.1286506418838842, \"component 1\": 1.1504551051771577, \"variable\": \"row\", \"value\": \"381\"}, {\"component 0\": 1.5681964948762543, \"component 1\": -1.0026269652443551, \"variable\": \"row\", \"value\": \"382\"}, {\"component 0\": 0.041227640592771606, \"component 1\": -0.2212310640299614, \"variable\": \"row\", \"value\": \"383\"}, {\"component 0\": 0.005447161952762583, \"component 1\": -0.19162027401571613, \"variable\": \"row\", \"value\": \"384\"}, {\"component 0\": -0.2194278560483625, \"component 1\": 0.0660535261508959, \"variable\": \"row\", \"value\": \"385\"}, {\"component 0\": 0.13914166119108146, \"component 1\": -0.3258629579154503, \"variable\": \"row\", \"value\": \"386\"}, {\"component 0\": 0.13914166119108146, \"component 1\": -0.3258629579154503, \"variable\": \"row\", \"value\": \"387\"}, {\"component 0\": -0.12117733621777697, \"component 1\": -0.06245016664468877, \"variable\": \"row\", \"value\": \"388\"}, {\"component 0\": -0.164160217206497, \"component 1\": -0.01548045635364576, \"variable\": \"row\", \"value\": \"389\"}, {\"component 0\": 0.09200417239931688, \"component 1\": -0.276875132629177, \"variable\": \"row\", \"value\": \"390\"}, {\"component 0\": -0.19884622757350476, \"component 1\": 0.026037368617794574, \"variable\": \"row\", \"value\": \"391\"}, {\"component 0\": 0.39098805189145297, \"component 1\": -0.4543275852292521, \"variable\": \"row\", \"value\": \"392\"}, {\"component 0\": 0.13914166119108146, \"component 1\": -0.3258629579154503, \"variable\": \"row\", \"value\": \"393\"}, {\"component 0\": 0.03737857406085224, \"component 1\": -0.22176836417740883, \"variable\": \"row\", \"value\": \"394\"}, {\"component 0\": -0.006565717482751649, \"component 1\": -0.17649227529507935, \"variable\": \"row\", \"value\": \"395\"}, {\"component 0\": -0.3944310940538342, \"component 1\": 0.26749050008531944, \"variable\": \"row\", \"value\": \"396\"}, {\"component 0\": 0.09660891669432459, \"component 1\": -0.2785207684288804, \"variable\": \"row\", \"value\": \"397\"}, {\"component 0\": -0.4757452761237921, \"component 1\": 0.3482971639195512, \"variable\": \"row\", \"value\": \"398\"}, {\"component 0\": 0.12017327696599349, \"component 1\": -0.13643995371399353, \"variable\": \"row\", \"value\": \"399\"}, {\"component 0\": 0.19351791903973226, \"component 1\": -0.24010187383579354, \"variable\": \"row\", \"value\": \"400\"}, {\"component 0\": 0.025275794150844258, \"component 1\": -0.143806426423538, \"variable\": \"row\", \"value\": \"401\"}, {\"component 0\": 0.6862995183521818, \"component 1\": 0.2759240008521301, \"variable\": \"row\", \"value\": \"402\"}, {\"component 0\": 0.13914166119108146, \"component 1\": -0.3258629579154503, \"variable\": \"row\", \"value\": \"403\"}, {\"component 0\": -0.0693562791718539, \"component 1\": -0.10741117640048459, \"variable\": \"row\", \"value\": \"404\"}, {\"component 0\": 0.016940893504376647, \"component 1\": 0.0403591671160625, \"variable\": \"row\", \"value\": \"405\"}, {\"component 0\": 0.1619299309518816, \"component 1\": -0.07535389359309624, \"variable\": \"row\", \"value\": \"406\"}, {\"component 0\": 0.196326492399344, \"component 1\": -0.34853293041777794, \"variable\": \"row\", \"value\": \"407\"}, {\"component 0\": 0.13914166119108146, \"component 1\": -0.3258629579154503, \"variable\": \"row\", \"value\": \"408\"}, {\"component 0\": 0.4215200957788018, \"component 1\": -0.4181155698120908, \"variable\": \"row\", \"value\": \"409\"}, {\"component 0\": 0.3471581047579764, \"component 1\": -0.4375653771136796, \"variable\": \"row\", \"value\": \"410\"}, {\"component 0\": 0.4888180485896049, \"component 1\": -0.4966597724205966, \"variable\": \"row\", \"value\": \"411\"}, {\"component 0\": 0.12227789743038477, \"component 1\": -0.2325613820076952, \"variable\": \"row\", \"value\": \"412\"}, {\"component 0\": -0.001443550239350502, \"component 1\": -0.16480746135879806, \"variable\": \"row\", \"value\": \"413\"}, {\"component 0\": -0.1442820517370979, \"component 1\": -0.027359490804832295, \"variable\": \"row\", \"value\": \"414\"}, {\"component 0\": -0.04546781618914792, \"component 1\": -0.12689479223190708, \"variable\": \"row\", \"value\": \"415\"}, {\"component 0\": 0.13914166119108146, \"component 1\": -0.3258629579154503, \"variable\": \"row\", \"value\": \"416\"}, {\"component 0\": -0.006438808650106965, \"component 1\": -0.17828816926939586, \"variable\": \"row\", \"value\": \"417\"}, {\"component 0\": -0.12716299278518967, \"component 1\": -0.016375880748918208, \"variable\": \"row\", \"value\": \"418\"}, {\"component 0\": 0.09660891669432459, \"component 1\": -0.2785207684288804, \"variable\": \"row\", \"value\": \"419\"}, {\"component 0\": -0.12137720505519997, \"component 1\": -0.051658844430954004, \"variable\": \"row\", \"value\": \"420\"}, {\"component 0\": -0.070273895578587, \"component 1\": -0.11989012921822087, \"variable\": \"row\", \"value\": \"421\"}, {\"component 0\": -0.4178349224951857, \"component 1\": 0.2812727055651781, \"variable\": \"row\", \"value\": \"422\"}, {\"component 0\": 0.13914166119108146, \"component 1\": -0.3258629579154503, \"variable\": \"row\", \"value\": \"423\"}, {\"component 0\": 0.13914166119108146, \"component 1\": -0.3258629579154503, \"variable\": \"row\", \"value\": \"424\"}, {\"component 0\": -0.5123854256585152, \"component 1\": 0.39500849683366834, \"variable\": \"row\", \"value\": \"425\"}, {\"component 0\": 0.47997560886006196, \"component 1\": -0.4476064719161025, \"variable\": \"row\", \"value\": \"426\"}, {\"component 0\": -0.33446060368962266, \"component 1\": 0.19181825149825327, \"variable\": \"row\", \"value\": \"427\"}, {\"component 0\": 0.4435109758490974, \"component 1\": -0.3715456330385608, \"variable\": \"row\", \"value\": \"428\"}, {\"component 0\": 0.3245953907746337, \"component 1\": -0.39332990381213606, \"variable\": \"row\", \"value\": \"429\"}, {\"component 0\": 0.033921515588795415, \"component 1\": -0.1897520330325053, \"variable\": \"row\", \"value\": \"430\"}, {\"component 0\": 0.18644830144966906, \"component 1\": -0.2741418969973381, \"variable\": \"row\", \"value\": \"431\"}, {\"component 0\": -0.17700874881129314, \"component 1\": -0.005532941441296603, \"variable\": \"row\", \"value\": \"432\"}, {\"component 0\": 0.4913326190118175, \"component 1\": -0.4669835071881305, \"variable\": \"row\", \"value\": \"433\"}, {\"component 0\": -0.05223126000492365, \"component 1\": -0.12765125722286774, \"variable\": \"row\", \"value\": \"434\"}, {\"component 0\": -0.04656228446214924, \"component 1\": -0.13880182718910214, \"variable\": \"row\", \"value\": \"435\"}, {\"component 0\": -0.3327042321635988, \"component 1\": 0.24834308434481067, \"variable\": \"row\", \"value\": \"436\"}, {\"component 0\": 0.09200417239931688, \"component 1\": -0.276875132629177, \"variable\": \"row\", \"value\": \"437\"}, {\"component 0\": 0.13914166119108146, \"component 1\": -0.3258629579154503, \"variable\": \"row\", \"value\": \"438\"}, {\"component 0\": 0.09660891669432459, \"component 1\": -0.2785207684288804, \"variable\": \"row\", \"value\": \"439\"}, {\"component 0\": 0.7847338618508358, \"component 1\": -0.6262161129756263, \"variable\": \"row\", \"value\": \"440\"}, {\"component 0\": 0.32562589335997316, \"component 1\": -0.4057550136131602, \"variable\": \"row\", \"value\": \"441\"}, {\"component 0\": 0.0007694576529765397, \"component 1\": -0.18097920997659447, \"variable\": \"row\", \"value\": \"442\"}, {\"component 0\": 0.6320565219013125, \"component 1\": -0.5834308161162034, \"variable\": \"row\", \"value\": \"443\"}, {\"component 0\": 0.09660891669432459, \"component 1\": -0.2785207684288804, \"variable\": \"row\", \"value\": \"444\"}, {\"component 0\": -0.35713989881029845, \"component 1\": 0.22969030296174317, \"variable\": \"row\", \"value\": \"445\"}, {\"component 0\": 0.06082843805431556, \"component 1\": -0.24890997841463514, \"variable\": \"row\", \"value\": \"446\"}, {\"component 0\": 0.6334389781576574, \"component 1\": -0.5177295981123443, \"variable\": \"row\", \"value\": \"447\"}, {\"component 0\": -0.3317594384030548, \"component 1\": 0.2131187147630326, \"variable\": \"row\", \"value\": \"448\"}, {\"component 0\": 0.02387417317229748, \"component 1\": -0.21606988581645092, \"variable\": \"row\", \"value\": \"449\"}, {\"component 0\": 0.13914166119108146, \"component 1\": -0.3258629579154503, \"variable\": \"row\", \"value\": \"450\"}, {\"component 0\": -0.7364386288095575, \"component 1\": 0.6498433186379312, \"variable\": \"row\", \"value\": \"451\"}, {\"component 0\": -0.08698475351841724, \"component 1\": 0.0985906654239159, \"variable\": \"row\", \"value\": \"452\"}, {\"component 0\": -0.037535719035957496, \"component 1\": -0.14465056372467314, \"variable\": \"row\", \"value\": \"453\"}, {\"component 0\": -0.06098558302942083, \"component 1\": -0.11750894948744682, \"variable\": \"row\", \"value\": \"454\"}, {\"component 0\": 0.5595320623133798, \"component 1\": -0.5019907958980379, \"variable\": \"row\", \"value\": \"455\"}, {\"component 0\": -0.17484360320859427, \"component 1\": 0.010182095903659585, \"variable\": \"row\", \"value\": \"456\"}, {\"component 0\": -0.12305872576497606, \"component 1\": -0.04470075343450524, \"variable\": \"row\", \"value\": \"457\"}, {\"component 0\": -0.13593435772308715, \"component 1\": -0.03938931704638167, \"variable\": \"row\", \"value\": \"458\"}, {\"component 0\": -0.27025186059597206, \"component 1\": 0.12175725899092824, \"variable\": \"row\", \"value\": \"459\"}, {\"component 0\": 1.0166199649005878, \"component 1\": -0.6944967574539772, \"variable\": \"row\", \"value\": \"460\"}, {\"component 0\": -0.5690849674170992, \"component 1\": 2.7377253721957575, \"variable\": \"row\", \"value\": \"461\"}, {\"component 0\": -0.20859782319912815, \"component 1\": 0.04401664067443771, \"variable\": \"row\", \"value\": \"462\"}, {\"component 0\": 0.031750938674616674, \"component 1\": -0.21575480668991728, \"variable\": \"row\", \"value\": \"463\"}, {\"component 0\": 0.8038617822342287, \"component 1\": -0.6487050603094692, \"variable\": \"row\", \"value\": \"464\"}, {\"component 0\": 0.013817858095195644, \"component 1\": -0.20171804710267838, \"variable\": \"row\", \"value\": \"465\"}, {\"component 0\": -0.634586356876502, \"component 1\": 0.7900671643383429, \"variable\": \"row\", \"value\": \"466\"}, {\"component 0\": -0.31677788325589123, \"component 1\": 0.15112671134990271, \"variable\": \"row\", \"value\": \"467\"}, {\"component 0\": 0.7982274545942528, \"component 1\": -0.6375358634244677, \"variable\": \"row\", \"value\": \"468\"}, {\"component 0\": -0.43061570395506005, \"component 1\": 0.3081661269779074, \"variable\": \"row\", \"value\": \"469\"}, {\"component 0\": -0.223363218181272, \"component 1\": 0.24181264976794958, \"variable\": \"row\", \"value\": \"470\"}, {\"component 0\": 0.2457345354031752, \"component 1\": -0.25638715656122196, \"variable\": \"row\", \"value\": \"471\"}, {\"component 0\": -0.5201983286385052, \"component 1\": 0.4168766925130712, \"variable\": \"row\", \"value\": \"472\"}, {\"component 0\": -0.3102158812239445, \"component 1\": 0.19149558336292763, \"variable\": \"row\", \"value\": \"473\"}, {\"component 0\": -0.07864459172102008, \"component 1\": -0.10979235613125862, \"variable\": \"row\", \"value\": \"474\"}, {\"component 0\": -0.10611787360806844, \"component 1\": -0.04811900856892716, \"variable\": \"row\", \"value\": \"475\"}, {\"component 0\": -1.8936382102697698, \"component 1\": 2.0998503733588643, \"variable\": \"row\", \"value\": \"476\"}, {\"component 0\": 0.13914166119108146, \"component 1\": -0.3258629579154503, \"variable\": \"row\", \"value\": \"477\"}, {\"component 0\": -0.3618180950289455, \"component 1\": 0.20422654645598134, \"variable\": \"row\", \"value\": \"478\"}, {\"component 0\": -0.6779787482057472, \"component 1\": 0.5758425826638401, \"variable\": \"row\", \"value\": \"479\"}, {\"component 0\": -1.8936382102697698, \"component 1\": 2.0998503733588643, \"variable\": \"row\", \"value\": \"480\"}, {\"component 0\": -0.18353691016352125, \"component 1\": 0.03014656333512878, \"variable\": \"row\", \"value\": \"481\"}, {\"component 0\": -0.26370420559321267, \"component 1\": 0.0888033303567577, \"variable\": \"row\", \"value\": \"482\"}, {\"component 0\": 0.13914166119108146, \"component 1\": -0.3258629579154503, \"variable\": \"row\", \"value\": \"483\"}, {\"component 0\": 0.09213108123196156, \"component 1\": -0.2786710266034935, \"variable\": \"row\", \"value\": \"484\"}, {\"component 0\": -0.27919384950917264, \"component 1\": 0.1561356532322488, \"variable\": \"row\", \"value\": \"485\"}, {\"component 0\": 0.13914166119108146, \"component 1\": -0.3258629579154503, \"variable\": \"row\", \"value\": \"486\"}, {\"component 0\": -0.16818791617689688, \"component 1\": -0.01525823533273198, \"variable\": \"row\", \"value\": \"487\"}, {\"component 0\": 0.08310451580576983, \"component 1\": -0.2728222900679225, \"variable\": \"row\", \"value\": \"488\"}, {\"component 0\": -0.332637660089792, \"component 1\": 0.26555678629015533, \"variable\": \"row\", \"value\": \"489\"}, {\"component 0\": 0.02899634041569863, \"component 1\": -0.20438507188016966, \"variable\": \"row\", \"value\": \"490\"}, {\"component 0\": 0.09200417239931688, \"component 1\": -0.276875132629177, \"variable\": \"row\", \"value\": \"491\"}, {\"component 0\": -0.03314837950163006, \"component 1\": -0.14785183247221131, \"variable\": \"row\", \"value\": \"492\"}, {\"component 0\": -0.1283193393437424, \"component 1\": -0.04730415418619306, \"variable\": \"row\", \"value\": \"493\"}, {\"component 0\": -1.6841146797635231, \"component 1\": 1.8428057745412478, \"variable\": \"row\", \"value\": \"494\"}, {\"component 0\": -0.4220830691689821, \"component 1\": 0.3127302426558324, \"variable\": \"row\", \"value\": \"495\"}, {\"component 0\": -0.5217511948527574, \"component 1\": 0.4129673549953706, \"variable\": \"row\", \"value\": \"496\"}, {\"component 0\": -0.23084073616560238, \"component 1\": 0.09440176255328535, \"variable\": \"row\", \"value\": \"497\"}, {\"component 0\": 0.13914166119108146, \"component 1\": -0.3258629579154503, \"variable\": \"row\", \"value\": \"498\"}, {\"component 0\": -0.11714963724737712, \"component 1\": -0.06267238766560251, \"variable\": \"row\", \"value\": \"499\"}, {\"component 0\": -0.09727147177797801, \"component 1\": -0.0745514221167891, \"variable\": \"row\", \"value\": \"500\"}, {\"component 0\": 0.451756715908366, \"component 1\": -0.49660196485054553, \"variable\": \"row\", \"value\": \"501\"}, {\"component 0\": -0.3251485793983243, \"component 1\": 0.16122448443686493, \"variable\": \"row\", \"value\": \"502\"}, {\"component 0\": -0.2194657120929938, \"component 1\": 0.08031509068841863, \"variable\": \"row\", \"value\": \"503\"}, {\"component 0\": -0.022735737991358012, \"component 1\": -0.13576674512006845, \"variable\": \"row\", \"value\": \"504\"}, {\"component 0\": 1.5681964948762543, \"component 1\": -1.0026269652443551, \"variable\": \"row\", \"value\": \"505\"}, {\"component 0\": -0.006565717482751649, \"component 1\": -0.17649227529507935, \"variable\": \"row\", \"value\": \"506\"}, {\"component 0\": -1.6662934001681582, \"component 1\": 1.8897824424715115, \"variable\": \"row\", \"value\": \"507\"}, {\"component 0\": -0.6543173070553917, \"component 1\": 0.5534936234168599, \"variable\": \"row\", \"value\": \"508\"}, {\"component 0\": -0.7344418729964644, \"component 1\": 0.6569268915831094, \"variable\": \"row\", \"value\": \"509\"}, {\"component 0\": 1.2116717568524324, \"component 1\": 0.9735312146393292, \"variable\": \"row\", \"value\": \"510\"}, {\"component 0\": -0.25716584026686146, \"component 1\": 0.09128485354431744, \"variable\": \"row\", \"value\": \"511\"}, {\"component 0\": 0.21654944674722054, \"component 1\": -0.34686868405090737, \"variable\": \"row\", \"value\": \"512\"}, {\"component 0\": -0.1992848265627474, \"component 1\": 0.018379370211990764, \"variable\": \"row\", \"value\": \"513\"}, {\"component 0\": 11.448656069739688, \"component 1\": 12.098370651888803, \"variable\": \"row\", \"value\": \"514\"}, {\"component 0\": -0.17105896707933754, \"component 1\": -0.005529490480745164, \"variable\": \"row\", \"value\": \"515\"}, {\"component 0\": 0.13914166119108146, \"component 1\": -0.3258629579154503, \"variable\": \"row\", \"value\": \"516\"}, {\"component 0\": 0.10336118255107243, \"component 1\": -0.296252167901205, \"variable\": \"row\", \"value\": \"517\"}, {\"component 0\": 0.03596702701400524, \"component 1\": -0.22383446478164923, \"variable\": \"row\", \"value\": \"518\"}, {\"component 0\": -0.2039683948169059, \"component 1\": 0.014352554681513294, \"variable\": \"row\", \"value\": \"519\"}, {\"component 0\": -0.045539393370921374, \"component 1\": -0.14316974887689027, \"variable\": \"row\", \"value\": \"520\"}, {\"component 0\": 0.13914166119108146, \"component 1\": -0.3258629579154503, \"variable\": \"row\", \"value\": \"521\"}, {\"component 0\": 0.13914166119108146, \"component 1\": -0.3258629579154503, \"variable\": \"row\", \"value\": \"522\"}, {\"component 0\": 0.13914166119108146, \"component 1\": -0.3258629579154503, \"variable\": \"row\", \"value\": \"523\"}, {\"component 0\": 0.06878857325909597, \"component 1\": -0.21169515793324908, \"variable\": \"row\", \"value\": \"524\"}, {\"component 0\": 0.3555635989981568, \"component 1\": -0.33150810362129784, \"variable\": \"row\", \"value\": \"525\"}, {\"component 0\": -0.6167988809364017, \"component 1\": 0.5239346508494186, \"variable\": \"row\", \"value\": \"526\"}, {\"component 0\": -0.23801452362716208, \"component 1\": 0.07454621104461444, \"variable\": \"row\", \"value\": \"527\"}, {\"component 0\": -0.08935677608188058, \"component 1\": -0.09968955396887731, \"variable\": \"row\", \"value\": \"528\"}, {\"component 0\": 0.47049097545512264, \"component 1\": -0.4742292445422879, \"variable\": \"row\", \"value\": \"529\"}, {\"component 0\": 0.02387417317229748, \"component 1\": -0.21606988581645092, \"variable\": \"row\", \"value\": \"530\"}, {\"component 0\": -0.38107474463157176, \"component 1\": 0.2564456932121062, \"variable\": \"row\", \"value\": \"531\"}, {\"component 0\": 0.8990073133382909, \"component 1\": -0.6580195407241268, \"variable\": \"row\", \"value\": \"532\"}, {\"component 0\": -0.4277403042964202, \"component 1\": 0.2764974423614755, \"variable\": \"row\", \"value\": \"533\"}, {\"component 0\": 0.0008424176577548763, \"component 1\": -0.1899746382160127, \"variable\": \"row\", \"value\": \"534\"}, {\"component 0\": 0.10444105234870871, \"component 1\": -0.12476634995889288, \"variable\": \"row\", \"value\": \"535\"}, {\"component 0\": 0.027723239704216848, \"component 1\": -0.21553258566900352, \"variable\": \"row\", \"value\": \"536\"}, {\"component 0\": 1.5681964948762543, \"component 1\": -1.0026269652443551, \"variable\": \"row\", \"value\": \"537\"}, {\"component 0\": -0.26463496858443986, \"component 1\": 0.09705730852196551, \"variable\": \"row\", \"value\": \"538\"}, {\"component 0\": -0.9311805007749395, \"component 1\": 0.9203777875692876, \"variable\": \"row\", \"value\": \"539\"}, {\"component 0\": 0.3536543434109984, \"component 1\": -0.41032683728690283, \"variable\": \"row\", \"value\": \"540\"}, {\"component 0\": -0.3342925816577528, \"component 1\": 0.16442977109109658, \"variable\": \"row\", \"value\": \"541\"}, {\"component 0\": -0.4277403042964202, \"component 1\": 0.2764974423614755, \"variable\": \"row\", \"value\": \"542\"}, {\"component 0\": -0.05443904996446846, \"component 1\": -0.1391169063156358, \"variable\": \"row\", \"value\": \"543\"}, {\"component 0\": 0.7309610077877587, \"component 1\": -0.6173803846574084, \"variable\": \"row\", \"value\": \"544\"}, {\"component 0\": -0.21212422131846462, \"component 1\": 0.14077348883647361, \"variable\": \"row\", \"value\": \"545\"}, {\"component 0\": -0.22523427655084916, \"component 1\": 0.12012270742126492, \"variable\": \"row\", \"value\": \"546\"}, {\"component 0\": -0.6164530633044922, \"component 1\": 0.5351368277886872, \"variable\": \"row\", \"value\": \"547\"}, {\"component 0\": 0.13914166119108146, \"component 1\": -0.3258629579154503, \"variable\": \"row\", \"value\": \"548\"}, {\"component 0\": 0.06082843805431556, \"component 1\": -0.24890997841463514, \"variable\": \"row\", \"value\": \"549\"}, {\"component 0\": 0.13914166119108146, \"component 1\": -0.3258629579154503, \"variable\": \"row\", \"value\": \"550\"}, {\"component 0\": -0.06566915128357932, \"component 1\": -0.12153576501792429, \"variable\": \"row\", \"value\": \"551\"}, {\"component 0\": 0.03674980513040858, \"component 1\": -0.22138132220457452, \"variable\": \"row\", \"value\": \"552\"}, {\"component 0\": -0.32735009618368277, \"component 1\": 0.1971158849003297, \"variable\": \"row\", \"value\": \"553\"}, {\"component 0\": 0.7087289228461248, \"component 1\": -0.5849727542251055, \"variable\": \"row\", \"value\": \"554\"}, {\"component 0\": -0.009758914730912343, \"component 1\": -0.17278053889113554, \"variable\": \"row\", \"value\": \"555\"}, {\"component 0\": -0.5139915968180763, \"component 1\": 0.4114159722898243, \"variable\": \"row\", \"value\": \"556\"}, {\"component 0\": -1.8936382102697698, \"component 1\": 2.0998503733588643, \"variable\": \"row\", \"value\": \"557\"}, {\"component 0\": 0.13914166119108146, \"component 1\": -0.3258629579154503, \"variable\": \"row\", \"value\": \"558\"}, {\"component 0\": -0.10982032606602143, \"component 1\": -0.08182720191671679, \"variable\": \"row\", \"value\": \"559\"}, {\"component 0\": -0.32124418121553366, \"component 1\": 0.14369093396501265, \"variable\": \"row\", \"value\": \"560\"}, {\"component 0\": 0.06082843805431556, \"component 1\": -0.24890997841463514, \"variable\": \"row\", \"value\": \"561\"}, {\"component 0\": -0.037535719035957496, \"component 1\": -0.14465056372467314, \"variable\": \"row\", \"value\": \"562\"}, {\"component 0\": 0.049598336735204675, \"component 1\": -0.23132883711692365, \"variable\": \"row\", \"value\": \"563\"}, {\"component 0\": 0.125464114318598, \"component 1\": -0.23655565737227324, \"variable\": \"row\", \"value\": \"564\"}, {\"component 0\": 1.4845984168246185, \"component 1\": -0.9591222034935397, \"variable\": \"row\", \"value\": \"565\"}, {\"component 0\": -0.11714963724737712, \"component 1\": -0.06267238766560251, \"variable\": \"row\", \"value\": \"566\"}, {\"component 0\": 0.07991131855760913, \"component 1\": -0.26911055366397874, \"variable\": \"row\", \"value\": \"567\"}, {\"component 0\": -0.18557931379114923, \"component 1\": 0.015356153859400387, \"variable\": \"row\", \"value\": \"568\"}, {\"component 0\": -0.04590641517839057, \"component 1\": -0.1345527906377109, \"variable\": \"row\", \"value\": \"569\"}, {\"component 0\": 0.5229445642208637, \"component 1\": -0.5056779654591792, \"variable\": \"row\", \"value\": \"570\"}, {\"component 0\": -0.05791929461390479, \"component 1\": -0.11942479191707411, \"variable\": \"row\", \"value\": \"571\"}, {\"component 0\": 1.5681964948762543, \"component 1\": -1.0026269652443551, \"variable\": \"row\", \"value\": \"572\"}, {\"component 0\": -0.04156341800635733, \"component 1\": -0.14442834270375937, \"variable\": \"row\", \"value\": \"573\"}, {\"component 0\": 0.13115558893719734, \"component 1\": -0.21104586465044747, \"variable\": \"row\", \"value\": \"574\"}, {\"component 0\": 1.5681964948762543, \"component 1\": -1.0026269652443551, \"variable\": \"row\", \"value\": \"575\"}, {\"component 0\": -0.070273895578587, \"component 1\": -0.11989012921822087, \"variable\": \"row\", \"value\": \"576\"}, {\"component 0\": 0.041227640592771606, \"component 1\": -0.2212310640299614, \"variable\": \"row\", \"value\": \"577\"}, {\"component 0\": -0.3153754688150768, \"component 1\": 0.20368122619854429, \"variable\": \"row\", \"value\": \"578\"}, {\"component 0\": -1.8936382102697698, \"component 1\": 2.0998503733588643, \"variable\": \"row\", \"value\": \"579\"}, {\"component 0\": -1.358712568943801, \"component 1\": 1.4391350790169093, \"variable\": \"row\", \"value\": \"580\"}, {\"component 0\": -0.009687337549138888, \"component 1\": -0.15650558224615235, \"variable\": \"row\", \"value\": \"581\"}, {\"component 0\": -0.0740398474260124, \"component 1\": -0.11143799193096204, \"variable\": \"row\", \"value\": \"582\"}, {\"component 0\": 0.8068243534554889, \"component 1\": -0.6366838287224005, \"variable\": \"row\", \"value\": \"583\"}, {\"component 0\": 0.02047738309804528, \"component 1\": -0.15650214190615813, \"variable\": \"row\", \"value\": \"584\"}, {\"component 0\": 0.13914166119108146, \"component 1\": -0.3258629579154503, \"variable\": \"row\", \"value\": \"585\"}, {\"component 0\": 0.013690949262550963, \"component 1\": -0.19992215312836187, \"variable\": \"row\", \"value\": \"586\"}, {\"component 0\": 0.018787016086893937, \"component 1\": -0.1546373412629415, \"variable\": \"row\", \"value\": \"587\"}, {\"component 0\": 0.9817293146588594, \"component 1\": -0.7484746562722081, \"variable\": \"row\", \"value\": \"588\"}, {\"component 0\": -0.045539393370921374, \"component 1\": -0.14316974887689027, \"variable\": \"row\", \"value\": \"589\"}, {\"component 0\": 0.04499359244019699, \"component 1\": -0.22968320131722023, \"variable\": \"row\", \"value\": \"590\"}, {\"component 0\": 1.5681964948762543, \"component 1\": -1.0026269652443551, \"variable\": \"row\", \"value\": \"591\"}, {\"component 0\": -0.06579606011622399, \"component 1\": -0.11973987104360778, \"variable\": \"row\", \"value\": \"592\"}, {\"component 0\": 0.16677210290665417, \"component 1\": -0.27828317955660004, \"variable\": \"row\", \"value\": \"593\"}, {\"component 0\": 0.477881206502839, \"component 1\": -0.4537830947237973, \"variable\": \"row\", \"value\": \"594\"}, {\"component 0\": 0.48140666221742984, \"component 1\": -0.45338643758576946, \"variable\": \"row\", \"value\": \"595\"}, {\"component 0\": 0.04499359244019699, \"component 1\": -0.22968320131722023, \"variable\": \"row\", \"value\": \"596\"}, {\"component 0\": -0.584556594762774, \"component 1\": 0.4804820310498877, \"variable\": \"row\", \"value\": \"597\"}, {\"component 0\": -0.19629149815200972, \"component 1\": 0.02545895602178172, \"variable\": \"row\", \"value\": \"598\"}, {\"component 0\": -0.9217986405678522, \"component 1\": 0.8848195638384174, \"variable\": \"row\", \"value\": \"599\"}, {\"component 0\": -0.027040804969613023, \"component 1\": -0.15134440403264188, \"variable\": \"row\", \"value\": \"600\"}, {\"component 0\": -0.24429831079533912, \"component 1\": 0.20454556340208685, \"variable\": \"row\", \"value\": \"601\"}, {\"component 0\": -0.018007592435859476, \"component 1\": -0.10584032175774107, \"variable\": \"row\", \"value\": \"602\"}, {\"component 0\": 0.5326118343415286, \"component 1\": -0.5050323230103654, \"variable\": \"row\", \"value\": \"603\"}, {\"component 0\": -0.3246412938921378, \"component 1\": 0.24932297207188772, \"variable\": \"row\", \"value\": \"604\"}, {\"component 0\": -0.7871286189233836, \"component 1\": 0.7668375786335747, \"variable\": \"row\", \"value\": \"605\"}, {\"component 0\": -0.10491004887486534, \"component 1\": -0.01600341901247512, \"variable\": \"row\", \"value\": \"606\"}, {\"component 0\": -0.7600711856840447, \"component 1\": 0.7247212827071552, \"variable\": \"row\", \"value\": \"607\"}, {\"component 0\": 0.21343414316265855, \"component 1\": -0.3444570228759995, \"variable\": \"row\", \"value\": \"608\"}, {\"component 0\": -0.03766262786860218, \"component 1\": -0.14285466975035663, \"variable\": \"row\", \"value\": \"609\"}, {\"component 0\": -0.31268684629558524, \"component 1\": 0.16111077436822316, \"variable\": \"row\", \"value\": \"610\"}, {\"component 0\": 0.15279225348233919, \"component 1\": -0.28977071922876835, \"variable\": \"row\", \"value\": \"611\"}, {\"component 0\": 1.0203134749780698, \"component 1\": -0.7432866513591767, \"variable\": \"row\", \"value\": \"612\"}, {\"component 0\": 0.7309472463982803, \"component 1\": 0.6076425912076548, \"variable\": \"row\", \"value\": \"613\"}, {\"component 0\": 0.5229445642208637, \"component 1\": -0.5056779654591792, \"variable\": \"row\", \"value\": \"614\"}, {\"component 0\": 0.8638617109285572, \"component 1\": -0.6725477579623435, \"variable\": \"row\", \"value\": \"615\"}, {\"component 0\": -0.05791929461390479, \"component 1\": -0.11942479191707411, \"variable\": \"row\", \"value\": \"616\"}, {\"component 0\": -0.054488517660967205, \"component 1\": -0.10637817612673696, \"variable\": \"row\", \"value\": \"617\"}, {\"component 0\": 0.13914166119108146, \"component 1\": -0.3258629579154503, \"variable\": \"row\", \"value\": \"618\"}, {\"component 0\": -0.5309158549701023, \"component 1\": 0.4491766456539871, \"variable\": \"row\", \"value\": \"619\"}, {\"component 0\": -1.201764511618483, \"component 1\": 1.2374823588664867, \"variable\": \"row\", \"value\": \"620\"}, {\"component 0\": -0.8847800606109083, \"component 1\": 0.864575996372003, \"variable\": \"row\", \"value\": \"621\"}, {\"component 0\": 0.5452037132244171, \"component 1\": -0.4826348574584968, \"variable\": \"row\", \"value\": \"622\"}, {\"component 0\": -0.08967160368579516, \"component 1\": 0.21468907517827304, \"variable\": \"row\", \"value\": \"623\"}, {\"component 0\": 0.22018640901940642, \"component 1\": -0.3621884223483241, \"variable\": \"row\", \"value\": \"624\"}, {\"component 0\": 0.040777504100808416, \"component 1\": -0.22160354322548825, \"variable\": \"row\", \"value\": \"625\"}, {\"component 0\": -0.164160217206497, \"component 1\": -0.01548045635364576, \"variable\": \"row\", \"value\": \"626\"}, {\"component 0\": 0.13914166119108146, \"component 1\": -0.3258629579154503, \"variable\": \"row\", \"value\": \"627\"}, {\"component 0\": 1.1230275987364702, \"component 1\": -0.8117148263821137, \"variable\": \"row\", \"value\": \"628\"}, {\"component 0\": -0.09369977325391382, \"component 1\": -0.08981400190282884, \"variable\": \"row\", \"value\": \"629\"}, {\"component 0\": 0.13914166119108146, \"component 1\": -0.3258629579154503, \"variable\": \"row\", \"value\": \"630\"}, {\"component 0\": 0.536346580929057, \"component 1\": -0.5018077862092534, \"variable\": \"row\", \"value\": \"631\"}, {\"component 0\": -0.8218146783284417, \"component 1\": 0.775466683537715, \"variable\": \"row\", \"value\": \"632\"}, {\"component 0\": 0.6643626736416709, \"component 1\": -0.5375387281365849, \"variable\": \"row\", \"value\": \"633\"}, {\"component 0\": -0.330807747015861, \"component 1\": 0.1795861526243998, \"variable\": \"row\", \"value\": \"634\"}, {\"component 0\": 0.8635880689891736, \"component 1\": -0.680988796068017, \"variable\": \"row\", \"value\": \"635\"}, {\"component 0\": 0.13914166119108146, \"component 1\": -0.3258629579154503, \"variable\": \"row\", \"value\": \"636\"}, {\"component 0\": -1.8936382102697698, \"component 1\": 2.0998503733588643, \"variable\": \"row\", \"value\": \"637\"}, {\"component 0\": -0.6412208078789897, \"component 1\": 0.5679794934250028, \"variable\": \"row\", \"value\": \"638\"}, {\"component 0\": -0.21020426100457254, \"component 1\": 0.044911405100661855, \"variable\": \"row\", \"value\": \"639\"}, {\"component 0\": 0.03290073859848922, \"component 1\": -0.22191862235202195, \"variable\": \"row\", \"value\": \"640\"}, {\"component 0\": -0.23788761479451742, \"component 1\": 0.07275031707029793, \"variable\": \"row\", \"value\": \"641\"}, {\"component 0\": -0.15293011588738614, \"component 1\": -0.033061597651357244, \"variable\": \"row\", \"value\": \"642\"}, {\"component 0\": 0.13914166119108146, \"component 1\": -0.3258629579154503, \"variable\": \"row\", \"value\": \"643\"}, {\"component 0\": -0.12539342455716554, \"component 1\": -0.05437050855295681, \"variable\": \"row\", \"value\": \"644\"}, {\"component 0\": -1.8936382102697698, \"component 1\": 2.0998503733588643, \"variable\": \"row\", \"value\": \"645\"}, {\"component 0\": -0.3852075597996633, \"component 1\": 0.22915525287490562, \"variable\": \"row\", \"value\": \"646\"}, {\"component 0\": 0.9032027318937237, \"component 1\": -0.6882259009560098, \"variable\": \"row\", \"value\": \"647\"}, {\"component 0\": 0.13914166119108146, \"component 1\": -0.3258629579154503, \"variable\": \"row\", \"value\": \"648\"}, {\"component 0\": -0.1635227726591436, \"component 1\": -0.019116778950737445, \"variable\": \"row\", \"value\": \"649\"}, {\"component 0\": -0.4277403042964202, \"component 1\": 0.2764974423614755, \"variable\": \"row\", \"value\": \"650\"}, {\"component 0\": 0.2939275875552151, \"component 1\": -0.3784437202748995, \"variable\": \"row\", \"value\": \"651\"}, {\"component 0\": -0.30623695008996954, \"component 1\": 0.13614551984332757, \"variable\": \"row\", \"value\": \"652\"}, {\"component 0\": 0.6142861696049984, \"component 1\": -0.40054023732392724, \"variable\": \"row\", \"value\": \"653\"}, {\"component 0\": -0.05904379425947614, \"component 1\": -0.1374712705159324, \"variable\": \"row\", \"value\": \"654\"}, {\"component 0\": 0.5675514397913606, \"component 1\": -0.5501131094966405, \"variable\": \"row\", \"value\": \"655\"}, {\"component 0\": 0.13914166119108146, \"component 1\": -0.3258629579154503, \"variable\": \"row\", \"value\": \"656\"}, {\"component 0\": 0.11953393920162696, \"component 1\": -0.17997488857925467, \"variable\": \"row\", \"value\": \"657\"}, {\"component 0\": 0.04525533956317143, \"component 1\": -0.22145328505087516, \"variable\": \"row\", \"value\": \"658\"}, {\"component 0\": 0.1896916281508999, \"component 1\": -0.2954027575535105, \"variable\": \"row\", \"value\": \"659\"}, {\"component 0\": -0.46681093745609575, \"component 1\": 0.3504113415017028, \"variable\": \"row\", \"value\": \"660\"}, {\"component 0\": -0.4277403042964202, \"component 1\": 0.2764974423614755, \"variable\": \"row\", \"value\": \"661\"}, {\"component 0\": 0.20234054737833151, \"component 1\": -0.21053600279139872, \"variable\": \"row\", \"value\": \"662\"}, {\"component 0\": -0.4268007073648602, \"component 1\": 0.295127725918268, \"variable\": \"row\", \"value\": \"663\"}, {\"component 0\": 0.3666080662918484, \"component 1\": -0.41531384072446365, \"variable\": \"row\", \"value\": \"664\"}, {\"component 0\": 0.3228069124447902, \"component 1\": -0.3682647878008683, \"variable\": \"row\", \"value\": \"665\"}, {\"component 0\": -0.5730429978376407, \"component 1\": 0.48960407028268665, \"variable\": \"row\", \"value\": \"666\"}, {\"component 0\": -1.0338453119541418, \"component 1\": 1.0755242698940193, \"variable\": \"row\", \"value\": \"667\"}, {\"component 0\": 1.3035579291126556, \"component 1\": -0.868559493386038, \"variable\": \"row\", \"value\": \"668\"}, {\"component 0\": 0.09660891669432459, \"component 1\": -0.2785207684288804, \"variable\": \"row\", \"value\": \"669\"}, {\"component 0\": -0.4277403042964202, \"component 1\": 0.2764974423614755, \"variable\": \"row\", \"value\": \"670\"}, {\"component 0\": 0.13914166119108146, \"component 1\": -0.3258629579154503, \"variable\": \"row\", \"value\": \"671\"}, {\"component 0\": 0.4536041150047674, \"component 1\": -0.44462267881344825, \"variable\": \"row\", \"value\": \"672\"}, {\"component 0\": 0.13914166119108146, \"component 1\": -0.3258629579154503, \"variable\": \"row\", \"value\": \"673\"}, {\"component 0\": -0.42996263269421303, \"component 1\": 0.2904491536517226, \"variable\": \"row\", \"value\": \"674\"}, {\"component 0\": 0.38689289740348665, \"component 1\": -0.4307244827914724, \"variable\": \"row\", \"value\": \"675\"}, {\"component 0\": -1.545380681730544, \"component 1\": 1.6665711835758896, \"variable\": \"row\", \"value\": \"676\"}, {\"component 0\": -0.5555489385782325, \"component 1\": 0.46087851838804234, \"variable\": \"row\", \"value\": \"677\"}, {\"component 0\": 0.47283055535381047, \"component 1\": -0.453639907034036, \"variable\": \"row\", \"value\": \"678\"}, {\"component 0\": -0.7866382639624484, \"component 1\": 0.7822173024668206, \"variable\": \"row\", \"value\": \"679\"}, {\"component 0\": 0.13914166119108146, \"component 1\": -0.3258629579154503, \"variable\": \"row\", \"value\": \"680\"}, {\"component 0\": -0.6373032528017497, \"component 1\": 0.6161461495227213, \"variable\": \"row\", \"value\": \"681\"}, {\"component 0\": 0.17450082055852958, \"component 1\": -0.22170142095537304, \"variable\": \"row\", \"value\": \"682\"}, {\"component 0\": 0.13914166119108146, \"component 1\": -0.3258629579154503, \"variable\": \"row\", \"value\": \"683\"}, {\"component 0\": 0.5569486410745819, \"component 1\": -0.5557823940773715, \"variable\": \"row\", \"value\": \"684\"}, {\"component 0\": 0.09200417239931688, \"component 1\": -0.276875132629177, \"variable\": \"row\", \"value\": \"685\"}, {\"component 0\": -0.07354901695262533, \"component 1\": -0.08190342132771157, \"variable\": \"row\", \"value\": \"686\"}, {\"component 0\": -0.05436022600531764, \"component 1\": -0.1334444549854549, \"variable\": \"row\", \"value\": \"687\"}, {\"component 0\": -0.01895824864121209, \"component 1\": -0.1515044016176042, \"variable\": \"row\", \"value\": \"688\"}, {\"component 0\": -0.1041774264642156, \"component 1\": -0.06027489228965911, \"variable\": \"row\", \"value\": \"689\"}, {\"component 0\": 0.13914166119108146, \"component 1\": -0.3258629579154503, \"variable\": \"row\", \"value\": \"690\"}, {\"component 0\": -0.9331770570212787, \"component 1\": 0.9287928250511505, \"variable\": \"row\", \"value\": \"691\"}, {\"component 0\": -0.11280664007534388, \"component 1\": -0.072547939731651, \"variable\": \"row\", \"value\": \"692\"}, {\"component 0\": -0.8913549192429185, \"component 1\": 0.9343741043758335, \"variable\": \"row\", \"value\": \"693\"}, {\"component 0\": 0.02608196313184228, \"component 1\": -0.20460423672368283, \"variable\": \"row\", \"value\": \"694\"}, {\"component 0\": 0.16062071457348395, \"component 1\": -0.2073457008365596, \"variable\": \"row\", \"value\": \"695\"}, {\"component 0\": -0.5394451569934737, \"component 1\": 0.4066163485347982, \"variable\": \"row\", \"value\": \"696\"}, {\"component 0\": 0.13914166119108146, \"component 1\": -0.3258629579154503, \"variable\": \"row\", \"value\": \"697\"}, {\"component 0\": -0.061741260792509134, \"component 1\": -0.11532601354029595, \"variable\": \"row\", \"value\": \"698\"}, {\"component 0\": -1.1558496136825622, \"component 1\": 1.327337471841766, \"variable\": \"row\", \"value\": \"699\"}, {\"component 0\": -0.5847034588204847, \"component 1\": 0.4911879290312534, \"variable\": \"row\", \"value\": \"700\"}, {\"component 0\": 0.13914166119108146, \"component 1\": -0.3258629579154503, \"variable\": \"row\", \"value\": \"701\"}, {\"component 0\": 0.21713515920892051, \"component 1\": -0.32126562484874105, \"variable\": \"row\", \"value\": \"702\"}, {\"component 0\": -0.2341101254443715, \"component 1\": 0.057012660572762164, \"variable\": \"row\", \"value\": \"703\"}, {\"component 0\": -0.16962414731095843, \"component 1\": 0.01069411425624863, \"variable\": \"row\", \"value\": \"704\"}, {\"component 0\": -0.23398682465676227, \"component 1\": 0.07432399002370066, \"variable\": \"row\", \"value\": \"705\"}, {\"component 0\": 0.27994077387626454, \"component 1\": -0.3129583331601356, \"variable\": \"row\", \"value\": \"706\"}, {\"component 0\": -0.11567769097778455, \"component 1\": -0.06281919487966417, \"variable\": \"row\", \"value\": \"707\"}, {\"component 0\": -0.070273895578587, \"component 1\": -0.11989012921822087, \"variable\": \"row\", \"value\": \"708\"}, {\"component 0\": 0.13914166119108146, \"component 1\": -0.3258629579154503, \"variable\": \"row\", \"value\": \"709\"}, {\"component 0\": 0.432530275559323, \"component 1\": -0.48758473662995777, \"variable\": \"row\", \"value\": \"710\"}, {\"component 0\": 1.4845984168246185, \"component 1\": -0.9591222034935397, \"variable\": \"row\", \"value\": \"711\"}, {\"component 0\": 0.005447161952762583, \"component 1\": -0.19162027401571613, \"variable\": \"row\", \"value\": \"712\"}, {\"component 0\": -1.7549042122367906, \"component 1\": 1.923615782393506, \"variable\": \"row\", \"value\": \"713\"}, {\"component 0\": 0.029190425179437242, \"component 1\": 0.05041297479865449, \"variable\": \"row\", \"value\": \"714\"}, {\"component 0\": -0.4277403042964202, \"component 1\": 0.2764974423614755, \"variable\": \"row\", \"value\": \"715\"}, {\"component 0\": -0.9069143388900025, \"component 1\": 0.918569713304204, \"variable\": \"row\", \"value\": \"716\"}, {\"component 0\": -0.02986171989076941, \"component 1\": 0.06256955703552972, \"variable\": \"row\", \"value\": \"717\"}, {\"component 0\": 0.024530042456056153, \"component 1\": -0.2118208492650597, \"variable\": \"row\", \"value\": \"718\"}, {\"component 0\": -0.328715945233065, \"component 1\": 0.17352710896685714, \"variable\": \"row\", \"value\": \"719\"}, {\"component 0\": -0.4277403042964202, \"component 1\": 0.2764974423614755, \"variable\": \"row\", \"value\": \"720\"}, {\"component 0\": -1.414293713882777, \"component 1\": 1.5072161056295632, \"variable\": \"row\", \"value\": \"721\"}, {\"component 0\": 0.196326492399344, \"component 1\": -0.34853293041777794, \"variable\": \"row\", \"value\": \"722\"}, {\"component 0\": 0.18052388133228495, \"component 1\": -0.17779145079587508, \"variable\": \"row\", \"value\": \"723\"}, {\"component 0\": -0.9789187707084577, \"component 1\": 0.9707174589594466, \"variable\": \"row\", \"value\": \"724\"}, {\"component 0\": -0.08048635793980478, \"component 1\": -0.020479375461315848, \"variable\": \"row\", \"value\": \"725\"}, {\"component 0\": -0.027040804969613023, \"component 1\": -0.15134440403264188, \"variable\": \"row\", \"value\": \"726\"}, {\"component 0\": -0.05727496283286667, \"component 1\": -0.10789023615540591, \"variable\": \"row\", \"value\": \"727\"}, {\"component 0\": 0.5360729389896733, \"component 1\": -0.5102488243149269, \"variable\": \"row\", \"value\": \"728\"}, {\"component 0\": 0.354276195031317, \"component 1\": -0.3318707984486052, \"variable\": \"row\", \"value\": \"729\"}, {\"component 0\": -0.16806461538928763, \"component 1\": 0.0020530941182065254, \"variable\": \"row\", \"value\": \"730\"}, {\"component 0\": -0.005659638578739064, \"component 1\": -0.15672780326706612, \"variable\": \"row\", \"value\": \"731\"}, {\"component 0\": 0.8078979735969729, \"component 1\": -0.6706520846794846, \"variable\": \"row\", \"value\": \"732\"}, {\"component 0\": 0.23210697103935302, \"component 1\": -0.3781437204320232, \"variable\": \"row\", \"value\": \"733\"}, {\"component 0\": 0.26237726780372744, \"component 1\": -0.350161621281207, \"variable\": \"row\", \"value\": \"734\"}, {\"component 0\": -0.0655903273244285, \"component 1\": -0.11586331368774339, \"variable\": \"row\", \"value\": \"735\"}, {\"component 0\": -0.023263315619467102, \"component 1\": -0.16708206053017763, \"variable\": \"row\", \"value\": \"736\"}, {\"component 0\": -0.2191028943188074, \"component 1\": 0.04946724645107707, \"variable\": \"row\", \"value\": \"737\"}, {\"component 0\": -0.13160742898195144, \"component 1\": 0.05713288736758165, \"variable\": \"row\", \"value\": \"738\"}, {\"component 0\": -0.42216937059484605, \"component 1\": 0.2772779692512989, \"variable\": \"row\", \"value\": \"739\"}, {\"component 0\": 0.5572965670661248, \"component 1\": -0.4903994364236951, \"variable\": \"row\", \"value\": \"740\"}, {\"component 0\": 0.22613723662412877, \"component 1\": -0.31954207752205643, \"variable\": \"row\", \"value\": \"741\"}, {\"component 0\": -0.21066026145090816, \"component 1\": 0.029871046335535844, \"variable\": \"row\", \"value\": \"742\"}, {\"component 0\": 0.019416292895646208, \"component 1\": -0.1341841838442845, \"variable\": \"row\", \"value\": \"743\"}, {\"component 0\": 0.23266058351170163, \"component 1\": -0.35347425109658726, \"variable\": \"row\", \"value\": \"744\"}, {\"component 0\": 1.098676406423284, \"component 1\": -0.7424142370693024, \"variable\": \"row\", \"value\": \"745\"}, {\"component 0\": -0.4277403042964202, \"component 1\": 0.2764974423614755, \"variable\": \"row\", \"value\": \"746\"}, {\"component 0\": -0.04931688272106729, \"component 1\": -0.12743209237935452, \"variable\": \"row\", \"value\": \"747\"}, {\"component 0\": 0.13914166119108146, \"component 1\": -0.3258629579154503, \"variable\": \"row\", \"value\": \"748\"}, {\"component 0\": -0.1686933843197313, \"component 1\": 0.0024401360910408544, \"variable\": \"row\", \"value\": \"749\"}, {\"component 0\": -0.5357065577063866, \"component 1\": 0.4134498214837675, \"variable\": \"row\", \"value\": \"750\"}, {\"component 0\": -0.10579262709562158, \"component 1\": -0.08204942293763054, \"variable\": \"row\", \"value\": \"751\"}, {\"component 0\": -0.10112053830989737, \"component 1\": -0.07508872226423649, \"variable\": \"row\", \"value\": \"752\"}, {\"component 0\": -0.2384646601191253, \"component 1\": 0.07417373184908757, \"variable\": \"row\", \"value\": \"753\"}, {\"component 0\": 0.44093247753723314, \"component 1\": -0.3808185465562408, \"variable\": \"row\", \"value\": \"754\"}, {\"component 0\": 1.4845984168246185, \"component 1\": -0.9591222034935397, \"variable\": \"row\", \"value\": \"755\"}, {\"component 0\": 1.6019231826026046, \"component 1\": 0.8592702410439612, \"variable\": \"row\", \"value\": \"756\"}, {\"component 0\": 0.12779842701848446, \"component 1\": -0.24496065313841092, \"variable\": \"row\", \"value\": \"757\"}, {\"component 0\": -0.28009263771137355, \"component 1\": 0.12565199305432553, \"variable\": \"row\", \"value\": \"758\"}, {\"component 0\": 0.13914166119108146, \"component 1\": -0.3258629579154503, \"variable\": \"row\", \"value\": \"759\"}, {\"component 0\": -0.5740199543793205, \"component 1\": 0.4601824977987188, \"variable\": \"row\", \"value\": \"760\"}, {\"component 0\": 0.13963751904813157, \"component 1\": -0.2278997002420639, \"variable\": \"row\", \"value\": \"761\"}, {\"component 0\": -0.06728758156926454, \"component 1\": -0.12916939140328665, \"variable\": \"row\", \"value\": \"762\"}, {\"component 0\": 0.09660891669432459, \"component 1\": -0.2785207684288804, \"variable\": \"row\", \"value\": \"763\"}, {\"component 0\": 0.45130650079819506, \"component 1\": -0.40180665488614625, \"variable\": \"row\", \"value\": \"764\"}, {\"component 0\": -0.3912470207976264, \"component 1\": 0.28217405138155904, \"variable\": \"row\", \"value\": \"765\"}, {\"component 0\": 1.5681964948762543, \"component 1\": -1.0026269652443551, \"variable\": \"row\", \"value\": \"766\"}, {\"component 0\": -0.42938430377779957, \"component 1\": 0.28557093563253966, \"variable\": \"row\", \"value\": \"767\"}, {\"component 0\": 0.013690949262550963, \"component 1\": -0.19992215312836187, \"variable\": \"row\", \"value\": \"768\"}, {\"component 0\": -0.006438808650106965, \"component 1\": -0.17828816926939586, \"variable\": \"row\", \"value\": \"769\"}, {\"component 0\": -0.006565717482751649, \"component 1\": -0.17649227529507935, \"variable\": \"row\", \"value\": \"770\"}, {\"component 0\": 0.05622369375930785, \"component 1\": -0.24726434261493171, \"variable\": \"row\", \"value\": \"771\"}, {\"component 0\": -0.05372380330460768, \"component 1\": 0.0037818647824994223, \"variable\": \"row\", \"value\": \"772\"}, {\"component 0\": 0.14504289820282432, \"component 1\": 0.09637552686660827, \"variable\": \"row\", \"value\": \"773\"}, {\"component 0\": 0.22242355997721666, \"component 1\": 0.02243640633614308, \"variable\": \"row\", \"value\": \"774\"}, {\"component 0\": 0.49268970947819957, \"component 1\": -0.2807514401736882, \"variable\": \"row\", \"value\": \"775\"}, {\"component 0\": 0.04947142790256, \"component 1\": -0.22953294314260714, \"variable\": \"row\", \"value\": \"776\"}, {\"component 0\": 1.4437781293609953, \"component 1\": -0.9344293077969413, \"variable\": \"row\", \"value\": \"777\"}, {\"component 0\": -0.5319760286758954, \"component 1\": 0.4008438935571502, \"variable\": \"row\", \"value\": \"778\"}, {\"component 0\": -0.4753347100311264, \"component 1\": 0.3810956190413334, \"variable\": \"row\", \"value\": \"779\"}, {\"component 0\": -0.22886645088548194, \"component 1\": 0.13850664174990435, \"variable\": \"row\", \"value\": \"780\"}, {\"component 0\": -1.2115103196540367, \"component 1\": 1.25644181960284, \"variable\": \"row\", \"value\": \"781\"}, {\"component 0\": -0.2997055308230841, \"component 1\": 0.2538370587911214, \"variable\": \"row\", \"value\": \"782\"}, {\"component 0\": -0.10814149655759062, \"component 1\": -0.07640648334965645, \"variable\": \"row\", \"value\": \"783\"}, {\"component 0\": 0.01209514945289168, \"component 1\": -0.13911884960891896, \"variable\": \"row\", \"value\": \"784\"}, {\"component 0\": -0.11280664007534388, \"component 1\": -0.072547939731651, \"variable\": \"row\", \"value\": \"785\"}, {\"component 0\": 0.13914166119108146, \"component 1\": -0.3258629579154503, \"variable\": \"row\", \"value\": \"786\"}, {\"component 0\": -0.593797434570876, \"component 1\": 0.47804118707829696, \"variable\": \"row\", \"value\": \"787\"}, {\"component 0\": 0.09058385062822912, \"component 1\": -0.2018482748996139, \"variable\": \"row\", \"value\": \"788\"}, {\"component 0\": 1.5681964948762543, \"component 1\": -1.0026269652443551, \"variable\": \"row\", \"value\": \"789\"}, {\"component 0\": 0.6537390386481845, \"component 1\": -0.5607150822900161, \"variable\": \"row\", \"value\": \"790\"}, {\"component 0\": -0.43061229584759286, \"component 1\": 0.3000388357227666, \"variable\": \"row\", \"value\": \"791\"}, {\"component 0\": 0.21343414316265855, \"component 1\": -0.3444570228759995, \"variable\": \"row\", \"value\": \"792\"}, {\"component 0\": -0.21385345869906885, \"component 1\": 0.033582782739479664, \"variable\": \"row\", \"value\": \"793\"}, {\"component 0\": -0.023630337426936304, \"component 1\": -0.15846510229099828, \"variable\": \"row\", \"value\": \"794\"}, {\"component 0\": -1.8936382102697698, \"component 1\": 2.0998503733588643, \"variable\": \"row\", \"value\": \"795\"}, {\"component 0\": -0.04351146434101541, \"component 1\": 0.011944806937392525, \"variable\": \"row\", \"value\": \"796\"}, {\"component 0\": 0.06082843805431556, \"component 1\": -0.24890997841463514, \"variable\": \"row\", \"value\": \"797\"}, {\"component 0\": -0.041690326839002013, \"component 1\": -0.14263244872944286, \"variable\": \"row\", \"value\": \"798\"}, {\"component 0\": 0.13914166119108146, \"component 1\": -0.3258629579154503, \"variable\": \"row\", \"value\": \"799\"}, {\"component 0\": -0.33106547281465015, \"component 1\": 0.21948444902827952, \"variable\": \"row\", \"value\": \"800\"}, {\"component 0\": 0.11080348567032543, \"component 1\": -0.24858312012761005, \"variable\": \"row\", \"value\": \"801\"}, {\"component 0\": 0.08778808405992831, \"component 1\": -0.26879547453744507, \"variable\": \"row\", \"value\": \"802\"}, {\"component 0\": 0.09200417239931688, \"component 1\": -0.276875132629177, \"variable\": \"row\", \"value\": \"803\"}, {\"component 0\": 0.017423458625222293, \"component 1\": -0.14734215534496692, \"variable\": \"row\", \"value\": \"804\"}, {\"component 0\": -0.16019751341489016, \"component 1\": 0.009301121899424293, \"variable\": \"row\", \"value\": \"805\"}, {\"component 0\": 0.13914166119108146, \"component 1\": -0.3258629579154503, \"variable\": \"row\", \"value\": \"806\"}, {\"component 0\": 0.13914166119108146, \"component 1\": -0.3258629579154503, \"variable\": \"row\", \"value\": \"807\"}, {\"component 0\": -0.21467409552457772, \"component 1\": 0.17838549705304174, \"variable\": \"row\", \"value\": \"808\"}, {\"component 0\": -0.47283224841518917, \"component 1\": 0.3530887010188199, \"variable\": \"row\", \"value\": \"809\"}, {\"component 0\": -0.9740349584628966, \"component 1\": 0.9728524210023887, \"variable\": \"row\", \"value\": \"810\"}, {\"component 0\": 0.8321900055549593, \"component 1\": -0.6841805813549575, \"variable\": \"row\", \"value\": \"811\"}, {\"component 0\": -0.4277403042964202, \"component 1\": 0.2764974423614755, \"variable\": \"row\", \"value\": \"812\"}, {\"component 0\": -0.8520329989895262, \"component 1\": 0.8204026121226994, \"variable\": \"row\", \"value\": \"813\"}, {\"component 0\": 0.13914166119108146, \"component 1\": -0.3258629579154503, \"variable\": \"row\", \"value\": \"814\"}, {\"component 0\": -0.23398682465676227, \"component 1\": 0.07432399002370066, \"variable\": \"row\", \"value\": \"815\"}, {\"component 0\": -0.3775448243152932, \"component 1\": 0.2238767361071863, \"variable\": \"row\", \"value\": \"816\"}, {\"component 0\": -0.2548833729588164, \"component 1\": 0.07907803646532234, \"variable\": \"row\", \"value\": \"817\"}, {\"component 0\": 0.13914166119108146, \"component 1\": -0.3258629579154503, \"variable\": \"row\", \"value\": \"818\"}, {\"component 0\": -0.0461062840158136, \"component 1\": -0.12376146842397613, \"variable\": \"row\", \"value\": \"819\"}, {\"component 0\": -0.1680913373518464, \"component 1\": -0.007549303568665005, \"variable\": \"row\", \"value\": \"820\"}, {\"component 0\": 0.08841518763677704, \"component 1\": -0.08270251720091847, \"variable\": \"row\", \"value\": \"821\"}, {\"component 0\": 0.20210996352989447, \"component 1\": -0.29579226241312645, \"variable\": \"row\", \"value\": \"822\"}, {\"component 0\": -1.3714199574756327, \"component 1\": 1.4440277905018744, \"variable\": \"row\", \"value\": \"823\"}, {\"component 0\": -0.00188214922859315, \"component 1\": -0.17246545976460187, \"variable\": \"row\", \"value\": \"824\"}, {\"component 0\": 0.49669047197387284, \"component 1\": -0.46729539896458216, \"variable\": \"row\", \"value\": \"825\"}, {\"component 0\": -0.2914635615203765, \"component 1\": 0.16123345931519806, \"variable\": \"row\", \"value\": \"826\"}, {\"component 0\": 0.4536041150047674, \"component 1\": -0.44462267881344825, \"variable\": \"row\", \"value\": \"827\"}, {\"component 0\": 0.38689289740348665, \"component 1\": -0.4307244827914724, \"variable\": \"row\", \"value\": \"828\"}, {\"component 0\": -0.6053700019609013, \"component 1\": 0.5029509644644887, \"variable\": \"row\", \"value\": \"829\"}, {\"component 0\": -0.2595495397558819, \"component 1\": 0.08243358129416707, \"variable\": \"row\", \"value\": \"830\"}, {\"component 0\": -1.5892330018862888, \"component 1\": 1.7247163666330354, \"variable\": \"row\", \"value\": \"831\"}, {\"component 0\": 0.13914166119108146, \"component 1\": -0.3258629579154503, \"variable\": \"row\", \"value\": \"832\"}, {\"component 0\": -0.3509304668280304, \"component 1\": 0.3562870690232246, \"variable\": \"row\", \"value\": \"833\"}, {\"component 0\": 0.13914166119108146, \"component 1\": -0.3258629579154503, \"variable\": \"row\", \"value\": \"834\"}, {\"component 0\": 0.4217679384628688, \"component 1\": -0.4043880194403596, \"variable\": \"row\", \"value\": \"835\"}, {\"component 0\": -1.427305285354523, \"component 1\": 1.5226294184489362, \"variable\": \"row\", \"value\": \"836\"}, {\"component 0\": -0.2147645284711218, \"component 1\": 0.058195919021122894, \"variable\": \"row\", \"value\": \"837\"}, {\"component 0\": -0.045539393370921374, \"component 1\": -0.14316974887689027, \"variable\": \"row\", \"value\": \"838\"}, {\"component 0\": 0.22603481580246756, \"component 1\": -0.32531846740999554, \"variable\": \"row\", \"value\": \"839\"}, {\"component 0\": 0.11517983400496516, \"component 1\": -0.18735707511490665, \"variable\": \"row\", \"value\": \"840\"}, {\"component 0\": 1.1969715474842377, \"component 1\": -0.8010467861654925, \"variable\": \"row\", \"value\": \"841\"}, {\"component 0\": 0.13914166119108146, \"component 1\": -0.3258629579154503, \"variable\": \"row\", \"value\": \"842\"}, {\"component 0\": -0.3781432887045361, \"component 1\": 0.24336436363617545, \"variable\": \"row\", \"value\": \"843\"}, {\"component 0\": 0.06082843805431556, \"component 1\": -0.24890997841463514, \"variable\": \"row\", \"value\": \"844\"}, {\"component 0\": -0.019109131254753213, \"component 1\": -0.10532557149350073, \"variable\": \"row\", \"value\": \"845\"}, {\"component 0\": -1.5630109962345715, \"component 1\": 1.6941437132278394, \"variable\": \"row\", \"value\": \"846\"}, {\"component 0\": 1.5681964948762543, \"component 1\": -1.0026269652443551, \"variable\": \"row\", \"value\": \"847\"}, {\"component 0\": 0.274162825423119, \"component 1\": -0.388391330782133, \"variable\": \"row\", \"value\": \"848\"}, {\"component 0\": -0.4776262839141799, \"component 1\": 0.35535805828986416, \"variable\": \"row\", \"value\": \"849\"}, {\"component 0\": 0.13914166119108146, \"component 1\": -0.3258629579154503, \"variable\": \"row\", \"value\": \"850\"}, {\"component 0\": 0.12630008739149634, \"component 1\": -0.25777874948374896, \"variable\": \"row\", \"value\": \"851\"}, {\"component 0\": 0.2770696545911517, \"component 1\": -0.26319761192679153, \"variable\": \"row\", \"value\": \"852\"}, {\"component 0\": -0.22344589149084063, \"component 1\": 0.05934279851712554, \"variable\": \"row\", \"value\": \"853\"}, {\"component 0\": 0.1620805660315054, \"component 1\": -0.2873895394979943, \"variable\": \"row\", \"value\": \"854\"}, {\"component 0\": 0.9670829577753086, \"component 1\": -0.6841649945203966, \"variable\": \"row\", \"value\": \"855\"}, {\"component 0\": -0.5369147562214351, \"component 1\": 0.4082153032830594, \"variable\": \"row\", \"value\": \"856\"}, {\"component 0\": 0.13914166119108146, \"component 1\": -0.3258629579154503, \"variable\": \"row\", \"value\": \"857\"}, {\"component 0\": 0.2513948430584582, \"component 1\": -0.3311015307883296, \"variable\": \"row\", \"value\": \"858\"}, {\"component 0\": 0.002460847943440093, \"component 1\": -0.18234101183065035, \"variable\": \"row\", \"value\": \"859\"}, {\"component 0\": -0.3251485793983243, \"component 1\": 0.16122448443686493, \"variable\": \"row\", \"value\": \"860\"}, {\"component 0\": 0.9389537508646184, \"component 1\": -0.6781608646778756, \"variable\": \"row\", \"value\": \"861\"}, {\"component 0\": 0.609750155831866, \"component 1\": -0.5218481573405864, \"variable\": \"row\", \"value\": \"862\"}, {\"component 0\": 0.1441980131196729, \"component 1\": -0.23839683178433602, \"variable\": \"row\", \"value\": \"863\"}, {\"component 0\": -0.42286223924035005, \"component 1\": 0.2911698766535026, \"variable\": \"row\", \"value\": \"864\"}, {\"component 0\": 0.13914166119108146, \"component 1\": -0.3258629579154503, \"variable\": \"row\", \"value\": \"865\"}, {\"component 0\": -0.17749116160168898, \"component 1\": 0.05425396731250939, \"variable\": \"row\", \"value\": \"866\"}, {\"component 0\": -0.20831139198893914, \"component 1\": 0.024228106747561765, \"variable\": \"row\", \"value\": \"867\"}, {\"component 0\": 0.13914166119108146, \"component 1\": -0.3258629579154503, \"variable\": \"row\", \"value\": \"868\"}, {\"component 0\": -0.2904337020398722, \"component 1\": 0.1298418623471659, \"variable\": \"row\", \"value\": \"869\"}, {\"component 0\": 0.013690949262550963, \"component 1\": -0.19992215312836187, \"variable\": \"row\", \"value\": \"870\"}, {\"component 0\": -0.09805279349756148, \"component 1\": -0.047232117508534066, \"variable\": \"row\", \"value\": \"871\"}, {\"component 0\": -0.05644734834431222, \"component 1\": -0.11957159913113577, \"variable\": \"row\", \"value\": \"872\"}, {\"component 0\": 0.12161651913733784, \"component 1\": -0.26180556501422647, \"variable\": \"row\", \"value\": \"873\"}, {\"component 0\": 0.021200947975368215, \"component 1\": -0.16307981184250267, \"variable\": \"row\", \"value\": \"874\"}, {\"component 0\": -0.1087591154067847, \"component 1\": -0.016540719159922557, \"variable\": \"row\", \"value\": \"875\"}, {\"component 0\": -0.06579606011622399, \"component 1\": -0.11973987104360778, \"variable\": \"row\", \"value\": \"876\"}, {\"component 0\": -0.18514071480190658, \"component 1\": 0.0230141522652042, \"variable\": \"row\", \"value\": \"877\"}, {\"component 0\": 0.22603481580246756, \"component 1\": -0.32531846740999554, \"variable\": \"row\", \"value\": \"878\"}, {\"component 0\": -1.4354734062613392, \"component 1\": 1.6070176424963132, \"variable\": \"row\", \"value\": \"879\"}, {\"component 0\": 0.21021478958863954, \"component 1\": -0.2517292248136039, \"variable\": \"row\", \"value\": \"880\"}, {\"component 0\": 0.6463631849990745, \"component 1\": -0.5456679708162141, \"variable\": \"row\", \"value\": \"881\"}, {\"component 0\": 0.13914166119108146, \"component 1\": -0.3258629579154503, \"variable\": \"row\", \"value\": \"882\"}, {\"component 0\": 0.06082843805431556, \"component 1\": -0.24890997841463514, \"variable\": \"row\", \"value\": \"883\"}, {\"component 0\": 0.33956496571105144, \"component 1\": -0.43530397411338484, \"variable\": \"row\", \"value\": \"884\"}, {\"component 0\": 0.22389388886102243, \"component 1\": -0.2600515419303986, \"variable\": \"row\", \"value\": \"885\"}, {\"component 0\": -0.4277403042964202, \"component 1\": 0.2764974423614755, \"variable\": \"row\", \"value\": \"886\"}, {\"component 0\": -1.8936382102697698, \"component 1\": 2.0998503733588643, \"variable\": \"row\", \"value\": \"887\"}, {\"component 0\": 0.13914166119108146, \"component 1\": -0.3258629579154503, \"variable\": \"row\", \"value\": \"888\"}, {\"component 0\": 0.13914166119108146, \"component 1\": -0.3258629579154503, \"variable\": \"row\", \"value\": \"889\"}, {\"component 0\": -1.0958877586217135, \"component 1\": 1.093923885828345, \"variable\": \"row\", \"value\": \"890\"}, {\"component 0\": -1.7277665930985624, \"component 1\": 1.8939426007620772, \"variable\": \"row\", \"value\": \"891\"}, {\"component 0\": -0.13625143649693286, \"component 1\": -0.029548382693427033, \"variable\": \"row\", \"value\": \"892\"}, {\"component 0\": 0.25596688765941544, \"component 1\": -0.39179921236256937, \"variable\": \"row\", \"value\": \"893\"}, {\"component 0\": -0.8554378323111349, \"component 1\": 0.8202066663387272, \"variable\": \"row\", \"value\": \"894\"}, {\"component 0\": -0.320788180769198, \"component 1\": 0.15873129273013867, \"variable\": \"row\", \"value\": \"895\"}, {\"component 0\": -0.9543444081386678, \"component 1\": 0.9624428267789997, \"variable\": \"row\", \"value\": \"896\"}, {\"component 0\": 0.21981144065509123, \"component 1\": -0.15486096194092266, \"variable\": \"row\", \"value\": \"897\"}, {\"component 0\": 0.03517292406701143, \"component 1\": -0.17350144840796353, \"variable\": \"row\", \"value\": \"898\"}, {\"component 0\": -1.0263843232561296, \"component 1\": 1.0149749586954262, \"variable\": \"row\", \"value\": \"899\"}, {\"component 0\": -0.1227484056421683, \"component 1\": -0.046523627296369705, \"variable\": \"row\", \"value\": \"900\"}, {\"component 0\": 0.36815863785673003, \"component 1\": -0.45309720309973006, \"variable\": \"row\", \"value\": \"901\"}, {\"component 0\": 0.8953515127254855, \"component 1\": -0.5167092516838793, \"variable\": \"row\", \"value\": \"902\"}, {\"component 0\": -0.29959158476491077, \"component 1\": 0.159055790315229, \"variable\": \"row\", \"value\": \"903\"}, {\"component 0\": -1.0085990580381856, \"component 1\": 1.0322066316838003, \"variable\": \"row\", \"value\": \"904\"}, {\"component 0\": 0.29801721936577646, \"component 1\": -0.37935449309533326, \"variable\": \"row\", \"value\": \"905\"}, {\"component 0\": -0.36378526413535717, \"component 1\": 0.20678003248984178, \"variable\": \"row\", \"value\": \"906\"}, {\"component 0\": -0.7383462711792549, \"component 1\": 0.6744604420549616, \"variable\": \"row\", \"value\": \"907\"}, {\"component 0\": -0.0947825954031971, \"component 1\": -0.03836700696948637, \"variable\": \"row\", \"value\": \"908\"}, {\"component 0\": -1.1123719683421733, \"component 1\": 1.1679424494906203, \"variable\": \"row\", \"value\": \"909\"}, {\"component 0\": 0.5522890334732409, \"component 1\": -0.5117993948899938, \"variable\": \"row\", \"value\": \"910\"}, {\"component 0\": -0.21511550856050043, \"component 1\": 0.10372957281155357, \"variable\": \"row\", \"value\": \"911\"}, {\"component 0\": -0.8941133042409687, \"component 1\": 0.8576033347536374, \"variable\": \"row\", \"value\": \"912\"}, {\"component 0\": 0.04947142790256, \"component 1\": -0.22953294314260714, \"variable\": \"row\", \"value\": \"913\"}, {\"component 0\": -0.526678511155917, \"component 1\": 0.4279771152721023, \"variable\": \"row\", \"value\": \"914\"}, {\"component 0\": -0.12036125923194305, \"component 1\": -0.06684601041014165, \"variable\": \"row\", \"value\": \"915\"}, {\"component 0\": 0.13914166119108146, \"component 1\": -0.3258629579154503, \"variable\": \"row\", \"value\": \"916\"}, {\"component 0\": 0.6686374424248898, \"component 1\": -0.5664481833086294, \"variable\": \"row\", \"value\": \"917\"}, {\"component 0\": -0.0611124918620655, \"component 1\": -0.1157130555131303, \"variable\": \"row\", \"value\": \"918\"}, {\"component 0\": -0.36363732776486024, \"component 1\": 0.2604290914400966, \"variable\": \"row\", \"value\": \"919\"}, {\"component 0\": -0.3501695128161789, \"component 1\": 0.2042926380224103, \"variable\": \"row\", \"value\": \"920\"}, {\"component 0\": -1.3128280571359892, \"component 1\": 1.3555857690359046, \"variable\": \"row\", \"value\": \"921\"}, {\"component 0\": -0.8897567612149303, \"component 1\": 0.8483753008752029, \"variable\": \"row\", \"value\": \"922\"}, {\"component 0\": -0.006565717482751649, \"component 1\": -0.17649227529507935, \"variable\": \"row\", \"value\": \"923\"}, {\"component 0\": -0.21806954703845743, \"component 1\": 0.041662440831211615, \"variable\": \"row\", \"value\": \"924\"}, {\"component 0\": 0.0361958151582393, \"component 1\": -0.17786937009575168, \"variable\": \"row\", \"value\": \"925\"}, {\"component 0\": 0.049598336735204675, \"component 1\": -0.23132883711692365, \"variable\": \"row\", \"value\": \"926\"}, {\"component 0\": -0.5092111288023387, \"component 1\": 0.39853311510922246, \"variable\": \"row\", \"value\": \"927\"}, {\"component 0\": 0.005447161952762583, \"component 1\": -0.19162027401571613, \"variable\": \"row\", \"value\": \"928\"}, {\"component 0\": -0.3979179553183794, \"component 1\": 0.27597090056608414, \"variable\": \"row\", \"value\": \"929\"}, {\"component 0\": -1.8936382102697698, \"component 1\": 2.0998503733588643, \"variable\": \"row\", \"value\": \"930\"}, {\"component 0\": -0.3073404815653047, \"component 1\": 0.1598268987464957, \"variable\": \"row\", \"value\": \"931\"}, {\"component 0\": -0.33637868071743515, \"component 1\": 0.17880562573457645, \"variable\": \"row\", \"value\": \"932\"}, {\"component 0\": -0.15987255168533504, \"component 1\": -0.0072851578003945185, \"variable\": \"row\", \"value\": \"933\"}, {\"component 0\": 0.5154064174067119, \"component 1\": -0.5225252426766659, \"variable\": \"row\", \"value\": \"934\"}, {\"component 0\": -0.2743618929120633, \"component 1\": 0.12356528151177384, \"variable\": \"row\", \"value\": \"935\"}, {\"component 0\": -0.4277403042964202, \"component 1\": 0.2764974423614755, \"variable\": \"row\", \"value\": \"936\"}, {\"component 0\": -0.0057829393663483, \"component 1\": -0.17403913271800464, \"variable\": \"row\", \"value\": \"937\"}, {\"component 0\": 0.25056584454490977, \"component 1\": -0.3441370613220809, \"variable\": \"row\", \"value\": \"938\"}, {\"component 0\": 0.13914166119108146, \"component 1\": -0.3258629579154503, \"variable\": \"row\", \"value\": \"939\"}, {\"component 0\": -0.023745728409862943, \"component 1\": -0.10729515177637164, \"variable\": \"row\", \"value\": \"940\"}, {\"component 0\": -0.006565717482751649, \"component 1\": -0.17649227529507935, \"variable\": \"row\", \"value\": \"941\"}, {\"component 0\": -1.8936382102697698, \"component 1\": 2.0998503733588643, \"variable\": \"row\", \"value\": \"942\"}, {\"component 0\": -0.07177918164957933, \"component 1\": 0.1436150126668506, \"variable\": \"row\", \"value\": \"943\"}, {\"component 0\": -0.24913757730931438, \"component 1\": 0.32110857755941824, \"variable\": \"row\", \"value\": \"944\"}, {\"component 0\": 0.13914166119108146, \"component 1\": -0.3258629579154503, \"variable\": \"row\", \"value\": \"945\"}, {\"component 0\": -0.5960464015823748, \"component 1\": 0.5705403510555577, \"variable\": \"row\", \"value\": \"946\"}, {\"component 0\": -0.018658571324459416, \"component 1\": -0.16872769632988105, \"variable\": \"row\", \"value\": \"947\"}, {\"component 0\": -0.15670760523753205, \"component 1\": -0.01732394115382149, \"variable\": \"row\", \"value\": \"948\"}, {\"component 0\": -0.10611787360806844, \"component 1\": -0.04811900856892716, \"variable\": \"row\", \"value\": \"949\"}, {\"component 0\": 0.24118551872965355, \"component 1\": -0.2813538001711015, \"variable\": \"row\", \"value\": \"950\"}, {\"component 0\": -0.2857501337857137, \"component 1\": 0.1338686778776434, \"variable\": \"row\", \"value\": \"951\"}, {\"component 0\": -0.4277403042964202, \"component 1\": 0.2764974423614755, \"variable\": \"row\", \"value\": \"952\"}, {\"component 0\": -0.167326661564135, \"component 1\": 0.034900993939344094, \"variable\": \"row\", \"value\": \"953\"}, {\"component 0\": 0.13914166119108146, \"component 1\": -0.3258629579154503, \"variable\": \"row\", \"value\": \"954\"}, {\"component 0\": 0.018925462422259155, \"component 1\": -0.16371875444753498, \"variable\": \"row\", \"value\": \"955\"}, {\"component 0\": -0.4277403042964202, \"component 1\": 0.2764974423614755, \"variable\": \"row\", \"value\": \"956\"}, {\"component 0\": -0.11702272841473241, \"component 1\": -0.06446828163991904, \"variable\": \"row\", \"value\": \"957\"}, {\"component 0\": 1.4006319077728098, \"component 1\": 1.0513466521731687, \"variable\": \"row\", \"value\": \"958\"}, {\"component 0\": 0.13914166119108146, \"component 1\": -0.3258629579154503, \"variable\": \"row\", \"value\": \"959\"}, {\"component 0\": 0.23920883439315424, \"component 1\": -0.32476002605005283, \"variable\": \"row\", \"value\": \"960\"}, {\"component 0\": -0.3252215394031026, \"component 1\": 0.1702199126762832, \"variable\": \"row\", \"value\": \"961\"}, {\"component 0\": -0.864947772120502, \"component 1\": 0.8196010233362508, \"variable\": \"row\", \"value\": \"962\"}, {\"component 0\": -0.023263315619467102, \"component 1\": -0.16708206053017763, \"variable\": \"row\", \"value\": \"963\"}, {\"component 0\": -0.05013398298621342, \"component 1\": -0.12353924740306235, \"variable\": \"row\", \"value\": \"964\"}, {\"component 0\": -1.0888462583246938, \"component 1\": 1.099583245010787, \"variable\": \"row\", \"value\": \"965\"}, {\"component 0\": 0.09213108123196156, \"component 1\": -0.2786710266034935, \"variable\": \"row\", \"value\": \"966\"}, {\"component 0\": -0.3806028155046556, \"component 1\": 0.2275096170752022, \"variable\": \"row\", \"value\": \"967\"}, {\"component 0\": 0.27519332800845847, \"component 1\": -0.40081644058315713, \"variable\": \"row\", \"value\": \"968\"}, {\"component 0\": -0.1596219825213884, \"component 1\": -0.017543105997334697, \"variable\": \"row\", \"value\": \"969\"}, {\"component 0\": -0.09414839531477089, \"component 1\": -0.06476566798038635, \"variable\": \"row\", \"value\": \"970\"}, {\"component 0\": -0.2039683948169059, \"component 1\": 0.014352554681513294, \"variable\": \"row\", \"value\": \"971\"}, {\"component 0\": -0.19376429005027584, \"component 1\": 0.07295486383803644, \"variable\": \"row\", \"value\": \"972\"}, {\"component 0\": -0.2618643065029607, \"component 1\": 0.13844878207041728, \"variable\": \"row\", \"value\": \"973\"}, {\"component 0\": -0.5394451569934737, \"component 1\": 0.4066163485347982, \"variable\": \"row\", \"value\": \"974\"}, {\"component 0\": 0.12687921345869901, \"component 1\": -0.2505386692780642, \"variable\": \"row\", \"value\": \"975\"}, {\"component 0\": 0.059413750652530434, \"component 1\": -0.1584579119329909, \"variable\": \"row\", \"value\": \"976\"}, {\"component 0\": 0.7101840571842406, \"component 1\": -0.5373003213432765, \"variable\": \"row\", \"value\": \"977\"}, {\"component 0\": -1.2036953608503607, \"component 1\": 1.2534858561217017, \"variable\": \"row\", \"value\": \"978\"}, {\"component 0\": 0.06082843805431556, \"component 1\": -0.24890997841463514, \"variable\": \"row\", \"value\": \"979\"}, {\"component 0\": 0.8051703904467385, \"component 1\": -0.6160912317467379, \"variable\": \"row\", \"value\": \"980\"}, {\"component 0\": -0.5319760286758954, \"component 1\": 0.4008438935571502, \"variable\": \"row\", \"value\": \"981\"}, {\"component 0\": 0.08941254619120766, \"component 1\": -0.14873901090157993, \"variable\": \"row\", \"value\": \"982\"}, {\"component 0\": -0.4406144050969104, \"component 1\": 0.3031520769302512, \"variable\": \"row\", \"value\": \"983\"}, {\"component 0\": 0.38689289740348665, \"component 1\": -0.4307244827914724, \"variable\": \"row\", \"value\": \"984\"}, {\"component 0\": -0.10251909145720395, \"component 1\": -0.0546678948934241, \"variable\": \"row\", \"value\": \"985\"}, {\"component 0\": 0.04947142790256, \"component 1\": -0.22953294314260714, \"variable\": \"row\", \"value\": \"986\"}, {\"component 0\": 1.1246815617452204, \"component 1\": -0.8323074233577764, \"variable\": \"row\", \"value\": \"987\"}, {\"component 0\": -0.5886613997662703, \"component 1\": 0.5050239383580564, \"variable\": \"row\", \"value\": \"988\"}, {\"component 0\": 0.062049112236738986, \"component 1\": -0.03422513026811762, \"variable\": \"row\", \"value\": \"989\"}, {\"component 0\": 0.13914166119108146, \"component 1\": -0.3258629579154503, \"variable\": \"row\", \"value\": \"990\"}, {\"component 0\": 0.6208766416003823, \"component 1\": -0.571209376874348, \"variable\": \"row\", \"value\": \"991\"}, {\"component 0\": 0.41155613395367324, \"component 1\": -0.4124658922257093, \"variable\": \"row\", \"value\": \"992\"}, {\"component 0\": -0.25434725860810115, \"component 1\": 0.1296642826175461, \"variable\": \"row\", \"value\": \"993\"}, {\"component 0\": 0.9111284760052543, \"component 1\": -0.6837023439183953, \"variable\": \"row\", \"value\": \"994\"}, {\"component 0\": -0.12269170395750684, \"component 1\": -0.053317711673684626, \"variable\": \"row\", \"value\": \"995\"}, {\"component 0\": -0.21155109054604332, \"component 1\": 0.06636860527742955, \"variable\": \"row\", \"value\": \"996\"}, {\"component 0\": 0.13914166119108146, \"component 1\": -0.3258629579154503, \"variable\": \"row\", \"value\": \"997\"}, {\"component 0\": -0.21832474752675168, \"component 1\": 0.07052461366424607, \"variable\": \"row\", \"value\": \"998\"}, {\"component 0\": 0.23210697103935302, \"component 1\": -0.3781437204320232, \"variable\": \"row\", \"value\": \"999\"}, {\"component 0\": -0.16540147100499744, \"component 1\": -0.013746175304063007, \"variable\": \"row\", \"value\": \"1000\"}, {\"component 0\": -0.2954054681423491, \"component 1\": 0.14010445638604868, \"variable\": \"row\", \"value\": \"1001\"}, {\"component 0\": -0.1270347011295401, \"component 1\": -0.04344215960763615, \"variable\": \"row\", \"value\": \"1002\"}, {\"component 0\": -0.42474413666585775, \"component 1\": 0.2880790904721947, \"variable\": \"row\", \"value\": \"1003\"}, {\"component 0\": -0.9585695173809403, \"component 1\": 1.0076613869715279, \"variable\": \"column\", \"value\": \"P\\u00e9trole_Pas du tout confiance\"}, {\"component 0\": -0.11924272076195819, \"component 1\": 0.013440946110526321, \"variable\": \"column\", \"value\": \"P\\u00e9trole_Plut\\u00f4t pas confiance\"}, {\"component 0\": 0.2232394023526956, \"component 1\": -0.3650867243623068, \"variable\": \"column\", \"value\": \"P\\u00e9trole_Plut\\u00f4t confiance\"}, {\"component 0\": 1.3628215911762909, \"component 1\": -0.9236081841434572, \"variable\": \"column\", \"value\": \"P\\u00e9trole_Tout \\u00e0 fait confiance\"}, {\"component 0\": 10.381009916566297, \"component 1\": 10.646485640864505, \"variable\": \"column\", \"value\": \"P\\u00e9trole_Pas de r\\u00e9ponse\"}, {\"component 0\": -1.4202719261092391, \"component 1\": 1.5582438322745016, \"variable\": \"column\", \"value\": \"Grande distribution_Pas du tout confiance\"}, {\"component 0\": -0.30315816454274025, \"component 1\": 0.14914826871223857, \"variable\": \"column\", \"value\": \"Grande distribution_Plut\\u00f4t pas confiance\"}, {\"component 0\": 0.14806408203270513, \"component 1\": -0.2749419700027152, \"variable\": \"column\", \"value\": \"Grande distribution_Plut\\u00f4t confiance\"}, {\"component 0\": 1.2771450396058783, \"component 1\": -0.8016085157168775, \"variable\": \"column\", \"value\": \"Grande distribution_Tout \\u00e0 fait confiance\"}, {\"component 0\": 4.55388803758974, \"component 1\": 4.536686264636577, \"variable\": \"column\", \"value\": \"Grande distribution_Pas de r\\u00e9ponse\"}, {\"component 0\": -1.4372315236858593, \"component 1\": 1.7085302804082603, \"variable\": \"column\", \"value\": \"T\\u00e9l\\u00e9communications, Num\\u00e9rique_Pas du tout confiance\"}, {\"component 0\": -0.3456746247111034, \"component 1\": 0.24345019081562796, \"variable\": \"column\", \"value\": \"T\\u00e9l\\u00e9communications, Num\\u00e9rique_Plut\\u00f4t pas confiance\"}, {\"component 0\": 0.0678345982065599, \"component 1\": -0.2128367231842292, \"variable\": \"column\", \"value\": \"T\\u00e9l\\u00e9communications, Num\\u00e9rique_Plut\\u00f4t confiance\"}, {\"component 0\": 1.1633496950152238, \"component 1\": -0.8121323513697731, \"variable\": \"column\", \"value\": \"T\\u00e9l\\u00e9communications, Num\\u00e9rique_Tout \\u00e0 fait confiance\"}, {\"component 0\": 10.398029891854105, \"component 1\": 10.662235091657331, \"variable\": \"column\", \"value\": \"T\\u00e9l\\u00e9communications, Num\\u00e9rique_Pas de r\\u00e9ponse\"}, {\"component 0\": -1.4387269510202598, \"component 1\": 1.5411388132482882, \"variable\": \"column\", \"value\": \"Agro-alimentaire_Pas du tout confiance\"}, {\"component 0\": -0.32322690505697504, \"component 1\": 0.18807903966244152, \"variable\": \"column\", \"value\": \"Agro-alimentaire_Plut\\u00f4t pas confiance\"}, {\"component 0\": 0.15370760123774005, \"component 1\": -0.265688637921127, \"variable\": \"column\", \"value\": \"Agro-alimentaire_Plut\\u00f4t confiance\"}, {\"component 0\": 1.1555490408224813, \"component 1\": -0.8109676097058389, \"variable\": \"column\", \"value\": \"Agro-alimentaire_Tout \\u00e0 fait confiance\"}, {\"component 0\": 10.890175443353932, \"component 1\": 10.41043679069435, \"variable\": \"column\", \"value\": \"Agro-alimentaire_Pas de r\\u00e9ponse\"}, {\"component 0\": -1.1683737259183165, \"component 1\": 1.2127328812990454, \"variable\": \"column\", \"value\": \"M\\u00e9dicament_Pas du tout confiance\"}, {\"component 0\": -0.28927931224818926, \"component 1\": 0.15957383658574983, \"variable\": \"column\", \"value\": \"M\\u00e9dicament_Plut\\u00f4t pas confiance\"}, {\"component 0\": 0.08925923314189774, \"component 1\": -0.21775243451323456, \"variable\": \"column\", \"value\": \"M\\u00e9dicament_Plut\\u00f4t confiance\"}, {\"component 0\": 1.0299592060128249, \"component 1\": -0.7449502060200276, \"variable\": \"column\", \"value\": \"M\\u00e9dicament_Tout \\u00e0 fait confiance\"}, {\"component 0\": 5.365025839088707, \"component 1\": 6.117718173406708, \"variable\": \"column\", \"value\": \"M\\u00e9dicament_Pas de r\\u00e9ponse\"}, {\"component 0\": -1.1090739818580388, \"component 1\": 1.1307693469907334, \"variable\": \"column\", \"value\": \"Banque et Assurance_Pas du tout confiance\"}, {\"component 0\": -0.20960427759727351, \"component 1\": 0.09039485285726379, \"variable\": \"column\", \"value\": \"Banque et Assurance_Plut\\u00f4t pas confiance\"}, {\"component 0\": 0.16995616296935123, \"component 1\": -0.3012906096920245, \"variable\": \"column\", \"value\": \"Banque et Assurance_Plut\\u00f4t confiance\"}, {\"component 0\": 1.429641285248074, \"component 1\": -0.8863531416572785, \"variable\": \"column\", \"value\": \"Banque et Assurance_Tout \\u00e0 fait confiance\"}, {\"component 0\": 7.284685865847132, \"component 1\": 9.06137232395741, \"variable\": \"column\", \"value\": \"Banque et Assurance_Pas de r\\u00e9ponse\"}, {\"component 0\": -1.7486167386949807, \"component 1\": 1.9498988797491825, \"variable\": \"column\", \"value\": \"B\\u00e2timent et travaux publics_Pas du tout confiance\"}, {\"component 0\": -0.3807771477840867, \"component 1\": 0.3351717027064959, \"variable\": \"column\", \"value\": \"B\\u00e2timent et travaux publics_Plut\\u00f4t pas confiance\"}, {\"component 0\": 0.029200388786761636, \"component 1\": -0.18234525427343756, \"variable\": \"column\", \"value\": \"B\\u00e2timent et travaux publics_Plut\\u00f4t confiance\"}, {\"component 0\": 1.2145216223099953, \"component 1\": -0.5652121506721762, \"variable\": \"column\", \"value\": \"B\\u00e2timent et travaux publics_Tout \\u00e0 fait confiance\"}, {\"component 0\": 5.961498460982929, \"component 1\": 6.067643713657723, \"variable\": \"column\", \"value\": \"B\\u00e2timent et travaux publics_Pas de r\\u00e9ponse\"}, {\"component 0\": -1.6227610839702356, \"component 1\": 1.8513111876253745, \"variable\": \"column\", \"value\": \"Automobile_Pas du tout confiance\"}, {\"component 0\": -0.4664546673063856, \"component 1\": 0.3739405783128039, \"variable\": \"column\", \"value\": \"Automobile_Plut\\u00f4t pas confiance\"}, {\"component 0\": 0.06436408087137942, \"component 1\": -0.2039062464068653, \"variable\": \"column\", \"value\": \"Automobile_Plut\\u00f4t confiance\"}, {\"component 0\": 1.3107311638490386, \"component 1\": -0.6243192797595816, \"variable\": \"column\", \"value\": \"Automobile_Tout \\u00e0 fait confiance\"}, {\"component 0\": 8.647551180415306, \"component 1\": 8.991914645396758, \"variable\": \"column\", \"value\": \"Automobile_Pas de r\\u00e9ponse\"}, {\"component 0\": -1.050941521565968, \"component 1\": 1.1155126587548074, \"variable\": \"column\", \"value\": \"Nucl\\u00e9aire_Pas du tout confiance\"}, {\"component 0\": -0.18157576278217907, \"component 1\": 0.020500670566562414, \"variable\": \"column\", \"value\": \"Nucl\\u00e9aire_Plut\\u00f4t pas confiance\"}, {\"component 0\": 0.10653577188784882, \"component 1\": -0.21625439899210552, \"variable\": \"column\", \"value\": \"Nucl\\u00e9aire_Plut\\u00f4t confiance\"}, {\"component 0\": 0.7796841331842131, \"component 1\": -0.5640996570717596, \"variable\": \"column\", \"value\": \"Nucl\\u00e9aire_Tout \\u00e0 fait confiance\"}, {\"component 0\": 10.113519070769641, \"component 1\": 10.954330955016307, \"variable\": \"column\", \"value\": \"Nucl\\u00e9aire_Pas de r\\u00e9ponse\"}, {\"component 0\": -1.832843649984176, \"component 1\": 2.0861844133332954, \"variable\": \"column\", \"value\": \"A\\u00e9ronautique et a\\u00e9rospatial_Pas du tout confiance\"}, {\"component 0\": -0.4972123784684687, \"component 1\": 0.43983492382727346, \"variable\": \"column\", \"value\": \"A\\u00e9ronautique et a\\u00e9rospatial_Plut\\u00f4t pas confiance\"}, {\"component 0\": -0.0496619382354089, \"component 1\": -0.10451151824840275, \"variable\": \"column\", \"value\": \"A\\u00e9ronautique et a\\u00e9rospatial_Plut\\u00f4t confiance\"}, {\"component 0\": 0.6989132376570238, \"component 1\": -0.5225258826147938, \"variable\": \"column\", \"value\": \"A\\u00e9ronautique et a\\u00e9rospatial_Tout \\u00e0 fait confiance\"}, {\"component 0\": 10.19967248557196, \"component 1\": 10.84098816928028, \"variable\": \"column\", \"value\": \"A\\u00e9ronautique et a\\u00e9rospatial_Pas de r\\u00e9ponse\"}, {\"component 0\": -1.460541101189259, \"component 1\": 1.627511667770401, \"variable\": \"column\", \"value\": \"Chimie_Pas du tout confiance\"}, {\"component 0\": -0.32804409338538953, \"component 1\": 0.1972189470184969, \"variable\": \"column\", \"value\": \"Chimie_Plut\\u00f4t pas confiance\"}, {\"component 0\": 0.11789696319291196, \"component 1\": -0.26084475014852787, \"variable\": \"column\", \"value\": \"Chimie_Plut\\u00f4t confiance\"}, {\"component 0\": 1.2051142481044586, \"component 1\": -0.760794574530784, \"variable\": \"column\", \"value\": \"Chimie_Tout \\u00e0 fait confiance\"}, {\"component 0\": 8.39180087458774, \"component 1\": 8.443527120954696, \"variable\": \"column\", \"value\": \"Chimie_Pas de r\\u00e9ponse\"}]}}, {\"mode\": \"vega-lite\"});\n",
       "</script>"
      ],
      "text/plain": [
       "alt.Chart(...)"
      ]
     },
     "execution_count": 276,
     "metadata": {},
     "output_type": "execute_result"
    }
   ],
   "source": [
    "# Application de l'ACM\n",
    "acm_ItemsEnt = prince.MCA(n_components = 2)\n",
    "\n",
    "acm_ItemsEnt = acm_ItemsEnt.fit(data[ItemsEnt])\n",
    "\n",
    "ax = acm_ItemsEnt.plot(X=data[ItemsEnt])\n",
    "ax"
   ]
  },
  {
   "cell_type": "code",
   "execution_count": 277,
   "metadata": {},
   "outputs": [
    {
     "data": {
      "text/html": [
       "<div>\n",
       "<style scoped>\n",
       "    .dataframe tbody tr th:only-of-type {\n",
       "        vertical-align: middle;\n",
       "    }\n",
       "\n",
       "    .dataframe tbody tr th {\n",
       "        vertical-align: top;\n",
       "    }\n",
       "\n",
       "    .dataframe thead th {\n",
       "        text-align: right;\n",
       "    }\n",
       "</style>\n",
       "<table border=\"1\" class=\"dataframe\">\n",
       "  <thead>\n",
       "    <tr style=\"text-align: right;\">\n",
       "      <th></th>\n",
       "      <th>0</th>\n",
       "      <th>1</th>\n",
       "    </tr>\n",
       "  </thead>\n",
       "  <tbody>\n",
       "    <tr>\n",
       "      <th>Pétrole_Pas du tout confiance</th>\n",
       "      <td>-0.958570</td>\n",
       "      <td>1.007661</td>\n",
       "    </tr>\n",
       "    <tr>\n",
       "      <th>Pétrole_Plutôt pas confiance</th>\n",
       "      <td>-0.119243</td>\n",
       "      <td>0.013441</td>\n",
       "    </tr>\n",
       "    <tr>\n",
       "      <th>Pétrole_Plutôt confiance</th>\n",
       "      <td>0.223239</td>\n",
       "      <td>-0.365087</td>\n",
       "    </tr>\n",
       "    <tr>\n",
       "      <th>Pétrole_Tout à fait confiance</th>\n",
       "      <td>1.362822</td>\n",
       "      <td>-0.923608</td>\n",
       "    </tr>\n",
       "    <tr>\n",
       "      <th>Pétrole_Pas de réponse</th>\n",
       "      <td>10.381010</td>\n",
       "      <td>10.646486</td>\n",
       "    </tr>\n",
       "    <tr>\n",
       "      <th>Grande distribution_Pas du tout confiance</th>\n",
       "      <td>-1.420272</td>\n",
       "      <td>1.558244</td>\n",
       "    </tr>\n",
       "    <tr>\n",
       "      <th>Grande distribution_Plutôt pas confiance</th>\n",
       "      <td>-0.303158</td>\n",
       "      <td>0.149148</td>\n",
       "    </tr>\n",
       "    <tr>\n",
       "      <th>Grande distribution_Plutôt confiance</th>\n",
       "      <td>0.148064</td>\n",
       "      <td>-0.274942</td>\n",
       "    </tr>\n",
       "    <tr>\n",
       "      <th>Grande distribution_Tout à fait confiance</th>\n",
       "      <td>1.277145</td>\n",
       "      <td>-0.801609</td>\n",
       "    </tr>\n",
       "    <tr>\n",
       "      <th>Grande distribution_Pas de réponse</th>\n",
       "      <td>4.553888</td>\n",
       "      <td>4.536686</td>\n",
       "    </tr>\n",
       "    <tr>\n",
       "      <th>Télécommunications, Numérique_Pas du tout confiance</th>\n",
       "      <td>-1.437232</td>\n",
       "      <td>1.708530</td>\n",
       "    </tr>\n",
       "    <tr>\n",
       "      <th>Télécommunications, Numérique_Plutôt pas confiance</th>\n",
       "      <td>-0.345675</td>\n",
       "      <td>0.243450</td>\n",
       "    </tr>\n",
       "    <tr>\n",
       "      <th>Télécommunications, Numérique_Plutôt confiance</th>\n",
       "      <td>0.067835</td>\n",
       "      <td>-0.212837</td>\n",
       "    </tr>\n",
       "    <tr>\n",
       "      <th>Télécommunications, Numérique_Tout à fait confiance</th>\n",
       "      <td>1.163350</td>\n",
       "      <td>-0.812132</td>\n",
       "    </tr>\n",
       "    <tr>\n",
       "      <th>Télécommunications, Numérique_Pas de réponse</th>\n",
       "      <td>10.398030</td>\n",
       "      <td>10.662235</td>\n",
       "    </tr>\n",
       "    <tr>\n",
       "      <th>Agro-alimentaire_Pas du tout confiance</th>\n",
       "      <td>-1.438727</td>\n",
       "      <td>1.541139</td>\n",
       "    </tr>\n",
       "    <tr>\n",
       "      <th>Agro-alimentaire_Plutôt pas confiance</th>\n",
       "      <td>-0.323227</td>\n",
       "      <td>0.188079</td>\n",
       "    </tr>\n",
       "    <tr>\n",
       "      <th>Agro-alimentaire_Plutôt confiance</th>\n",
       "      <td>0.153708</td>\n",
       "      <td>-0.265689</td>\n",
       "    </tr>\n",
       "    <tr>\n",
       "      <th>Agro-alimentaire_Tout à fait confiance</th>\n",
       "      <td>1.155549</td>\n",
       "      <td>-0.810968</td>\n",
       "    </tr>\n",
       "    <tr>\n",
       "      <th>Agro-alimentaire_Pas de réponse</th>\n",
       "      <td>10.890175</td>\n",
       "      <td>10.410437</td>\n",
       "    </tr>\n",
       "    <tr>\n",
       "      <th>Médicament_Pas du tout confiance</th>\n",
       "      <td>-1.168374</td>\n",
       "      <td>1.212733</td>\n",
       "    </tr>\n",
       "    <tr>\n",
       "      <th>Médicament_Plutôt pas confiance</th>\n",
       "      <td>-0.289279</td>\n",
       "      <td>0.159574</td>\n",
       "    </tr>\n",
       "    <tr>\n",
       "      <th>Médicament_Plutôt confiance</th>\n",
       "      <td>0.089259</td>\n",
       "      <td>-0.217752</td>\n",
       "    </tr>\n",
       "    <tr>\n",
       "      <th>Médicament_Tout à fait confiance</th>\n",
       "      <td>1.029959</td>\n",
       "      <td>-0.744950</td>\n",
       "    </tr>\n",
       "    <tr>\n",
       "      <th>Médicament_Pas de réponse</th>\n",
       "      <td>5.365026</td>\n",
       "      <td>6.117718</td>\n",
       "    </tr>\n",
       "    <tr>\n",
       "      <th>Banque et Assurance_Pas du tout confiance</th>\n",
       "      <td>-1.109074</td>\n",
       "      <td>1.130769</td>\n",
       "    </tr>\n",
       "    <tr>\n",
       "      <th>Banque et Assurance_Plutôt pas confiance</th>\n",
       "      <td>-0.209604</td>\n",
       "      <td>0.090395</td>\n",
       "    </tr>\n",
       "    <tr>\n",
       "      <th>Banque et Assurance_Plutôt confiance</th>\n",
       "      <td>0.169956</td>\n",
       "      <td>-0.301291</td>\n",
       "    </tr>\n",
       "    <tr>\n",
       "      <th>Banque et Assurance_Tout à fait confiance</th>\n",
       "      <td>1.429641</td>\n",
       "      <td>-0.886353</td>\n",
       "    </tr>\n",
       "    <tr>\n",
       "      <th>Banque et Assurance_Pas de réponse</th>\n",
       "      <td>7.284686</td>\n",
       "      <td>9.061372</td>\n",
       "    </tr>\n",
       "    <tr>\n",
       "      <th>Bâtiment et travaux publics_Pas du tout confiance</th>\n",
       "      <td>-1.748617</td>\n",
       "      <td>1.949899</td>\n",
       "    </tr>\n",
       "    <tr>\n",
       "      <th>Bâtiment et travaux publics_Plutôt pas confiance</th>\n",
       "      <td>-0.380777</td>\n",
       "      <td>0.335172</td>\n",
       "    </tr>\n",
       "    <tr>\n",
       "      <th>Bâtiment et travaux publics_Plutôt confiance</th>\n",
       "      <td>0.029200</td>\n",
       "      <td>-0.182345</td>\n",
       "    </tr>\n",
       "    <tr>\n",
       "      <th>Bâtiment et travaux publics_Tout à fait confiance</th>\n",
       "      <td>1.214522</td>\n",
       "      <td>-0.565212</td>\n",
       "    </tr>\n",
       "    <tr>\n",
       "      <th>Bâtiment et travaux publics_Pas de réponse</th>\n",
       "      <td>5.961498</td>\n",
       "      <td>6.067644</td>\n",
       "    </tr>\n",
       "    <tr>\n",
       "      <th>Automobile_Pas du tout confiance</th>\n",
       "      <td>-1.622761</td>\n",
       "      <td>1.851311</td>\n",
       "    </tr>\n",
       "    <tr>\n",
       "      <th>Automobile_Plutôt pas confiance</th>\n",
       "      <td>-0.466455</td>\n",
       "      <td>0.373941</td>\n",
       "    </tr>\n",
       "    <tr>\n",
       "      <th>Automobile_Plutôt confiance</th>\n",
       "      <td>0.064364</td>\n",
       "      <td>-0.203906</td>\n",
       "    </tr>\n",
       "    <tr>\n",
       "      <th>Automobile_Tout à fait confiance</th>\n",
       "      <td>1.310731</td>\n",
       "      <td>-0.624319</td>\n",
       "    </tr>\n",
       "    <tr>\n",
       "      <th>Automobile_Pas de réponse</th>\n",
       "      <td>8.647551</td>\n",
       "      <td>8.991915</td>\n",
       "    </tr>\n",
       "    <tr>\n",
       "      <th>Nucléaire_Pas du tout confiance</th>\n",
       "      <td>-1.050942</td>\n",
       "      <td>1.115513</td>\n",
       "    </tr>\n",
       "    <tr>\n",
       "      <th>Nucléaire_Plutôt pas confiance</th>\n",
       "      <td>-0.181576</td>\n",
       "      <td>0.020501</td>\n",
       "    </tr>\n",
       "    <tr>\n",
       "      <th>Nucléaire_Plutôt confiance</th>\n",
       "      <td>0.106536</td>\n",
       "      <td>-0.216254</td>\n",
       "    </tr>\n",
       "    <tr>\n",
       "      <th>Nucléaire_Tout à fait confiance</th>\n",
       "      <td>0.779684</td>\n",
       "      <td>-0.564100</td>\n",
       "    </tr>\n",
       "    <tr>\n",
       "      <th>Nucléaire_Pas de réponse</th>\n",
       "      <td>10.113519</td>\n",
       "      <td>10.954331</td>\n",
       "    </tr>\n",
       "    <tr>\n",
       "      <th>Aéronautique et aérospatial_Pas du tout confiance</th>\n",
       "      <td>-1.832844</td>\n",
       "      <td>2.086184</td>\n",
       "    </tr>\n",
       "    <tr>\n",
       "      <th>Aéronautique et aérospatial_Plutôt pas confiance</th>\n",
       "      <td>-0.497212</td>\n",
       "      <td>0.439835</td>\n",
       "    </tr>\n",
       "    <tr>\n",
       "      <th>Aéronautique et aérospatial_Plutôt confiance</th>\n",
       "      <td>-0.049662</td>\n",
       "      <td>-0.104512</td>\n",
       "    </tr>\n",
       "    <tr>\n",
       "      <th>Aéronautique et aérospatial_Tout à fait confiance</th>\n",
       "      <td>0.698913</td>\n",
       "      <td>-0.522526</td>\n",
       "    </tr>\n",
       "    <tr>\n",
       "      <th>Aéronautique et aérospatial_Pas de réponse</th>\n",
       "      <td>10.199672</td>\n",
       "      <td>10.840988</td>\n",
       "    </tr>\n",
       "    <tr>\n",
       "      <th>Chimie_Pas du tout confiance</th>\n",
       "      <td>-1.460541</td>\n",
       "      <td>1.627512</td>\n",
       "    </tr>\n",
       "    <tr>\n",
       "      <th>Chimie_Plutôt pas confiance</th>\n",
       "      <td>-0.328044</td>\n",
       "      <td>0.197219</td>\n",
       "    </tr>\n",
       "    <tr>\n",
       "      <th>Chimie_Plutôt confiance</th>\n",
       "      <td>0.117897</td>\n",
       "      <td>-0.260845</td>\n",
       "    </tr>\n",
       "    <tr>\n",
       "      <th>Chimie_Tout à fait confiance</th>\n",
       "      <td>1.205114</td>\n",
       "      <td>-0.760795</td>\n",
       "    </tr>\n",
       "    <tr>\n",
       "      <th>Chimie_Pas de réponse</th>\n",
       "      <td>8.391801</td>\n",
       "      <td>8.443527</td>\n",
       "    </tr>\n",
       "  </tbody>\n",
       "</table>\n",
       "</div>"
      ],
      "text/plain": [
       "                                                            0          1\n",
       "Pétrole_Pas du tout confiance                       -0.958570   1.007661\n",
       "Pétrole_Plutôt pas confiance                        -0.119243   0.013441\n",
       "Pétrole_Plutôt confiance                             0.223239  -0.365087\n",
       "Pétrole_Tout à fait confiance                        1.362822  -0.923608\n",
       "Pétrole_Pas de réponse                              10.381010  10.646486\n",
       "Grande distribution_Pas du tout confiance           -1.420272   1.558244\n",
       "Grande distribution_Plutôt pas confiance            -0.303158   0.149148\n",
       "Grande distribution_Plutôt confiance                 0.148064  -0.274942\n",
       "Grande distribution_Tout à fait confiance            1.277145  -0.801609\n",
       "Grande distribution_Pas de réponse                   4.553888   4.536686\n",
       "Télécommunications, Numérique_Pas du tout confi...  -1.437232   1.708530\n",
       "Télécommunications, Numérique_Plutôt pas confiance  -0.345675   0.243450\n",
       "Télécommunications, Numérique_Plutôt confiance       0.067835  -0.212837\n",
       "Télécommunications, Numérique_Tout à fait confi...   1.163350  -0.812132\n",
       "Télécommunications, Numérique_Pas de réponse        10.398030  10.662235\n",
       "Agro-alimentaire_Pas du tout confiance              -1.438727   1.541139\n",
       "Agro-alimentaire_Plutôt pas confiance               -0.323227   0.188079\n",
       "Agro-alimentaire_Plutôt confiance                    0.153708  -0.265689\n",
       "Agro-alimentaire_Tout à fait confiance               1.155549  -0.810968\n",
       "Agro-alimentaire_Pas de réponse                     10.890175  10.410437\n",
       "Médicament_Pas du tout confiance                    -1.168374   1.212733\n",
       "Médicament_Plutôt pas confiance                     -0.289279   0.159574\n",
       "Médicament_Plutôt confiance                          0.089259  -0.217752\n",
       "Médicament_Tout à fait confiance                     1.029959  -0.744950\n",
       "Médicament_Pas de réponse                            5.365026   6.117718\n",
       "Banque et Assurance_Pas du tout confiance           -1.109074   1.130769\n",
       "Banque et Assurance_Plutôt pas confiance            -0.209604   0.090395\n",
       "Banque et Assurance_Plutôt confiance                 0.169956  -0.301291\n",
       "Banque et Assurance_Tout à fait confiance            1.429641  -0.886353\n",
       "Banque et Assurance_Pas de réponse                   7.284686   9.061372\n",
       "Bâtiment et travaux publics_Pas du tout confiance   -1.748617   1.949899\n",
       "Bâtiment et travaux publics_Plutôt pas confiance    -0.380777   0.335172\n",
       "Bâtiment et travaux publics_Plutôt confiance         0.029200  -0.182345\n",
       "Bâtiment et travaux publics_Tout à fait confiance    1.214522  -0.565212\n",
       "Bâtiment et travaux publics_Pas de réponse           5.961498   6.067644\n",
       "Automobile_Pas du tout confiance                    -1.622761   1.851311\n",
       "Automobile_Plutôt pas confiance                     -0.466455   0.373941\n",
       "Automobile_Plutôt confiance                          0.064364  -0.203906\n",
       "Automobile_Tout à fait confiance                     1.310731  -0.624319\n",
       "Automobile_Pas de réponse                            8.647551   8.991915\n",
       "Nucléaire_Pas du tout confiance                     -1.050942   1.115513\n",
       "Nucléaire_Plutôt pas confiance                      -0.181576   0.020501\n",
       "Nucléaire_Plutôt confiance                           0.106536  -0.216254\n",
       "Nucléaire_Tout à fait confiance                      0.779684  -0.564100\n",
       "Nucléaire_Pas de réponse                            10.113519  10.954331\n",
       "Aéronautique et aérospatial_Pas du tout confiance   -1.832844   2.086184\n",
       "Aéronautique et aérospatial_Plutôt pas confiance    -0.497212   0.439835\n",
       "Aéronautique et aérospatial_Plutôt confiance        -0.049662  -0.104512\n",
       "Aéronautique et aérospatial_Tout à fait confiance    0.698913  -0.522526\n",
       "Aéronautique et aérospatial_Pas de réponse          10.199672  10.840988\n",
       "Chimie_Pas du tout confiance                        -1.460541   1.627512\n",
       "Chimie_Plutôt pas confiance                         -0.328044   0.197219\n",
       "Chimie_Plutôt confiance                              0.117897  -0.260845\n",
       "Chimie_Tout à fait confiance                         1.205114  -0.760795\n",
       "Chimie_Pas de réponse                                8.391801   8.443527"
      ]
     },
     "execution_count": 277,
     "metadata": {},
     "output_type": "execute_result"
    }
   ],
   "source": [
    "acm_Ent =acm_ItemsEnt.column_coordinates(data[ItemsEnt])\n",
    "acm_Ent"
   ]
  },
  {
   "cell_type": "code",
   "execution_count": 278,
   "metadata": {},
   "outputs": [
    {
     "data": {
      "text/html": [
       "<div>\n",
       "<style scoped>\n",
       "    .dataframe tbody tr th:only-of-type {\n",
       "        vertical-align: middle;\n",
       "    }\n",
       "\n",
       "    .dataframe tbody tr th {\n",
       "        vertical-align: top;\n",
       "    }\n",
       "\n",
       "    .dataframe thead th {\n",
       "        text-align: right;\n",
       "    }\n",
       "</style>\n",
       "<table border=\"1\" class=\"dataframe\">\n",
       "  <thead>\n",
       "    <tr style=\"text-align: right;\">\n",
       "      <th></th>\n",
       "      <th>Variable</th>\n",
       "      <th>Compoenent 0(13.40%)</th>\n",
       "      <th>Componenet 1(13.21%)</th>\n",
       "    </tr>\n",
       "  </thead>\n",
       "  <tbody>\n",
       "    <tr>\n",
       "      <th>0</th>\n",
       "      <td>Pétrole_Pas du tout confiance</td>\n",
       "      <td>-0.958570</td>\n",
       "      <td>1.007661</td>\n",
       "    </tr>\n",
       "    <tr>\n",
       "      <th>1</th>\n",
       "      <td>Pétrole_Plutôt pas confiance</td>\n",
       "      <td>-0.119243</td>\n",
       "      <td>0.013441</td>\n",
       "    </tr>\n",
       "    <tr>\n",
       "      <th>2</th>\n",
       "      <td>Pétrole_Plutôt confiance</td>\n",
       "      <td>0.223239</td>\n",
       "      <td>-0.365087</td>\n",
       "    </tr>\n",
       "    <tr>\n",
       "      <th>3</th>\n",
       "      <td>Pétrole_Tout à fait confiance</td>\n",
       "      <td>1.362822</td>\n",
       "      <td>-0.923608</td>\n",
       "    </tr>\n",
       "    <tr>\n",
       "      <th>4</th>\n",
       "      <td>Pétrole_Pas de réponse</td>\n",
       "      <td>10.381010</td>\n",
       "      <td>10.646486</td>\n",
       "    </tr>\n",
       "    <tr>\n",
       "      <th>5</th>\n",
       "      <td>Grande distribution_Pas du tout confiance</td>\n",
       "      <td>-1.420272</td>\n",
       "      <td>1.558244</td>\n",
       "    </tr>\n",
       "    <tr>\n",
       "      <th>6</th>\n",
       "      <td>Grande distribution_Plutôt pas confiance</td>\n",
       "      <td>-0.303158</td>\n",
       "      <td>0.149148</td>\n",
       "    </tr>\n",
       "    <tr>\n",
       "      <th>7</th>\n",
       "      <td>Grande distribution_Plutôt confiance</td>\n",
       "      <td>0.148064</td>\n",
       "      <td>-0.274942</td>\n",
       "    </tr>\n",
       "    <tr>\n",
       "      <th>8</th>\n",
       "      <td>Grande distribution_Tout à fait confiance</td>\n",
       "      <td>1.277145</td>\n",
       "      <td>-0.801609</td>\n",
       "    </tr>\n",
       "    <tr>\n",
       "      <th>9</th>\n",
       "      <td>Grande distribution_Pas de réponse</td>\n",
       "      <td>4.553888</td>\n",
       "      <td>4.536686</td>\n",
       "    </tr>\n",
       "    <tr>\n",
       "      <th>10</th>\n",
       "      <td>Télécommunications, Numérique_Pas du tout conf...</td>\n",
       "      <td>-1.437232</td>\n",
       "      <td>1.708530</td>\n",
       "    </tr>\n",
       "    <tr>\n",
       "      <th>11</th>\n",
       "      <td>Télécommunications, Numérique_Plutôt pas confi...</td>\n",
       "      <td>-0.345675</td>\n",
       "      <td>0.243450</td>\n",
       "    </tr>\n",
       "    <tr>\n",
       "      <th>12</th>\n",
       "      <td>Télécommunications, Numérique_Plutôt confiance</td>\n",
       "      <td>0.067835</td>\n",
       "      <td>-0.212837</td>\n",
       "    </tr>\n",
       "    <tr>\n",
       "      <th>13</th>\n",
       "      <td>Télécommunications, Numérique_Tout à fait conf...</td>\n",
       "      <td>1.163350</td>\n",
       "      <td>-0.812132</td>\n",
       "    </tr>\n",
       "    <tr>\n",
       "      <th>14</th>\n",
       "      <td>Télécommunications, Numérique_Pas de réponse</td>\n",
       "      <td>10.398030</td>\n",
       "      <td>10.662235</td>\n",
       "    </tr>\n",
       "    <tr>\n",
       "      <th>15</th>\n",
       "      <td>Agro-alimentaire_Pas du tout confiance</td>\n",
       "      <td>-1.438727</td>\n",
       "      <td>1.541139</td>\n",
       "    </tr>\n",
       "    <tr>\n",
       "      <th>16</th>\n",
       "      <td>Agro-alimentaire_Plutôt pas confiance</td>\n",
       "      <td>-0.323227</td>\n",
       "      <td>0.188079</td>\n",
       "    </tr>\n",
       "    <tr>\n",
       "      <th>17</th>\n",
       "      <td>Agro-alimentaire_Plutôt confiance</td>\n",
       "      <td>0.153708</td>\n",
       "      <td>-0.265689</td>\n",
       "    </tr>\n",
       "    <tr>\n",
       "      <th>18</th>\n",
       "      <td>Agro-alimentaire_Tout à fait confiance</td>\n",
       "      <td>1.155549</td>\n",
       "      <td>-0.810968</td>\n",
       "    </tr>\n",
       "    <tr>\n",
       "      <th>19</th>\n",
       "      <td>Agro-alimentaire_Pas de réponse</td>\n",
       "      <td>10.890175</td>\n",
       "      <td>10.410437</td>\n",
       "    </tr>\n",
       "    <tr>\n",
       "      <th>20</th>\n",
       "      <td>Médicament_Pas du tout confiance</td>\n",
       "      <td>-1.168374</td>\n",
       "      <td>1.212733</td>\n",
       "    </tr>\n",
       "    <tr>\n",
       "      <th>21</th>\n",
       "      <td>Médicament_Plutôt pas confiance</td>\n",
       "      <td>-0.289279</td>\n",
       "      <td>0.159574</td>\n",
       "    </tr>\n",
       "    <tr>\n",
       "      <th>22</th>\n",
       "      <td>Médicament_Plutôt confiance</td>\n",
       "      <td>0.089259</td>\n",
       "      <td>-0.217752</td>\n",
       "    </tr>\n",
       "    <tr>\n",
       "      <th>23</th>\n",
       "      <td>Médicament_Tout à fait confiance</td>\n",
       "      <td>1.029959</td>\n",
       "      <td>-0.744950</td>\n",
       "    </tr>\n",
       "    <tr>\n",
       "      <th>24</th>\n",
       "      <td>Médicament_Pas de réponse</td>\n",
       "      <td>5.365026</td>\n",
       "      <td>6.117718</td>\n",
       "    </tr>\n",
       "    <tr>\n",
       "      <th>25</th>\n",
       "      <td>Banque et Assurance_Pas du tout confiance</td>\n",
       "      <td>-1.109074</td>\n",
       "      <td>1.130769</td>\n",
       "    </tr>\n",
       "    <tr>\n",
       "      <th>26</th>\n",
       "      <td>Banque et Assurance_Plutôt pas confiance</td>\n",
       "      <td>-0.209604</td>\n",
       "      <td>0.090395</td>\n",
       "    </tr>\n",
       "    <tr>\n",
       "      <th>27</th>\n",
       "      <td>Banque et Assurance_Plutôt confiance</td>\n",
       "      <td>0.169956</td>\n",
       "      <td>-0.301291</td>\n",
       "    </tr>\n",
       "    <tr>\n",
       "      <th>28</th>\n",
       "      <td>Banque et Assurance_Tout à fait confiance</td>\n",
       "      <td>1.429641</td>\n",
       "      <td>-0.886353</td>\n",
       "    </tr>\n",
       "    <tr>\n",
       "      <th>29</th>\n",
       "      <td>Banque et Assurance_Pas de réponse</td>\n",
       "      <td>7.284686</td>\n",
       "      <td>9.061372</td>\n",
       "    </tr>\n",
       "    <tr>\n",
       "      <th>30</th>\n",
       "      <td>Bâtiment et travaux publics_Pas du tout confiance</td>\n",
       "      <td>-1.748617</td>\n",
       "      <td>1.949899</td>\n",
       "    </tr>\n",
       "    <tr>\n",
       "      <th>31</th>\n",
       "      <td>Bâtiment et travaux publics_Plutôt pas confiance</td>\n",
       "      <td>-0.380777</td>\n",
       "      <td>0.335172</td>\n",
       "    </tr>\n",
       "    <tr>\n",
       "      <th>32</th>\n",
       "      <td>Bâtiment et travaux publics_Plutôt confiance</td>\n",
       "      <td>0.029200</td>\n",
       "      <td>-0.182345</td>\n",
       "    </tr>\n",
       "    <tr>\n",
       "      <th>33</th>\n",
       "      <td>Bâtiment et travaux publics_Tout à fait confiance</td>\n",
       "      <td>1.214522</td>\n",
       "      <td>-0.565212</td>\n",
       "    </tr>\n",
       "    <tr>\n",
       "      <th>34</th>\n",
       "      <td>Bâtiment et travaux publics_Pas de réponse</td>\n",
       "      <td>5.961498</td>\n",
       "      <td>6.067644</td>\n",
       "    </tr>\n",
       "    <tr>\n",
       "      <th>35</th>\n",
       "      <td>Automobile_Pas du tout confiance</td>\n",
       "      <td>-1.622761</td>\n",
       "      <td>1.851311</td>\n",
       "    </tr>\n",
       "    <tr>\n",
       "      <th>36</th>\n",
       "      <td>Automobile_Plutôt pas confiance</td>\n",
       "      <td>-0.466455</td>\n",
       "      <td>0.373941</td>\n",
       "    </tr>\n",
       "    <tr>\n",
       "      <th>37</th>\n",
       "      <td>Automobile_Plutôt confiance</td>\n",
       "      <td>0.064364</td>\n",
       "      <td>-0.203906</td>\n",
       "    </tr>\n",
       "    <tr>\n",
       "      <th>38</th>\n",
       "      <td>Automobile_Tout à fait confiance</td>\n",
       "      <td>1.310731</td>\n",
       "      <td>-0.624319</td>\n",
       "    </tr>\n",
       "    <tr>\n",
       "      <th>39</th>\n",
       "      <td>Automobile_Pas de réponse</td>\n",
       "      <td>8.647551</td>\n",
       "      <td>8.991915</td>\n",
       "    </tr>\n",
       "    <tr>\n",
       "      <th>40</th>\n",
       "      <td>Nucléaire_Pas du tout confiance</td>\n",
       "      <td>-1.050942</td>\n",
       "      <td>1.115513</td>\n",
       "    </tr>\n",
       "    <tr>\n",
       "      <th>41</th>\n",
       "      <td>Nucléaire_Plutôt pas confiance</td>\n",
       "      <td>-0.181576</td>\n",
       "      <td>0.020501</td>\n",
       "    </tr>\n",
       "    <tr>\n",
       "      <th>42</th>\n",
       "      <td>Nucléaire_Plutôt confiance</td>\n",
       "      <td>0.106536</td>\n",
       "      <td>-0.216254</td>\n",
       "    </tr>\n",
       "    <tr>\n",
       "      <th>43</th>\n",
       "      <td>Nucléaire_Tout à fait confiance</td>\n",
       "      <td>0.779684</td>\n",
       "      <td>-0.564100</td>\n",
       "    </tr>\n",
       "    <tr>\n",
       "      <th>44</th>\n",
       "      <td>Nucléaire_Pas de réponse</td>\n",
       "      <td>10.113519</td>\n",
       "      <td>10.954331</td>\n",
       "    </tr>\n",
       "    <tr>\n",
       "      <th>45</th>\n",
       "      <td>Aéronautique et aérospatial_Pas du tout confiance</td>\n",
       "      <td>-1.832844</td>\n",
       "      <td>2.086184</td>\n",
       "    </tr>\n",
       "    <tr>\n",
       "      <th>46</th>\n",
       "      <td>Aéronautique et aérospatial_Plutôt pas confiance</td>\n",
       "      <td>-0.497212</td>\n",
       "      <td>0.439835</td>\n",
       "    </tr>\n",
       "    <tr>\n",
       "      <th>47</th>\n",
       "      <td>Aéronautique et aérospatial_Plutôt confiance</td>\n",
       "      <td>-0.049662</td>\n",
       "      <td>-0.104512</td>\n",
       "    </tr>\n",
       "    <tr>\n",
       "      <th>48</th>\n",
       "      <td>Aéronautique et aérospatial_Tout à fait confiance</td>\n",
       "      <td>0.698913</td>\n",
       "      <td>-0.522526</td>\n",
       "    </tr>\n",
       "    <tr>\n",
       "      <th>49</th>\n",
       "      <td>Aéronautique et aérospatial_Pas de réponse</td>\n",
       "      <td>10.199672</td>\n",
       "      <td>10.840988</td>\n",
       "    </tr>\n",
       "    <tr>\n",
       "      <th>50</th>\n",
       "      <td>Chimie_Pas du tout confiance</td>\n",
       "      <td>-1.460541</td>\n",
       "      <td>1.627512</td>\n",
       "    </tr>\n",
       "    <tr>\n",
       "      <th>51</th>\n",
       "      <td>Chimie_Plutôt pas confiance</td>\n",
       "      <td>-0.328044</td>\n",
       "      <td>0.197219</td>\n",
       "    </tr>\n",
       "    <tr>\n",
       "      <th>52</th>\n",
       "      <td>Chimie_Plutôt confiance</td>\n",
       "      <td>0.117897</td>\n",
       "      <td>-0.260845</td>\n",
       "    </tr>\n",
       "    <tr>\n",
       "      <th>53</th>\n",
       "      <td>Chimie_Tout à fait confiance</td>\n",
       "      <td>1.205114</td>\n",
       "      <td>-0.760795</td>\n",
       "    </tr>\n",
       "    <tr>\n",
       "      <th>54</th>\n",
       "      <td>Chimie_Pas de réponse</td>\n",
       "      <td>8.391801</td>\n",
       "      <td>8.443527</td>\n",
       "    </tr>\n",
       "  </tbody>\n",
       "</table>\n",
       "</div>"
      ],
      "text/plain": [
       "                                             Variable  Compoenent 0(13.40%)  \\\n",
       "0                       Pétrole_Pas du tout confiance             -0.958570   \n",
       "1                        Pétrole_Plutôt pas confiance             -0.119243   \n",
       "2                            Pétrole_Plutôt confiance              0.223239   \n",
       "3                       Pétrole_Tout à fait confiance              1.362822   \n",
       "4                              Pétrole_Pas de réponse             10.381010   \n",
       "5           Grande distribution_Pas du tout confiance             -1.420272   \n",
       "6            Grande distribution_Plutôt pas confiance             -0.303158   \n",
       "7                Grande distribution_Plutôt confiance              0.148064   \n",
       "8           Grande distribution_Tout à fait confiance              1.277145   \n",
       "9                  Grande distribution_Pas de réponse              4.553888   \n",
       "10  Télécommunications, Numérique_Pas du tout conf...             -1.437232   \n",
       "11  Télécommunications, Numérique_Plutôt pas confi...             -0.345675   \n",
       "12     Télécommunications, Numérique_Plutôt confiance              0.067835   \n",
       "13  Télécommunications, Numérique_Tout à fait conf...              1.163350   \n",
       "14       Télécommunications, Numérique_Pas de réponse             10.398030   \n",
       "15             Agro-alimentaire_Pas du tout confiance             -1.438727   \n",
       "16              Agro-alimentaire_Plutôt pas confiance             -0.323227   \n",
       "17                  Agro-alimentaire_Plutôt confiance              0.153708   \n",
       "18             Agro-alimentaire_Tout à fait confiance              1.155549   \n",
       "19                    Agro-alimentaire_Pas de réponse             10.890175   \n",
       "20                   Médicament_Pas du tout confiance             -1.168374   \n",
       "21                    Médicament_Plutôt pas confiance             -0.289279   \n",
       "22                        Médicament_Plutôt confiance              0.089259   \n",
       "23                   Médicament_Tout à fait confiance              1.029959   \n",
       "24                          Médicament_Pas de réponse              5.365026   \n",
       "25          Banque et Assurance_Pas du tout confiance             -1.109074   \n",
       "26           Banque et Assurance_Plutôt pas confiance             -0.209604   \n",
       "27               Banque et Assurance_Plutôt confiance              0.169956   \n",
       "28          Banque et Assurance_Tout à fait confiance              1.429641   \n",
       "29                 Banque et Assurance_Pas de réponse              7.284686   \n",
       "30  Bâtiment et travaux publics_Pas du tout confiance             -1.748617   \n",
       "31   Bâtiment et travaux publics_Plutôt pas confiance             -0.380777   \n",
       "32       Bâtiment et travaux publics_Plutôt confiance              0.029200   \n",
       "33  Bâtiment et travaux publics_Tout à fait confiance              1.214522   \n",
       "34         Bâtiment et travaux publics_Pas de réponse              5.961498   \n",
       "35                   Automobile_Pas du tout confiance             -1.622761   \n",
       "36                    Automobile_Plutôt pas confiance             -0.466455   \n",
       "37                        Automobile_Plutôt confiance              0.064364   \n",
       "38                   Automobile_Tout à fait confiance              1.310731   \n",
       "39                          Automobile_Pas de réponse              8.647551   \n",
       "40                    Nucléaire_Pas du tout confiance             -1.050942   \n",
       "41                     Nucléaire_Plutôt pas confiance             -0.181576   \n",
       "42                         Nucléaire_Plutôt confiance              0.106536   \n",
       "43                    Nucléaire_Tout à fait confiance              0.779684   \n",
       "44                           Nucléaire_Pas de réponse             10.113519   \n",
       "45  Aéronautique et aérospatial_Pas du tout confiance             -1.832844   \n",
       "46   Aéronautique et aérospatial_Plutôt pas confiance             -0.497212   \n",
       "47       Aéronautique et aérospatial_Plutôt confiance             -0.049662   \n",
       "48  Aéronautique et aérospatial_Tout à fait confiance              0.698913   \n",
       "49         Aéronautique et aérospatial_Pas de réponse             10.199672   \n",
       "50                       Chimie_Pas du tout confiance             -1.460541   \n",
       "51                        Chimie_Plutôt pas confiance             -0.328044   \n",
       "52                            Chimie_Plutôt confiance              0.117897   \n",
       "53                       Chimie_Tout à fait confiance              1.205114   \n",
       "54                              Chimie_Pas de réponse              8.391801   \n",
       "\n",
       "    Componenet 1(13.21%)  \n",
       "0               1.007661  \n",
       "1               0.013441  \n",
       "2              -0.365087  \n",
       "3              -0.923608  \n",
       "4              10.646486  \n",
       "5               1.558244  \n",
       "6               0.149148  \n",
       "7              -0.274942  \n",
       "8              -0.801609  \n",
       "9               4.536686  \n",
       "10              1.708530  \n",
       "11              0.243450  \n",
       "12             -0.212837  \n",
       "13             -0.812132  \n",
       "14             10.662235  \n",
       "15              1.541139  \n",
       "16              0.188079  \n",
       "17             -0.265689  \n",
       "18             -0.810968  \n",
       "19             10.410437  \n",
       "20              1.212733  \n",
       "21              0.159574  \n",
       "22             -0.217752  \n",
       "23             -0.744950  \n",
       "24              6.117718  \n",
       "25              1.130769  \n",
       "26              0.090395  \n",
       "27             -0.301291  \n",
       "28             -0.886353  \n",
       "29              9.061372  \n",
       "30              1.949899  \n",
       "31              0.335172  \n",
       "32             -0.182345  \n",
       "33             -0.565212  \n",
       "34              6.067644  \n",
       "35              1.851311  \n",
       "36              0.373941  \n",
       "37             -0.203906  \n",
       "38             -0.624319  \n",
       "39              8.991915  \n",
       "40              1.115513  \n",
       "41              0.020501  \n",
       "42             -0.216254  \n",
       "43             -0.564100  \n",
       "44             10.954331  \n",
       "45              2.086184  \n",
       "46              0.439835  \n",
       "47             -0.104512  \n",
       "48             -0.522526  \n",
       "49             10.840988  \n",
       "50              1.627512  \n",
       "51              0.197219  \n",
       "52             -0.260845  \n",
       "53             -0.760795  \n",
       "54              8.443527  "
      ]
     },
     "execution_count": 278,
     "metadata": {},
     "output_type": "execute_result"
    }
   ],
   "source": [
    "acm_Ent.rename(columns = {0:'Compoenent 0(13.40%)', 1 : 'Componenet 1(13.21%)'}, inplace = True)\n",
    "acm_Ent\n",
    "acm_Ent = acm_Ent.reset_index()\n",
    "acm_Ent.columns = ['Variable', 'Compoenent 0(13.40%)' , 'Componenet 1(13.21%)']\n",
    "acm_Ent\n"
   ]
  },
  {
   "cell_type": "code",
   "execution_count": 279,
   "metadata": {},
   "outputs": [
    {
     "data": {
      "text/plain": [
       "Text(0.5, 1.0, 'ACM de confiance dans les entreprises')"
      ]
     },
     "execution_count": 279,
     "metadata": {},
     "output_type": "execute_result"
    },
    {
     "data": {
      "image/png": "[encoded data removed]",
      "text/plain": [
       "<Figure size 1008x1008 with 1 Axes>"
      ]
     },
     "metadata": {
      "needs_background": "light"
     },
     "output_type": "display_data"
    }
   ],
   "source": [
    "#ACM Items Ent\n",
    "\n",
    "#create scatter plot \n",
    "plt.rcParams['figure.figsize'] = [14, 14]\n",
    "x= acm_Ent['Compoenent 0(13.40%)']\n",
    "y= acm_Ent['Componenet 1(13.21%)']\n",
    "ax = acm_Ent.plot(kind='scatter', x='Compoenent 0(13.40%)', y='Componenet 1(13.21%)')\n",
    "plt.grid()\n",
    "\n",
    "#label each point in scatter plot\n",
    "annotations = acm_Ent['Variable'] \n",
    "for i, label in enumerate(annotations):\n",
    "    plt.text(x[i], y[i],label)\n",
    "\n",
    "plt.title(\"ACM de confiance dans les entreprises\")    "
   ]
  },
  {
   "cell_type": "code",
   "execution_count": null,
   "metadata": {},
   "outputs": [],
   "source": []
  }
 ],
 "metadata": {
  "kernelspec": {
   "display_name": "Python 3",
   "language": "python",
   "name": "python3"
  },
  "language_info": {
   "codemirror_mode": {
    "name": "ipython",
    "version": 3
   },
   "file_extension": ".py",
   "mimetype": "text/x-python",
   "name": "python",
   "nbconvert_exporter": "python",
   "pygments_lexer": "ipython3",
   "version": "3.8.5"
  }
 },
 "nbformat": 4,
 "nbformat_minor": 4
}
